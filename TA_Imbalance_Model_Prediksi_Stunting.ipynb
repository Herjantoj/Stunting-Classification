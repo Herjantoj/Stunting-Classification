{
  "cells": [
    {
      "cell_type": "markdown",
      "metadata": {
        "id": "vqSjnjIagxm1"
      },
      "source": [
        "#**Stunting Classification Using Random Forest and Logistic Regression**\n",
        "\n",
        "---\n",
        "\n"
      ]
    },
    {
      "cell_type": "code",
      "execution_count": null,
      "metadata": {
        "id": "Lq7Iq105qd-l"
      },
      "outputs": [],
      "source": [
        "import pandas as pd\n",
        "import numpy as np\n",
        "import tensorflow as tf"
      ]
    },
    {
      "cell_type": "code",
      "execution_count": null,
      "metadata": {
        "colab": {
          "base_uri": "https://localhost:8080/"
        },
        "id": "rJB27t0pqlQ6",
        "outputId": "644e729a-f96c-4d4a-98df-d70437a68db7"
      },
      "outputs": [
        {
          "output_type": "stream",
          "name": "stdout",
          "text": [
            "'Data Stunting.xlsx'   sample_data\n"
          ]
        }
      ],
      "source": [
        "!ls"
      ]
    },
    {
      "cell_type": "markdown",
      "metadata": {
        "id": "Ng9eUBPef0t8"
      },
      "source": [
        "# **Import Dataset**"
      ]
    },
    {
      "cell_type": "code",
      "execution_count": null,
      "metadata": {
        "colab": {
          "base_uri": "https://localhost:8080/"
        },
        "id": "fckgCyjeupCh",
        "outputId": "1c37c1df-30a6-4abf-d586-d443fa590705"
      },
      "outputs": [
        {
          "output_type": "stream",
          "name": "stdout",
          "text": [
            "Downloading...\n",
            "From: https://drive.google.com/uc?id=1U4rB8x2uZcvV9MEOB3qYPBa1LzaObUi6\n",
            "To: /content/Data Stunting.xlsx\n",
            "\r  0% 0.00/300k [00:00<?, ?B/s]\r100% 300k/300k [00:00<00:00, 82.5MB/s]\n"
          ]
        }
      ],
      "source": [
        "# from google.colab import files\n",
        "# uploaded = files.upload()\n",
        "\n",
        "!gdown 1U4rB8x2uZcvV9MEOB3qYPBa1LzaObUi6"
      ]
    },
    {
      "cell_type": "code",
      "execution_count": null,
      "metadata": {
        "id": "S0SXqY0urj4y"
      },
      "outputs": [],
      "source": [
        "# Impor dataset dari file Excel\n",
        "df = pd.read_excel('Data Stunting.xlsx')"
      ]
    },
    {
      "cell_type": "code",
      "execution_count": null,
      "metadata": {
        "colab": {
          "base_uri": "https://localhost:8080/",
          "height": 423
        },
        "id": "o1oz9qmDEebS",
        "outputId": "263d6e16-11e7-45d2-de81-9184c31a305a"
      },
      "outputs": [
        {
          "output_type": "execute_result",
          "data": {
            "text/plain": [
              "                              Nama  JK       Usia  Berat Tinggi  \\\n",
              "0            FAISAL FAKIH RUKMANA   L    2.466667    4.9     58   \n",
              "1     MUHAMMAD HAFIDZ ATHAFARIZ S   L   58.466667   17.0    109   \n",
              "2              VIONA FEBBY YASMIN   P    5.166667    7.1   68.5   \n",
              "3            GHEGHE KALISTA PUTRI   P   45.300000   13.8     95   \n",
              "4        LINGGA OKTAVIAN WIRATAMA   L   53.633333   18.6    106   \n",
              "...                            ...  ..        ...    ...    ...   \n",
              "6672                  KAUTSARRAKY   L    0.000000    3.0     50   \n",
              "6673                     ALEENA H   P    0.000000    3.0     50   \n",
              "6674                      M EMRAN   L    0.000000    3.0     50   \n",
              "6675                   REZVAN A P   L    0.000000    3.0     50   \n",
              "6676     APRIANZA QEISYAM GUNAWAN   L    0.000000    2.8     48   \n",
              "\n",
              "              Status  \n",
              "0     Tidak Stunting  \n",
              "1     Tidak Stunting  \n",
              "2     Tidak Stunting  \n",
              "3     Tidak Stunting  \n",
              "4     Tidak Stunting  \n",
              "...              ...  \n",
              "6672  Tidak Stunting  \n",
              "6673  Tidak Stunting  \n",
              "6674        Stunting  \n",
              "6675  Tidak Stunting  \n",
              "6676  Tidak Stunting  \n",
              "\n",
              "[6677 rows x 6 columns]"
            ],
            "text/html": [
              "\n",
              "  <div id=\"df-c3abc9ec-db15-4b32-b8e6-353deddd1d11\" class=\"colab-df-container\">\n",
              "    <div>\n",
              "<style scoped>\n",
              "    .dataframe tbody tr th:only-of-type {\n",
              "        vertical-align: middle;\n",
              "    }\n",
              "\n",
              "    .dataframe tbody tr th {\n",
              "        vertical-align: top;\n",
              "    }\n",
              "\n",
              "    .dataframe thead th {\n",
              "        text-align: right;\n",
              "    }\n",
              "</style>\n",
              "<table border=\"1\" class=\"dataframe\">\n",
              "  <thead>\n",
              "    <tr style=\"text-align: right;\">\n",
              "      <th></th>\n",
              "      <th>Nama</th>\n",
              "      <th>JK</th>\n",
              "      <th>Usia</th>\n",
              "      <th>Berat</th>\n",
              "      <th>Tinggi</th>\n",
              "      <th>Status</th>\n",
              "    </tr>\n",
              "  </thead>\n",
              "  <tbody>\n",
              "    <tr>\n",
              "      <th>0</th>\n",
              "      <td>FAISAL FAKIH RUKMANA</td>\n",
              "      <td>L</td>\n",
              "      <td>2.466667</td>\n",
              "      <td>4.9</td>\n",
              "      <td>58</td>\n",
              "      <td>Tidak Stunting</td>\n",
              "    </tr>\n",
              "    <tr>\n",
              "      <th>1</th>\n",
              "      <td>MUHAMMAD HAFIDZ ATHAFARIZ S</td>\n",
              "      <td>L</td>\n",
              "      <td>58.466667</td>\n",
              "      <td>17.0</td>\n",
              "      <td>109</td>\n",
              "      <td>Tidak Stunting</td>\n",
              "    </tr>\n",
              "    <tr>\n",
              "      <th>2</th>\n",
              "      <td>VIONA FEBBY YASMIN</td>\n",
              "      <td>P</td>\n",
              "      <td>5.166667</td>\n",
              "      <td>7.1</td>\n",
              "      <td>68.5</td>\n",
              "      <td>Tidak Stunting</td>\n",
              "    </tr>\n",
              "    <tr>\n",
              "      <th>3</th>\n",
              "      <td>GHEGHE KALISTA PUTRI</td>\n",
              "      <td>P</td>\n",
              "      <td>45.300000</td>\n",
              "      <td>13.8</td>\n",
              "      <td>95</td>\n",
              "      <td>Tidak Stunting</td>\n",
              "    </tr>\n",
              "    <tr>\n",
              "      <th>4</th>\n",
              "      <td>LINGGA OKTAVIAN WIRATAMA</td>\n",
              "      <td>L</td>\n",
              "      <td>53.633333</td>\n",
              "      <td>18.6</td>\n",
              "      <td>106</td>\n",
              "      <td>Tidak Stunting</td>\n",
              "    </tr>\n",
              "    <tr>\n",
              "      <th>...</th>\n",
              "      <td>...</td>\n",
              "      <td>...</td>\n",
              "      <td>...</td>\n",
              "      <td>...</td>\n",
              "      <td>...</td>\n",
              "      <td>...</td>\n",
              "    </tr>\n",
              "    <tr>\n",
              "      <th>6672</th>\n",
              "      <td>KAUTSARRAKY</td>\n",
              "      <td>L</td>\n",
              "      <td>0.000000</td>\n",
              "      <td>3.0</td>\n",
              "      <td>50</td>\n",
              "      <td>Tidak Stunting</td>\n",
              "    </tr>\n",
              "    <tr>\n",
              "      <th>6673</th>\n",
              "      <td>ALEENA H</td>\n",
              "      <td>P</td>\n",
              "      <td>0.000000</td>\n",
              "      <td>3.0</td>\n",
              "      <td>50</td>\n",
              "      <td>Tidak Stunting</td>\n",
              "    </tr>\n",
              "    <tr>\n",
              "      <th>6674</th>\n",
              "      <td>M EMRAN</td>\n",
              "      <td>L</td>\n",
              "      <td>0.000000</td>\n",
              "      <td>3.0</td>\n",
              "      <td>50</td>\n",
              "      <td>Stunting</td>\n",
              "    </tr>\n",
              "    <tr>\n",
              "      <th>6675</th>\n",
              "      <td>REZVAN A P</td>\n",
              "      <td>L</td>\n",
              "      <td>0.000000</td>\n",
              "      <td>3.0</td>\n",
              "      <td>50</td>\n",
              "      <td>Tidak Stunting</td>\n",
              "    </tr>\n",
              "    <tr>\n",
              "      <th>6676</th>\n",
              "      <td>APRIANZA QEISYAM GUNAWAN</td>\n",
              "      <td>L</td>\n",
              "      <td>0.000000</td>\n",
              "      <td>2.8</td>\n",
              "      <td>48</td>\n",
              "      <td>Tidak Stunting</td>\n",
              "    </tr>\n",
              "  </tbody>\n",
              "</table>\n",
              "<p>6677 rows × 6 columns</p>\n",
              "</div>\n",
              "    <div class=\"colab-df-buttons\">\n",
              "\n",
              "  <div class=\"colab-df-container\">\n",
              "    <button class=\"colab-df-convert\" onclick=\"convertToInteractive('df-c3abc9ec-db15-4b32-b8e6-353deddd1d11')\"\n",
              "            title=\"Convert this dataframe to an interactive table.\"\n",
              "            style=\"display:none;\">\n",
              "\n",
              "  <svg xmlns=\"http://www.w3.org/2000/svg\" height=\"24px\" viewBox=\"0 -960 960 960\">\n",
              "    <path d=\"M120-120v-720h720v720H120Zm60-500h600v-160H180v160Zm220 220h160v-160H400v160Zm0 220h160v-160H400v160ZM180-400h160v-160H180v160Zm440 0h160v-160H620v160ZM180-180h160v-160H180v160Zm440 0h160v-160H620v160Z\"/>\n",
              "  </svg>\n",
              "    </button>\n",
              "\n",
              "  <style>\n",
              "    .colab-df-container {\n",
              "      display:flex;\n",
              "      gap: 12px;\n",
              "    }\n",
              "\n",
              "    .colab-df-convert {\n",
              "      background-color: #E8F0FE;\n",
              "      border: none;\n",
              "      border-radius: 50%;\n",
              "      cursor: pointer;\n",
              "      display: none;\n",
              "      fill: #1967D2;\n",
              "      height: 32px;\n",
              "      padding: 0 0 0 0;\n",
              "      width: 32px;\n",
              "    }\n",
              "\n",
              "    .colab-df-convert:hover {\n",
              "      background-color: #E2EBFA;\n",
              "      box-shadow: 0px 1px 2px rgba(60, 64, 67, 0.3), 0px 1px 3px 1px rgba(60, 64, 67, 0.15);\n",
              "      fill: #174EA6;\n",
              "    }\n",
              "\n",
              "    .colab-df-buttons div {\n",
              "      margin-bottom: 4px;\n",
              "    }\n",
              "\n",
              "    [theme=dark] .colab-df-convert {\n",
              "      background-color: #3B4455;\n",
              "      fill: #D2E3FC;\n",
              "    }\n",
              "\n",
              "    [theme=dark] .colab-df-convert:hover {\n",
              "      background-color: #434B5C;\n",
              "      box-shadow: 0px 1px 3px 1px rgba(0, 0, 0, 0.15);\n",
              "      filter: drop-shadow(0px 1px 2px rgba(0, 0, 0, 0.3));\n",
              "      fill: #FFFFFF;\n",
              "    }\n",
              "  </style>\n",
              "\n",
              "    <script>\n",
              "      const buttonEl =\n",
              "        document.querySelector('#df-c3abc9ec-db15-4b32-b8e6-353deddd1d11 button.colab-df-convert');\n",
              "      buttonEl.style.display =\n",
              "        google.colab.kernel.accessAllowed ? 'block' : 'none';\n",
              "\n",
              "      async function convertToInteractive(key) {\n",
              "        const element = document.querySelector('#df-c3abc9ec-db15-4b32-b8e6-353deddd1d11');\n",
              "        const dataTable =\n",
              "          await google.colab.kernel.invokeFunction('convertToInteractive',\n",
              "                                                    [key], {});\n",
              "        if (!dataTable) return;\n",
              "\n",
              "        const docLinkHtml = 'Like what you see? Visit the ' +\n",
              "          '<a target=\"_blank\" href=https://colab.research.google.com/notebooks/data_table.ipynb>data table notebook</a>'\n",
              "          + ' to learn more about interactive tables.';\n",
              "        element.innerHTML = '';\n",
              "        dataTable['output_type'] = 'display_data';\n",
              "        await google.colab.output.renderOutput(dataTable, element);\n",
              "        const docLink = document.createElement('div');\n",
              "        docLink.innerHTML = docLinkHtml;\n",
              "        element.appendChild(docLink);\n",
              "      }\n",
              "    </script>\n",
              "  </div>\n",
              "\n",
              "\n",
              "<div id=\"df-ddce649d-7b05-4cfb-acc0-d43467c12bc1\">\n",
              "  <button class=\"colab-df-quickchart\" onclick=\"quickchart('df-ddce649d-7b05-4cfb-acc0-d43467c12bc1')\"\n",
              "            title=\"Suggest charts\"\n",
              "            style=\"display:none;\">\n",
              "\n",
              "<svg xmlns=\"http://www.w3.org/2000/svg\" height=\"24px\"viewBox=\"0 0 24 24\"\n",
              "     width=\"24px\">\n",
              "    <g>\n",
              "        <path d=\"M19 3H5c-1.1 0-2 .9-2 2v14c0 1.1.9 2 2 2h14c1.1 0 2-.9 2-2V5c0-1.1-.9-2-2-2zM9 17H7v-7h2v7zm4 0h-2V7h2v10zm4 0h-2v-4h2v4z\"/>\n",
              "    </g>\n",
              "</svg>\n",
              "  </button>\n",
              "\n",
              "<style>\n",
              "  .colab-df-quickchart {\n",
              "      --bg-color: #E8F0FE;\n",
              "      --fill-color: #1967D2;\n",
              "      --hover-bg-color: #E2EBFA;\n",
              "      --hover-fill-color: #174EA6;\n",
              "      --disabled-fill-color: #AAA;\n",
              "      --disabled-bg-color: #DDD;\n",
              "  }\n",
              "\n",
              "  [theme=dark] .colab-df-quickchart {\n",
              "      --bg-color: #3B4455;\n",
              "      --fill-color: #D2E3FC;\n",
              "      --hover-bg-color: #434B5C;\n",
              "      --hover-fill-color: #FFFFFF;\n",
              "      --disabled-bg-color: #3B4455;\n",
              "      --disabled-fill-color: #666;\n",
              "  }\n",
              "\n",
              "  .colab-df-quickchart {\n",
              "    background-color: var(--bg-color);\n",
              "    border: none;\n",
              "    border-radius: 50%;\n",
              "    cursor: pointer;\n",
              "    display: none;\n",
              "    fill: var(--fill-color);\n",
              "    height: 32px;\n",
              "    padding: 0;\n",
              "    width: 32px;\n",
              "  }\n",
              "\n",
              "  .colab-df-quickchart:hover {\n",
              "    background-color: var(--hover-bg-color);\n",
              "    box-shadow: 0 1px 2px rgba(60, 64, 67, 0.3), 0 1px 3px 1px rgba(60, 64, 67, 0.15);\n",
              "    fill: var(--button-hover-fill-color);\n",
              "  }\n",
              "\n",
              "  .colab-df-quickchart-complete:disabled,\n",
              "  .colab-df-quickchart-complete:disabled:hover {\n",
              "    background-color: var(--disabled-bg-color);\n",
              "    fill: var(--disabled-fill-color);\n",
              "    box-shadow: none;\n",
              "  }\n",
              "\n",
              "  .colab-df-spinner {\n",
              "    border: 2px solid var(--fill-color);\n",
              "    border-color: transparent;\n",
              "    border-bottom-color: var(--fill-color);\n",
              "    animation:\n",
              "      spin 1s steps(1) infinite;\n",
              "  }\n",
              "\n",
              "  @keyframes spin {\n",
              "    0% {\n",
              "      border-color: transparent;\n",
              "      border-bottom-color: var(--fill-color);\n",
              "      border-left-color: var(--fill-color);\n",
              "    }\n",
              "    20% {\n",
              "      border-color: transparent;\n",
              "      border-left-color: var(--fill-color);\n",
              "      border-top-color: var(--fill-color);\n",
              "    }\n",
              "    30% {\n",
              "      border-color: transparent;\n",
              "      border-left-color: var(--fill-color);\n",
              "      border-top-color: var(--fill-color);\n",
              "      border-right-color: var(--fill-color);\n",
              "    }\n",
              "    40% {\n",
              "      border-color: transparent;\n",
              "      border-right-color: var(--fill-color);\n",
              "      border-top-color: var(--fill-color);\n",
              "    }\n",
              "    60% {\n",
              "      border-color: transparent;\n",
              "      border-right-color: var(--fill-color);\n",
              "    }\n",
              "    80% {\n",
              "      border-color: transparent;\n",
              "      border-right-color: var(--fill-color);\n",
              "      border-bottom-color: var(--fill-color);\n",
              "    }\n",
              "    90% {\n",
              "      border-color: transparent;\n",
              "      border-bottom-color: var(--fill-color);\n",
              "    }\n",
              "  }\n",
              "</style>\n",
              "\n",
              "  <script>\n",
              "    async function quickchart(key) {\n",
              "      const quickchartButtonEl =\n",
              "        document.querySelector('#' + key + ' button');\n",
              "      quickchartButtonEl.disabled = true;  // To prevent multiple clicks.\n",
              "      quickchartButtonEl.classList.add('colab-df-spinner');\n",
              "      try {\n",
              "        const charts = await google.colab.kernel.invokeFunction(\n",
              "            'suggestCharts', [key], {});\n",
              "      } catch (error) {\n",
              "        console.error('Error during call to suggestCharts:', error);\n",
              "      }\n",
              "      quickchartButtonEl.classList.remove('colab-df-spinner');\n",
              "      quickchartButtonEl.classList.add('colab-df-quickchart-complete');\n",
              "    }\n",
              "    (() => {\n",
              "      let quickchartButtonEl =\n",
              "        document.querySelector('#df-ddce649d-7b05-4cfb-acc0-d43467c12bc1 button');\n",
              "      quickchartButtonEl.style.display =\n",
              "        google.colab.kernel.accessAllowed ? 'block' : 'none';\n",
              "    })();\n",
              "  </script>\n",
              "</div>\n",
              "    </div>\n",
              "  </div>\n"
            ]
          },
          "metadata": {},
          "execution_count": 5
        }
      ],
      "source": [
        "# Call dataset\n",
        "df"
      ]
    },
    {
      "cell_type": "markdown",
      "metadata": {
        "id": "TctciaNrZGhB"
      },
      "source": [
        "# **Data Cleaning**"
      ]
    },
    {
      "cell_type": "code",
      "execution_count": null,
      "metadata": {
        "colab": {
          "base_uri": "https://localhost:8080/",
          "height": 53
        },
        "id": "1J2a19OaFFLV",
        "outputId": "e1da998c-5673-46ec-db99-9d5fc88bc004"
      },
      "outputs": [
        {
          "output_type": "execute_result",
          "data": {
            "text/plain": [
              "Empty DataFrame\n",
              "Columns: [Nama, JK, Usia, Berat, Tinggi, Status]\n",
              "Index: []"
            ],
            "text/html": [
              "\n",
              "  <div id=\"df-53abb47e-8143-42c6-8071-61e23378a117\" class=\"colab-df-container\">\n",
              "    <div>\n",
              "<style scoped>\n",
              "    .dataframe tbody tr th:only-of-type {\n",
              "        vertical-align: middle;\n",
              "    }\n",
              "\n",
              "    .dataframe tbody tr th {\n",
              "        vertical-align: top;\n",
              "    }\n",
              "\n",
              "    .dataframe thead th {\n",
              "        text-align: right;\n",
              "    }\n",
              "</style>\n",
              "<table border=\"1\" class=\"dataframe\">\n",
              "  <thead>\n",
              "    <tr style=\"text-align: right;\">\n",
              "      <th></th>\n",
              "      <th>Nama</th>\n",
              "      <th>JK</th>\n",
              "      <th>Usia</th>\n",
              "      <th>Berat</th>\n",
              "      <th>Tinggi</th>\n",
              "      <th>Status</th>\n",
              "    </tr>\n",
              "  </thead>\n",
              "  <tbody>\n",
              "  </tbody>\n",
              "</table>\n",
              "</div>\n",
              "    <div class=\"colab-df-buttons\">\n",
              "\n",
              "  <div class=\"colab-df-container\">\n",
              "    <button class=\"colab-df-convert\" onclick=\"convertToInteractive('df-53abb47e-8143-42c6-8071-61e23378a117')\"\n",
              "            title=\"Convert this dataframe to an interactive table.\"\n",
              "            style=\"display:none;\">\n",
              "\n",
              "  <svg xmlns=\"http://www.w3.org/2000/svg\" height=\"24px\" viewBox=\"0 -960 960 960\">\n",
              "    <path d=\"M120-120v-720h720v720H120Zm60-500h600v-160H180v160Zm220 220h160v-160H400v160Zm0 220h160v-160H400v160ZM180-400h160v-160H180v160Zm440 0h160v-160H620v160ZM180-180h160v-160H180v160Zm440 0h160v-160H620v160Z\"/>\n",
              "  </svg>\n",
              "    </button>\n",
              "\n",
              "  <style>\n",
              "    .colab-df-container {\n",
              "      display:flex;\n",
              "      gap: 12px;\n",
              "    }\n",
              "\n",
              "    .colab-df-convert {\n",
              "      background-color: #E8F0FE;\n",
              "      border: none;\n",
              "      border-radius: 50%;\n",
              "      cursor: pointer;\n",
              "      display: none;\n",
              "      fill: #1967D2;\n",
              "      height: 32px;\n",
              "      padding: 0 0 0 0;\n",
              "      width: 32px;\n",
              "    }\n",
              "\n",
              "    .colab-df-convert:hover {\n",
              "      background-color: #E2EBFA;\n",
              "      box-shadow: 0px 1px 2px rgba(60, 64, 67, 0.3), 0px 1px 3px 1px rgba(60, 64, 67, 0.15);\n",
              "      fill: #174EA6;\n",
              "    }\n",
              "\n",
              "    .colab-df-buttons div {\n",
              "      margin-bottom: 4px;\n",
              "    }\n",
              "\n",
              "    [theme=dark] .colab-df-convert {\n",
              "      background-color: #3B4455;\n",
              "      fill: #D2E3FC;\n",
              "    }\n",
              "\n",
              "    [theme=dark] .colab-df-convert:hover {\n",
              "      background-color: #434B5C;\n",
              "      box-shadow: 0px 1px 3px 1px rgba(0, 0, 0, 0.15);\n",
              "      filter: drop-shadow(0px 1px 2px rgba(0, 0, 0, 0.3));\n",
              "      fill: #FFFFFF;\n",
              "    }\n",
              "  </style>\n",
              "\n",
              "    <script>\n",
              "      const buttonEl =\n",
              "        document.querySelector('#df-53abb47e-8143-42c6-8071-61e23378a117 button.colab-df-convert');\n",
              "      buttonEl.style.display =\n",
              "        google.colab.kernel.accessAllowed ? 'block' : 'none';\n",
              "\n",
              "      async function convertToInteractive(key) {\n",
              "        const element = document.querySelector('#df-53abb47e-8143-42c6-8071-61e23378a117');\n",
              "        const dataTable =\n",
              "          await google.colab.kernel.invokeFunction('convertToInteractive',\n",
              "                                                    [key], {});\n",
              "        if (!dataTable) return;\n",
              "\n",
              "        const docLinkHtml = 'Like what you see? Visit the ' +\n",
              "          '<a target=\"_blank\" href=https://colab.research.google.com/notebooks/data_table.ipynb>data table notebook</a>'\n",
              "          + ' to learn more about interactive tables.';\n",
              "        element.innerHTML = '';\n",
              "        dataTable['output_type'] = 'display_data';\n",
              "        await google.colab.output.renderOutput(dataTable, element);\n",
              "        const docLink = document.createElement('div');\n",
              "        docLink.innerHTML = docLinkHtml;\n",
              "        element.appendChild(docLink);\n",
              "      }\n",
              "    </script>\n",
              "  </div>\n",
              "\n",
              "    </div>\n",
              "  </div>\n"
            ]
          },
          "metadata": {},
          "execution_count": 6
        }
      ],
      "source": [
        "# Check Missing Value\n",
        "nan_data = df[df.isna().any(axis=1)]\n",
        "nan_data"
      ]
    },
    {
      "cell_type": "code",
      "execution_count": null,
      "metadata": {
        "colab": {
          "base_uri": "https://localhost:8080/"
        },
        "id": "_CPpFTQaD6Fr",
        "outputId": "3bdd92c0-388f-4798-c852-855bb1df8c8c"
      },
      "outputs": [
        {
          "output_type": "stream",
          "name": "stdout",
          "text": [
            "Nama      0\n",
            "JK        0\n",
            "Usia      0\n",
            "Berat     0\n",
            "Tinggi    0\n",
            "Status    0\n",
            "dtype: int64\n"
          ]
        }
      ],
      "source": [
        "missing_values = df.isnull().sum()\n",
        "print(missing_values)"
      ]
    },
    {
      "cell_type": "code",
      "execution_count": null,
      "metadata": {
        "colab": {
          "base_uri": "https://localhost:8080/"
        },
        "id": "a0tY21JwZ8g-",
        "outputId": "eb0e4785-0aa8-4cc7-e47f-d8d8cda1253b"
      },
      "outputs": [
        {
          "output_type": "execute_result",
          "data": {
            "text/plain": [
              "Nama       object\n",
              "JK         object\n",
              "Usia      float64\n",
              "Berat     float64\n",
              "Tinggi     object\n",
              "Status     object\n",
              "dtype: object"
            ]
          },
          "metadata": {},
          "execution_count": 8
        }
      ],
      "source": [
        "# Mengecek adakah mixed value\n",
        "df.dtypes"
      ]
    },
    {
      "cell_type": "code",
      "execution_count": null,
      "metadata": {
        "colab": {
          "base_uri": "https://localhost:8080/"
        },
        "id": "JgA7-3hI-89m",
        "outputId": "2a7f8dea-0fe6-4f1b-cec6-933a9f0d5b3e"
      },
      "outputs": [
        {
          "output_type": "stream",
          "name": "stdout",
          "text": [
            "                              Nama  JK       Usia  Berat Tinggi  \\\n",
            "0            FAISAL FAKIH RUKMANA   L    2.466667    4.9     58   \n",
            "1     MUHAMMAD HAFIDZ ATHAFARIZ S   L   58.466667   17.0    109   \n",
            "3            GHEGHE KALISTA PUTRI   P   45.300000   13.8     95   \n",
            "4        LINGGA OKTAVIAN WIRATAMA   L   53.633333   18.6    106   \n",
            "6              ASTI RAHMA SAPITRI   P   59.533333   18.5    107   \n",
            "...                            ...  ..        ...    ...    ...   \n",
            "6672                  KAUTSARRAKY   L    0.000000    3.0     50   \n",
            "6673                     ALEENA H   P    0.000000    3.0     50   \n",
            "6674                      M EMRAN   L    0.000000    3.0     50   \n",
            "6675                   REZVAN A P   L    0.000000    3.0     50   \n",
            "6676     APRIANZA QEISYAM GUNAWAN   L    0.000000    2.8     48   \n",
            "\n",
            "              Status  \n",
            "0     Tidak Stunting  \n",
            "1     Tidak Stunting  \n",
            "3     Tidak Stunting  \n",
            "4     Tidak Stunting  \n",
            "6     Tidak Stunting  \n",
            "...              ...  \n",
            "6672  Tidak Stunting  \n",
            "6673  Tidak Stunting  \n",
            "6674        Stunting  \n",
            "6675  Tidak Stunting  \n",
            "6676  Tidak Stunting  \n",
            "\n",
            "[4686 rows x 6 columns]\n"
          ]
        }
      ],
      "source": [
        "# Mengecek baris mana yang tidak bertipe float pada kolom Tinggi\n",
        "non_float_rows = df[~df['Tinggi'].apply(lambda x: isinstance(x, float))]\n",
        "print(non_float_rows)"
      ]
    },
    {
      "cell_type": "code",
      "execution_count": null,
      "metadata": {
        "id": "ZfNtMA3dEgiZ"
      },
      "outputs": [],
      "source": [
        "df['Tinggi'] = df['Tinggi'].fillna('')"
      ]
    },
    {
      "cell_type": "code",
      "execution_count": null,
      "metadata": {
        "colab": {
          "base_uri": "https://localhost:8080/"
        },
        "id": "8WcggcJLCVVe",
        "outputId": "bde0aadb-dda1-4edf-dc23-3e28753864a5"
      },
      "outputs": [
        {
          "output_type": "stream",
          "name": "stdout",
          "text": [
            "                  Nama  JK       Usia  Berat Tinggi          Status\n",
            "2087  ARKENZY ZAVIYAR   L   37.633333   13.4      -  Tidak Stunting\n"
          ]
        }
      ],
      "source": [
        "# Ketika diconvert ke float error, ternyata terdapat baris yang mengandung (-)\n",
        "strip_rows = df[df['Tinggi'].astype(str).str.contains('-')]\n",
        "print(strip_rows)"
      ]
    },
    {
      "cell_type": "code",
      "execution_count": null,
      "metadata": {
        "id": "fDu6V_eBFe5p"
      },
      "outputs": [],
      "source": [
        "df = df.drop(2087)"
      ]
    },
    {
      "cell_type": "code",
      "execution_count": null,
      "metadata": {
        "colab": {
          "base_uri": "https://localhost:8080/"
        },
        "id": "bbi1bm_LCAy1",
        "outputId": "73d38032-20a3-4aaa-9096-fee01c67fb40"
      },
      "outputs": [
        {
          "output_type": "stream",
          "name": "stdout",
          "text": [
            "float64\n"
          ]
        }
      ],
      "source": [
        "df['Tinggi'] = df['Tinggi'].astype(float)\n",
        "print(df['Tinggi'].dtype)"
      ]
    },
    {
      "cell_type": "code",
      "execution_count": null,
      "metadata": {
        "colab": {
          "base_uri": "https://localhost:8080/",
          "height": 423
        },
        "id": "Ue4TeSoMF7Ot",
        "outputId": "4f23e1ca-8d8c-42d9-8c10-f71810f35d4c"
      },
      "outputs": [
        {
          "output_type": "execute_result",
          "data": {
            "text/plain": [
              "                              Nama  JK       Usia  Berat  Tinggi  \\\n",
              "0            FAISAL FAKIH RUKMANA   L    2.466667    4.9    58.0   \n",
              "1     MUHAMMAD HAFIDZ ATHAFARIZ S   L   58.466667   17.0   109.0   \n",
              "2              VIONA FEBBY YASMIN   P    5.166667    7.1    68.5   \n",
              "3            GHEGHE KALISTA PUTRI   P   45.300000   13.8    95.0   \n",
              "4        LINGGA OKTAVIAN WIRATAMA   L   53.633333   18.6   106.0   \n",
              "...                            ...  ..        ...    ...     ...   \n",
              "6672                  KAUTSARRAKY   L    0.000000    3.0    50.0   \n",
              "6673                     ALEENA H   P    0.000000    3.0    50.0   \n",
              "6674                      M EMRAN   L    0.000000    3.0    50.0   \n",
              "6675                   REZVAN A P   L    0.000000    3.0    50.0   \n",
              "6676     APRIANZA QEISYAM GUNAWAN   L    0.000000    2.8    48.0   \n",
              "\n",
              "              Status  \n",
              "0     Tidak Stunting  \n",
              "1     Tidak Stunting  \n",
              "2     Tidak Stunting  \n",
              "3     Tidak Stunting  \n",
              "4     Tidak Stunting  \n",
              "...              ...  \n",
              "6672  Tidak Stunting  \n",
              "6673  Tidak Stunting  \n",
              "6674        Stunting  \n",
              "6675  Tidak Stunting  \n",
              "6676  Tidak Stunting  \n",
              "\n",
              "[6676 rows x 6 columns]"
            ],
            "text/html": [
              "\n",
              "  <div id=\"df-1dcad495-08ab-431f-a88d-bd141a9c2927\" class=\"colab-df-container\">\n",
              "    <div>\n",
              "<style scoped>\n",
              "    .dataframe tbody tr th:only-of-type {\n",
              "        vertical-align: middle;\n",
              "    }\n",
              "\n",
              "    .dataframe tbody tr th {\n",
              "        vertical-align: top;\n",
              "    }\n",
              "\n",
              "    .dataframe thead th {\n",
              "        text-align: right;\n",
              "    }\n",
              "</style>\n",
              "<table border=\"1\" class=\"dataframe\">\n",
              "  <thead>\n",
              "    <tr style=\"text-align: right;\">\n",
              "      <th></th>\n",
              "      <th>Nama</th>\n",
              "      <th>JK</th>\n",
              "      <th>Usia</th>\n",
              "      <th>Berat</th>\n",
              "      <th>Tinggi</th>\n",
              "      <th>Status</th>\n",
              "    </tr>\n",
              "  </thead>\n",
              "  <tbody>\n",
              "    <tr>\n",
              "      <th>0</th>\n",
              "      <td>FAISAL FAKIH RUKMANA</td>\n",
              "      <td>L</td>\n",
              "      <td>2.466667</td>\n",
              "      <td>4.9</td>\n",
              "      <td>58.0</td>\n",
              "      <td>Tidak Stunting</td>\n",
              "    </tr>\n",
              "    <tr>\n",
              "      <th>1</th>\n",
              "      <td>MUHAMMAD HAFIDZ ATHAFARIZ S</td>\n",
              "      <td>L</td>\n",
              "      <td>58.466667</td>\n",
              "      <td>17.0</td>\n",
              "      <td>109.0</td>\n",
              "      <td>Tidak Stunting</td>\n",
              "    </tr>\n",
              "    <tr>\n",
              "      <th>2</th>\n",
              "      <td>VIONA FEBBY YASMIN</td>\n",
              "      <td>P</td>\n",
              "      <td>5.166667</td>\n",
              "      <td>7.1</td>\n",
              "      <td>68.5</td>\n",
              "      <td>Tidak Stunting</td>\n",
              "    </tr>\n",
              "    <tr>\n",
              "      <th>3</th>\n",
              "      <td>GHEGHE KALISTA PUTRI</td>\n",
              "      <td>P</td>\n",
              "      <td>45.300000</td>\n",
              "      <td>13.8</td>\n",
              "      <td>95.0</td>\n",
              "      <td>Tidak Stunting</td>\n",
              "    </tr>\n",
              "    <tr>\n",
              "      <th>4</th>\n",
              "      <td>LINGGA OKTAVIAN WIRATAMA</td>\n",
              "      <td>L</td>\n",
              "      <td>53.633333</td>\n",
              "      <td>18.6</td>\n",
              "      <td>106.0</td>\n",
              "      <td>Tidak Stunting</td>\n",
              "    </tr>\n",
              "    <tr>\n",
              "      <th>...</th>\n",
              "      <td>...</td>\n",
              "      <td>...</td>\n",
              "      <td>...</td>\n",
              "      <td>...</td>\n",
              "      <td>...</td>\n",
              "      <td>...</td>\n",
              "    </tr>\n",
              "    <tr>\n",
              "      <th>6672</th>\n",
              "      <td>KAUTSARRAKY</td>\n",
              "      <td>L</td>\n",
              "      <td>0.000000</td>\n",
              "      <td>3.0</td>\n",
              "      <td>50.0</td>\n",
              "      <td>Tidak Stunting</td>\n",
              "    </tr>\n",
              "    <tr>\n",
              "      <th>6673</th>\n",
              "      <td>ALEENA H</td>\n",
              "      <td>P</td>\n",
              "      <td>0.000000</td>\n",
              "      <td>3.0</td>\n",
              "      <td>50.0</td>\n",
              "      <td>Tidak Stunting</td>\n",
              "    </tr>\n",
              "    <tr>\n",
              "      <th>6674</th>\n",
              "      <td>M EMRAN</td>\n",
              "      <td>L</td>\n",
              "      <td>0.000000</td>\n",
              "      <td>3.0</td>\n",
              "      <td>50.0</td>\n",
              "      <td>Stunting</td>\n",
              "    </tr>\n",
              "    <tr>\n",
              "      <th>6675</th>\n",
              "      <td>REZVAN A P</td>\n",
              "      <td>L</td>\n",
              "      <td>0.000000</td>\n",
              "      <td>3.0</td>\n",
              "      <td>50.0</td>\n",
              "      <td>Tidak Stunting</td>\n",
              "    </tr>\n",
              "    <tr>\n",
              "      <th>6676</th>\n",
              "      <td>APRIANZA QEISYAM GUNAWAN</td>\n",
              "      <td>L</td>\n",
              "      <td>0.000000</td>\n",
              "      <td>2.8</td>\n",
              "      <td>48.0</td>\n",
              "      <td>Tidak Stunting</td>\n",
              "    </tr>\n",
              "  </tbody>\n",
              "</table>\n",
              "<p>6676 rows × 6 columns</p>\n",
              "</div>\n",
              "    <div class=\"colab-df-buttons\">\n",
              "\n",
              "  <div class=\"colab-df-container\">\n",
              "    <button class=\"colab-df-convert\" onclick=\"convertToInteractive('df-1dcad495-08ab-431f-a88d-bd141a9c2927')\"\n",
              "            title=\"Convert this dataframe to an interactive table.\"\n",
              "            style=\"display:none;\">\n",
              "\n",
              "  <svg xmlns=\"http://www.w3.org/2000/svg\" height=\"24px\" viewBox=\"0 -960 960 960\">\n",
              "    <path d=\"M120-120v-720h720v720H120Zm60-500h600v-160H180v160Zm220 220h160v-160H400v160Zm0 220h160v-160H400v160ZM180-400h160v-160H180v160Zm440 0h160v-160H620v160ZM180-180h160v-160H180v160Zm440 0h160v-160H620v160Z\"/>\n",
              "  </svg>\n",
              "    </button>\n",
              "\n",
              "  <style>\n",
              "    .colab-df-container {\n",
              "      display:flex;\n",
              "      gap: 12px;\n",
              "    }\n",
              "\n",
              "    .colab-df-convert {\n",
              "      background-color: #E8F0FE;\n",
              "      border: none;\n",
              "      border-radius: 50%;\n",
              "      cursor: pointer;\n",
              "      display: none;\n",
              "      fill: #1967D2;\n",
              "      height: 32px;\n",
              "      padding: 0 0 0 0;\n",
              "      width: 32px;\n",
              "    }\n",
              "\n",
              "    .colab-df-convert:hover {\n",
              "      background-color: #E2EBFA;\n",
              "      box-shadow: 0px 1px 2px rgba(60, 64, 67, 0.3), 0px 1px 3px 1px rgba(60, 64, 67, 0.15);\n",
              "      fill: #174EA6;\n",
              "    }\n",
              "\n",
              "    .colab-df-buttons div {\n",
              "      margin-bottom: 4px;\n",
              "    }\n",
              "\n",
              "    [theme=dark] .colab-df-convert {\n",
              "      background-color: #3B4455;\n",
              "      fill: #D2E3FC;\n",
              "    }\n",
              "\n",
              "    [theme=dark] .colab-df-convert:hover {\n",
              "      background-color: #434B5C;\n",
              "      box-shadow: 0px 1px 3px 1px rgba(0, 0, 0, 0.15);\n",
              "      filter: drop-shadow(0px 1px 2px rgba(0, 0, 0, 0.3));\n",
              "      fill: #FFFFFF;\n",
              "    }\n",
              "  </style>\n",
              "\n",
              "    <script>\n",
              "      const buttonEl =\n",
              "        document.querySelector('#df-1dcad495-08ab-431f-a88d-bd141a9c2927 button.colab-df-convert');\n",
              "      buttonEl.style.display =\n",
              "        google.colab.kernel.accessAllowed ? 'block' : 'none';\n",
              "\n",
              "      async function convertToInteractive(key) {\n",
              "        const element = document.querySelector('#df-1dcad495-08ab-431f-a88d-bd141a9c2927');\n",
              "        const dataTable =\n",
              "          await google.colab.kernel.invokeFunction('convertToInteractive',\n",
              "                                                    [key], {});\n",
              "        if (!dataTable) return;\n",
              "\n",
              "        const docLinkHtml = 'Like what you see? Visit the ' +\n",
              "          '<a target=\"_blank\" href=https://colab.research.google.com/notebooks/data_table.ipynb>data table notebook</a>'\n",
              "          + ' to learn more about interactive tables.';\n",
              "        element.innerHTML = '';\n",
              "        dataTable['output_type'] = 'display_data';\n",
              "        await google.colab.output.renderOutput(dataTable, element);\n",
              "        const docLink = document.createElement('div');\n",
              "        docLink.innerHTML = docLinkHtml;\n",
              "        element.appendChild(docLink);\n",
              "      }\n",
              "    </script>\n",
              "  </div>\n",
              "\n",
              "\n",
              "<div id=\"df-8bb90576-7cd6-4c01-b8b0-3a35431226ab\">\n",
              "  <button class=\"colab-df-quickchart\" onclick=\"quickchart('df-8bb90576-7cd6-4c01-b8b0-3a35431226ab')\"\n",
              "            title=\"Suggest charts\"\n",
              "            style=\"display:none;\">\n",
              "\n",
              "<svg xmlns=\"http://www.w3.org/2000/svg\" height=\"24px\"viewBox=\"0 0 24 24\"\n",
              "     width=\"24px\">\n",
              "    <g>\n",
              "        <path d=\"M19 3H5c-1.1 0-2 .9-2 2v14c0 1.1.9 2 2 2h14c1.1 0 2-.9 2-2V5c0-1.1-.9-2-2-2zM9 17H7v-7h2v7zm4 0h-2V7h2v10zm4 0h-2v-4h2v4z\"/>\n",
              "    </g>\n",
              "</svg>\n",
              "  </button>\n",
              "\n",
              "<style>\n",
              "  .colab-df-quickchart {\n",
              "      --bg-color: #E8F0FE;\n",
              "      --fill-color: #1967D2;\n",
              "      --hover-bg-color: #E2EBFA;\n",
              "      --hover-fill-color: #174EA6;\n",
              "      --disabled-fill-color: #AAA;\n",
              "      --disabled-bg-color: #DDD;\n",
              "  }\n",
              "\n",
              "  [theme=dark] .colab-df-quickchart {\n",
              "      --bg-color: #3B4455;\n",
              "      --fill-color: #D2E3FC;\n",
              "      --hover-bg-color: #434B5C;\n",
              "      --hover-fill-color: #FFFFFF;\n",
              "      --disabled-bg-color: #3B4455;\n",
              "      --disabled-fill-color: #666;\n",
              "  }\n",
              "\n",
              "  .colab-df-quickchart {\n",
              "    background-color: var(--bg-color);\n",
              "    border: none;\n",
              "    border-radius: 50%;\n",
              "    cursor: pointer;\n",
              "    display: none;\n",
              "    fill: var(--fill-color);\n",
              "    height: 32px;\n",
              "    padding: 0;\n",
              "    width: 32px;\n",
              "  }\n",
              "\n",
              "  .colab-df-quickchart:hover {\n",
              "    background-color: var(--hover-bg-color);\n",
              "    box-shadow: 0 1px 2px rgba(60, 64, 67, 0.3), 0 1px 3px 1px rgba(60, 64, 67, 0.15);\n",
              "    fill: var(--button-hover-fill-color);\n",
              "  }\n",
              "\n",
              "  .colab-df-quickchart-complete:disabled,\n",
              "  .colab-df-quickchart-complete:disabled:hover {\n",
              "    background-color: var(--disabled-bg-color);\n",
              "    fill: var(--disabled-fill-color);\n",
              "    box-shadow: none;\n",
              "  }\n",
              "\n",
              "  .colab-df-spinner {\n",
              "    border: 2px solid var(--fill-color);\n",
              "    border-color: transparent;\n",
              "    border-bottom-color: var(--fill-color);\n",
              "    animation:\n",
              "      spin 1s steps(1) infinite;\n",
              "  }\n",
              "\n",
              "  @keyframes spin {\n",
              "    0% {\n",
              "      border-color: transparent;\n",
              "      border-bottom-color: var(--fill-color);\n",
              "      border-left-color: var(--fill-color);\n",
              "    }\n",
              "    20% {\n",
              "      border-color: transparent;\n",
              "      border-left-color: var(--fill-color);\n",
              "      border-top-color: var(--fill-color);\n",
              "    }\n",
              "    30% {\n",
              "      border-color: transparent;\n",
              "      border-left-color: var(--fill-color);\n",
              "      border-top-color: var(--fill-color);\n",
              "      border-right-color: var(--fill-color);\n",
              "    }\n",
              "    40% {\n",
              "      border-color: transparent;\n",
              "      border-right-color: var(--fill-color);\n",
              "      border-top-color: var(--fill-color);\n",
              "    }\n",
              "    60% {\n",
              "      border-color: transparent;\n",
              "      border-right-color: var(--fill-color);\n",
              "    }\n",
              "    80% {\n",
              "      border-color: transparent;\n",
              "      border-right-color: var(--fill-color);\n",
              "      border-bottom-color: var(--fill-color);\n",
              "    }\n",
              "    90% {\n",
              "      border-color: transparent;\n",
              "      border-bottom-color: var(--fill-color);\n",
              "    }\n",
              "  }\n",
              "</style>\n",
              "\n",
              "  <script>\n",
              "    async function quickchart(key) {\n",
              "      const quickchartButtonEl =\n",
              "        document.querySelector('#' + key + ' button');\n",
              "      quickchartButtonEl.disabled = true;  // To prevent multiple clicks.\n",
              "      quickchartButtonEl.classList.add('colab-df-spinner');\n",
              "      try {\n",
              "        const charts = await google.colab.kernel.invokeFunction(\n",
              "            'suggestCharts', [key], {});\n",
              "      } catch (error) {\n",
              "        console.error('Error during call to suggestCharts:', error);\n",
              "      }\n",
              "      quickchartButtonEl.classList.remove('colab-df-spinner');\n",
              "      quickchartButtonEl.classList.add('colab-df-quickchart-complete');\n",
              "    }\n",
              "    (() => {\n",
              "      let quickchartButtonEl =\n",
              "        document.querySelector('#df-8bb90576-7cd6-4c01-b8b0-3a35431226ab button');\n",
              "      quickchartButtonEl.style.display =\n",
              "        google.colab.kernel.accessAllowed ? 'block' : 'none';\n",
              "    })();\n",
              "  </script>\n",
              "</div>\n",
              "    </div>\n",
              "  </div>\n"
            ]
          },
          "metadata": {},
          "execution_count": 14
        }
      ],
      "source": [
        "df"
      ]
    },
    {
      "cell_type": "code",
      "execution_count": null,
      "metadata": {
        "colab": {
          "base_uri": "https://localhost:8080/",
          "height": 423
        },
        "id": "IU-1hihAcTJ5",
        "outputId": "b3b48e3c-3b34-4530-f08f-8dc365cc55cf"
      },
      "outputs": [
        {
          "output_type": "execute_result",
          "data": {
            "text/plain": [
              "      JK       Usia  Berat  Tinggi          Status\n",
              "0     L    2.466667    4.9    58.0  Tidak Stunting\n",
              "1     L   58.466667   17.0   109.0  Tidak Stunting\n",
              "2     P    5.166667    7.1    68.5  Tidak Stunting\n",
              "3     P   45.300000   13.8    95.0  Tidak Stunting\n",
              "4     L   53.633333   18.6   106.0  Tidak Stunting\n",
              "...   ..        ...    ...     ...             ...\n",
              "6672  L    0.000000    3.0    50.0  Tidak Stunting\n",
              "6673  P    0.000000    3.0    50.0  Tidak Stunting\n",
              "6674  L    0.000000    3.0    50.0        Stunting\n",
              "6675  L    0.000000    3.0    50.0  Tidak Stunting\n",
              "6676  L    0.000000    2.8    48.0  Tidak Stunting\n",
              "\n",
              "[6676 rows x 5 columns]"
            ],
            "text/html": [
              "\n",
              "  <div id=\"df-9d7aecc0-ae92-4f8b-be5d-e09e18726774\" class=\"colab-df-container\">\n",
              "    <div>\n",
              "<style scoped>\n",
              "    .dataframe tbody tr th:only-of-type {\n",
              "        vertical-align: middle;\n",
              "    }\n",
              "\n",
              "    .dataframe tbody tr th {\n",
              "        vertical-align: top;\n",
              "    }\n",
              "\n",
              "    .dataframe thead th {\n",
              "        text-align: right;\n",
              "    }\n",
              "</style>\n",
              "<table border=\"1\" class=\"dataframe\">\n",
              "  <thead>\n",
              "    <tr style=\"text-align: right;\">\n",
              "      <th></th>\n",
              "      <th>JK</th>\n",
              "      <th>Usia</th>\n",
              "      <th>Berat</th>\n",
              "      <th>Tinggi</th>\n",
              "      <th>Status</th>\n",
              "    </tr>\n",
              "  </thead>\n",
              "  <tbody>\n",
              "    <tr>\n",
              "      <th>0</th>\n",
              "      <td>L</td>\n",
              "      <td>2.466667</td>\n",
              "      <td>4.9</td>\n",
              "      <td>58.0</td>\n",
              "      <td>Tidak Stunting</td>\n",
              "    </tr>\n",
              "    <tr>\n",
              "      <th>1</th>\n",
              "      <td>L</td>\n",
              "      <td>58.466667</td>\n",
              "      <td>17.0</td>\n",
              "      <td>109.0</td>\n",
              "      <td>Tidak Stunting</td>\n",
              "    </tr>\n",
              "    <tr>\n",
              "      <th>2</th>\n",
              "      <td>P</td>\n",
              "      <td>5.166667</td>\n",
              "      <td>7.1</td>\n",
              "      <td>68.5</td>\n",
              "      <td>Tidak Stunting</td>\n",
              "    </tr>\n",
              "    <tr>\n",
              "      <th>3</th>\n",
              "      <td>P</td>\n",
              "      <td>45.300000</td>\n",
              "      <td>13.8</td>\n",
              "      <td>95.0</td>\n",
              "      <td>Tidak Stunting</td>\n",
              "    </tr>\n",
              "    <tr>\n",
              "      <th>4</th>\n",
              "      <td>L</td>\n",
              "      <td>53.633333</td>\n",
              "      <td>18.6</td>\n",
              "      <td>106.0</td>\n",
              "      <td>Tidak Stunting</td>\n",
              "    </tr>\n",
              "    <tr>\n",
              "      <th>...</th>\n",
              "      <td>...</td>\n",
              "      <td>...</td>\n",
              "      <td>...</td>\n",
              "      <td>...</td>\n",
              "      <td>...</td>\n",
              "    </tr>\n",
              "    <tr>\n",
              "      <th>6672</th>\n",
              "      <td>L</td>\n",
              "      <td>0.000000</td>\n",
              "      <td>3.0</td>\n",
              "      <td>50.0</td>\n",
              "      <td>Tidak Stunting</td>\n",
              "    </tr>\n",
              "    <tr>\n",
              "      <th>6673</th>\n",
              "      <td>P</td>\n",
              "      <td>0.000000</td>\n",
              "      <td>3.0</td>\n",
              "      <td>50.0</td>\n",
              "      <td>Tidak Stunting</td>\n",
              "    </tr>\n",
              "    <tr>\n",
              "      <th>6674</th>\n",
              "      <td>L</td>\n",
              "      <td>0.000000</td>\n",
              "      <td>3.0</td>\n",
              "      <td>50.0</td>\n",
              "      <td>Stunting</td>\n",
              "    </tr>\n",
              "    <tr>\n",
              "      <th>6675</th>\n",
              "      <td>L</td>\n",
              "      <td>0.000000</td>\n",
              "      <td>3.0</td>\n",
              "      <td>50.0</td>\n",
              "      <td>Tidak Stunting</td>\n",
              "    </tr>\n",
              "    <tr>\n",
              "      <th>6676</th>\n",
              "      <td>L</td>\n",
              "      <td>0.000000</td>\n",
              "      <td>2.8</td>\n",
              "      <td>48.0</td>\n",
              "      <td>Tidak Stunting</td>\n",
              "    </tr>\n",
              "  </tbody>\n",
              "</table>\n",
              "<p>6676 rows × 5 columns</p>\n",
              "</div>\n",
              "    <div class=\"colab-df-buttons\">\n",
              "\n",
              "  <div class=\"colab-df-container\">\n",
              "    <button class=\"colab-df-convert\" onclick=\"convertToInteractive('df-9d7aecc0-ae92-4f8b-be5d-e09e18726774')\"\n",
              "            title=\"Convert this dataframe to an interactive table.\"\n",
              "            style=\"display:none;\">\n",
              "\n",
              "  <svg xmlns=\"http://www.w3.org/2000/svg\" height=\"24px\" viewBox=\"0 -960 960 960\">\n",
              "    <path d=\"M120-120v-720h720v720H120Zm60-500h600v-160H180v160Zm220 220h160v-160H400v160Zm0 220h160v-160H400v160ZM180-400h160v-160H180v160Zm440 0h160v-160H620v160ZM180-180h160v-160H180v160Zm440 0h160v-160H620v160Z\"/>\n",
              "  </svg>\n",
              "    </button>\n",
              "\n",
              "  <style>\n",
              "    .colab-df-container {\n",
              "      display:flex;\n",
              "      gap: 12px;\n",
              "    }\n",
              "\n",
              "    .colab-df-convert {\n",
              "      background-color: #E8F0FE;\n",
              "      border: none;\n",
              "      border-radius: 50%;\n",
              "      cursor: pointer;\n",
              "      display: none;\n",
              "      fill: #1967D2;\n",
              "      height: 32px;\n",
              "      padding: 0 0 0 0;\n",
              "      width: 32px;\n",
              "    }\n",
              "\n",
              "    .colab-df-convert:hover {\n",
              "      background-color: #E2EBFA;\n",
              "      box-shadow: 0px 1px 2px rgba(60, 64, 67, 0.3), 0px 1px 3px 1px rgba(60, 64, 67, 0.15);\n",
              "      fill: #174EA6;\n",
              "    }\n",
              "\n",
              "    .colab-df-buttons div {\n",
              "      margin-bottom: 4px;\n",
              "    }\n",
              "\n",
              "    [theme=dark] .colab-df-convert {\n",
              "      background-color: #3B4455;\n",
              "      fill: #D2E3FC;\n",
              "    }\n",
              "\n",
              "    [theme=dark] .colab-df-convert:hover {\n",
              "      background-color: #434B5C;\n",
              "      box-shadow: 0px 1px 3px 1px rgba(0, 0, 0, 0.15);\n",
              "      filter: drop-shadow(0px 1px 2px rgba(0, 0, 0, 0.3));\n",
              "      fill: #FFFFFF;\n",
              "    }\n",
              "  </style>\n",
              "\n",
              "    <script>\n",
              "      const buttonEl =\n",
              "        document.querySelector('#df-9d7aecc0-ae92-4f8b-be5d-e09e18726774 button.colab-df-convert');\n",
              "      buttonEl.style.display =\n",
              "        google.colab.kernel.accessAllowed ? 'block' : 'none';\n",
              "\n",
              "      async function convertToInteractive(key) {\n",
              "        const element = document.querySelector('#df-9d7aecc0-ae92-4f8b-be5d-e09e18726774');\n",
              "        const dataTable =\n",
              "          await google.colab.kernel.invokeFunction('convertToInteractive',\n",
              "                                                    [key], {});\n",
              "        if (!dataTable) return;\n",
              "\n",
              "        const docLinkHtml = 'Like what you see? Visit the ' +\n",
              "          '<a target=\"_blank\" href=https://colab.research.google.com/notebooks/data_table.ipynb>data table notebook</a>'\n",
              "          + ' to learn more about interactive tables.';\n",
              "        element.innerHTML = '';\n",
              "        dataTable['output_type'] = 'display_data';\n",
              "        await google.colab.output.renderOutput(dataTable, element);\n",
              "        const docLink = document.createElement('div');\n",
              "        docLink.innerHTML = docLinkHtml;\n",
              "        element.appendChild(docLink);\n",
              "      }\n",
              "    </script>\n",
              "  </div>\n",
              "\n",
              "\n",
              "<div id=\"df-bf148e2d-830f-47a1-b994-10f4a4686f28\">\n",
              "  <button class=\"colab-df-quickchart\" onclick=\"quickchart('df-bf148e2d-830f-47a1-b994-10f4a4686f28')\"\n",
              "            title=\"Suggest charts\"\n",
              "            style=\"display:none;\">\n",
              "\n",
              "<svg xmlns=\"http://www.w3.org/2000/svg\" height=\"24px\"viewBox=\"0 0 24 24\"\n",
              "     width=\"24px\">\n",
              "    <g>\n",
              "        <path d=\"M19 3H5c-1.1 0-2 .9-2 2v14c0 1.1.9 2 2 2h14c1.1 0 2-.9 2-2V5c0-1.1-.9-2-2-2zM9 17H7v-7h2v7zm4 0h-2V7h2v10zm4 0h-2v-4h2v4z\"/>\n",
              "    </g>\n",
              "</svg>\n",
              "  </button>\n",
              "\n",
              "<style>\n",
              "  .colab-df-quickchart {\n",
              "      --bg-color: #E8F0FE;\n",
              "      --fill-color: #1967D2;\n",
              "      --hover-bg-color: #E2EBFA;\n",
              "      --hover-fill-color: #174EA6;\n",
              "      --disabled-fill-color: #AAA;\n",
              "      --disabled-bg-color: #DDD;\n",
              "  }\n",
              "\n",
              "  [theme=dark] .colab-df-quickchart {\n",
              "      --bg-color: #3B4455;\n",
              "      --fill-color: #D2E3FC;\n",
              "      --hover-bg-color: #434B5C;\n",
              "      --hover-fill-color: #FFFFFF;\n",
              "      --disabled-bg-color: #3B4455;\n",
              "      --disabled-fill-color: #666;\n",
              "  }\n",
              "\n",
              "  .colab-df-quickchart {\n",
              "    background-color: var(--bg-color);\n",
              "    border: none;\n",
              "    border-radius: 50%;\n",
              "    cursor: pointer;\n",
              "    display: none;\n",
              "    fill: var(--fill-color);\n",
              "    height: 32px;\n",
              "    padding: 0;\n",
              "    width: 32px;\n",
              "  }\n",
              "\n",
              "  .colab-df-quickchart:hover {\n",
              "    background-color: var(--hover-bg-color);\n",
              "    box-shadow: 0 1px 2px rgba(60, 64, 67, 0.3), 0 1px 3px 1px rgba(60, 64, 67, 0.15);\n",
              "    fill: var(--button-hover-fill-color);\n",
              "  }\n",
              "\n",
              "  .colab-df-quickchart-complete:disabled,\n",
              "  .colab-df-quickchart-complete:disabled:hover {\n",
              "    background-color: var(--disabled-bg-color);\n",
              "    fill: var(--disabled-fill-color);\n",
              "    box-shadow: none;\n",
              "  }\n",
              "\n",
              "  .colab-df-spinner {\n",
              "    border: 2px solid var(--fill-color);\n",
              "    border-color: transparent;\n",
              "    border-bottom-color: var(--fill-color);\n",
              "    animation:\n",
              "      spin 1s steps(1) infinite;\n",
              "  }\n",
              "\n",
              "  @keyframes spin {\n",
              "    0% {\n",
              "      border-color: transparent;\n",
              "      border-bottom-color: var(--fill-color);\n",
              "      border-left-color: var(--fill-color);\n",
              "    }\n",
              "    20% {\n",
              "      border-color: transparent;\n",
              "      border-left-color: var(--fill-color);\n",
              "      border-top-color: var(--fill-color);\n",
              "    }\n",
              "    30% {\n",
              "      border-color: transparent;\n",
              "      border-left-color: var(--fill-color);\n",
              "      border-top-color: var(--fill-color);\n",
              "      border-right-color: var(--fill-color);\n",
              "    }\n",
              "    40% {\n",
              "      border-color: transparent;\n",
              "      border-right-color: var(--fill-color);\n",
              "      border-top-color: var(--fill-color);\n",
              "    }\n",
              "    60% {\n",
              "      border-color: transparent;\n",
              "      border-right-color: var(--fill-color);\n",
              "    }\n",
              "    80% {\n",
              "      border-color: transparent;\n",
              "      border-right-color: var(--fill-color);\n",
              "      border-bottom-color: var(--fill-color);\n",
              "    }\n",
              "    90% {\n",
              "      border-color: transparent;\n",
              "      border-bottom-color: var(--fill-color);\n",
              "    }\n",
              "  }\n",
              "</style>\n",
              "\n",
              "  <script>\n",
              "    async function quickchart(key) {\n",
              "      const quickchartButtonEl =\n",
              "        document.querySelector('#' + key + ' button');\n",
              "      quickchartButtonEl.disabled = true;  // To prevent multiple clicks.\n",
              "      quickchartButtonEl.classList.add('colab-df-spinner');\n",
              "      try {\n",
              "        const charts = await google.colab.kernel.invokeFunction(\n",
              "            'suggestCharts', [key], {});\n",
              "      } catch (error) {\n",
              "        console.error('Error during call to suggestCharts:', error);\n",
              "      }\n",
              "      quickchartButtonEl.classList.remove('colab-df-spinner');\n",
              "      quickchartButtonEl.classList.add('colab-df-quickchart-complete');\n",
              "    }\n",
              "    (() => {\n",
              "      let quickchartButtonEl =\n",
              "        document.querySelector('#df-bf148e2d-830f-47a1-b994-10f4a4686f28 button');\n",
              "      quickchartButtonEl.style.display =\n",
              "        google.colab.kernel.accessAllowed ? 'block' : 'none';\n",
              "    })();\n",
              "  </script>\n",
              "</div>\n",
              "    </div>\n",
              "  </div>\n"
            ]
          },
          "metadata": {},
          "execution_count": 15
        }
      ],
      "source": [
        "# Menghapus kolom yang tidak dibutuhkan\n",
        "df = df.drop(['Nama'], axis=1)\n",
        "df"
      ]
    },
    {
      "cell_type": "markdown",
      "source": [
        "# Data Visualization"
      ],
      "metadata": {
        "id": "Geu2PX9EI9UP"
      }
    },
    {
      "cell_type": "code",
      "source": [
        "import matplotlib.pyplot as plt\n",
        "import seaborn as sns\n",
        "\n",
        "# Assuming your dataset is loaded into a DataFrame named 'df'\n",
        "# If not, you can load it with: df = pd.read_excel('Data Stunting.xlsx')\n",
        "\n",
        "# Create a bar plot for the 'Status' column\n",
        "plt.figure(figsize=(8, 6))\n",
        "sns.countplot(x='Status', data=df, palette='Set2')\n",
        "plt.title('Distribution of Stunting Status')\n",
        "plt.xlabel('Status')\n",
        "plt.ylabel('Count')\n",
        "\n",
        "# Display the count on top of each bar\n",
        "for index, value in enumerate(df['Status'].value_counts()):\n",
        "    plt.text(index, value, str(value), ha='center', va='bottom', fontsize=10)\n",
        "\n",
        "plt.show()\n"
      ],
      "metadata": {
        "colab": {
          "base_uri": "https://localhost:8080/",
          "height": 564
        },
        "id": "YqtlUB_RHf8h",
        "outputId": "614a0528-1215-495e-8e5e-5102182e289f"
      },
      "execution_count": null,
      "outputs": [
        {
          "output_type": "display_data",
          "data": {
            "text/plain": [
              "<Figure size 800x600 with 1 Axes>"
            ],
            "image/png": "[encoded data removed]"
          },
          "metadata": {}
        }
      ]
    },
    {
      "cell_type": "code",
      "source": [
        "# Scatter plot for 'Berat' vs 'Tinggi' with different colors for each 'Status'\n",
        "plt.figure(figsize=(10, 8))\n",
        "sns.scatterplot(x='Berat', y='Tinggi', hue='Status', data=df, palette='viridis', s=80)\n",
        "plt.title('Scatter Plot of Weight vs Height')\n",
        "plt.xlabel('Weight')\n",
        "plt.ylabel('Height')\n",
        "\n",
        "plt.legend(title='Status')\n",
        "plt.show()"
      ],
      "metadata": {
        "colab": {
          "base_uri": "https://localhost:8080/",
          "height": 718
        },
        "id": "MWPHAf-LIj94",
        "outputId": "82bdaf89-68db-4742-d1f5-4f3663d4e536"
      },
      "execution_count": null,
      "outputs": [
        {
          "output_type": "display_data",
          "data": {
            "text/plain": [
              "<Figure size 1000x800 with 1 Axes>"
            ],
            "image/png": "[encoded data removed]"
          },
          "metadata": {}
        }
      ]
    },
    {
      "cell_type": "markdown",
      "metadata": {
        "id": "DRHd5LaNfsCz"
      },
      "source": [
        "# **Data Processing**"
      ]
    },
    {
      "cell_type": "markdown",
      "metadata": {
        "id": "UyTnITVBGm2Q"
      },
      "source": [
        "**1. Mengecek Kemungkinan Imbalance Data**"
      ]
    },
    {
      "cell_type": "code",
      "execution_count": null,
      "metadata": {
        "colab": {
          "base_uri": "https://localhost:8080/"
        },
        "id": "7MTw018pQNwT",
        "outputId": "949c3d34-b485-4cca-9eb9-e0e55a28e6c0"
      },
      "outputs": [
        {
          "output_type": "stream",
          "name": "stdout",
          "text": [
            "64\n"
          ]
        }
      ],
      "source": [
        "min_label_len = len(df[df['Status']=='Stunting'])\n",
        "print(min_label_len)"
      ]
    },
    {
      "cell_type": "code",
      "execution_count": null,
      "metadata": {
        "colab": {
          "base_uri": "https://localhost:8080/"
        },
        "id": "U_ANb0TCUZ48",
        "outputId": "8a5b31d0-57e1-4c5d-e330-b311029cf389"
      },
      "outputs": [
        {
          "output_type": "stream",
          "name": "stdout",
          "text": [
            "Int64Index([   0,    1,    2,    3,    4,    5,    6,    7,    8,    9,\n",
            "            ...\n",
            "            6664, 6665, 6667, 6669, 6670, 6671, 6672, 6673, 6675, 6676],\n",
            "           dtype='int64', length=6612)\n"
          ]
        }
      ],
      "source": [
        "max_label_index = df[df['Status']=='Tidak Stunting'].index\n",
        "print(max_label_index)"
      ]
    },
    {
      "cell_type": "code",
      "execution_count": null,
      "metadata": {
        "id": "ECm862nqHEvv"
      },
      "outputs": [],
      "source": [
        "# Terjadi imbalance karena stunting sebanyak 64 data sedangkan tidak stunting 6612 data"
      ]
    },
    {
      "cell_type": "markdown",
      "metadata": {
        "id": "LDFe0zakQJyx"
      },
      "source": [
        "**2. Undersampling**"
      ]
    },
    {
      "cell_type": "code",
      "execution_count": null,
      "metadata": {
        "id": "u39EQkVwUnh9"
      },
      "outputs": [],
      "source": [
        "# # Melakukan undersampling pada label yang terbesar\n",
        "# random_max_index = np.random.choice(max_label_index,\n",
        "#                                     min_label_len,\n",
        "#                                     replace=False)\n",
        "# print(len(random_max_index))"
      ]
    },
    {
      "cell_type": "code",
      "execution_count": null,
      "metadata": {
        "id": "CB7UPMJEVaF-"
      },
      "outputs": [],
      "source": [
        "# min_label_index = df[df['Status']=='Stunting'].index\n",
        "# print(min_label_index)"
      ]
    },
    {
      "cell_type": "code",
      "execution_count": null,
      "metadata": {
        "id": "i6aoFtvlVhWl"
      },
      "outputs": [],
      "source": [
        "# under_sample_index = np.concatenate([min_label_index, random_max_index])\n",
        "# under_sample = df.loc[under_sample_index]\n",
        "# print(under_sample_index)\n",
        "\n",
        "# # Menentukan fitur dan label\n",
        "# x = under_sample.loc[:, df.columns != 'Status']\n",
        "# y = under_sample.loc[:, df.columns == 'Status']"
      ]
    },
    {
      "cell_type": "code",
      "execution_count": null,
      "metadata": {
        "id": "oOpiufE4Sggm"
      },
      "outputs": [],
      "source": [
        "# print(x)"
      ]
    },
    {
      "cell_type": "code",
      "execution_count": null,
      "metadata": {
        "id": "X1YvztNoX8og"
      },
      "outputs": [],
      "source": [
        "# print(y)"
      ]
    },
    {
      "cell_type": "markdown",
      "metadata": {
        "id": "ozks4FbILBIQ"
      },
      "source": [
        "**3. Oversample**"
      ]
    },
    {
      "cell_type": "code",
      "source": [
        "# pip install pandas scikit-learn"
      ],
      "metadata": {
        "id": "cXdnPkGMO8Wi"
      },
      "execution_count": null,
      "outputs": []
    },
    {
      "cell_type": "code",
      "source": [
        "# from imblearn.over_sampling import RandomOverSampler\n",
        "# from collections import Counter\n",
        "\n",
        "# x = df.drop('Status', axis=1)\n",
        "# y = df['Status']\n",
        "\n",
        "# # Display class distribution before oversampling\n",
        "# print(\"Class distribution before oversampling:\", Counter(y))\n",
        "\n",
        "# # Apply oversampling\n",
        "# oversampler = RandomOverSampler()\n",
        "# x_resampled, y_resampled = oversampler.fit_resample(x, y)\n",
        "\n",
        "# # Display class distribution after oversampling\n",
        "# print(\"Class distribution after oversampling:\", Counter(y_resampled))\n"
      ],
      "metadata": {
        "id": "YTBcrFdzO3fL"
      },
      "execution_count": null,
      "outputs": []
    },
    {
      "cell_type": "code",
      "source": [
        "# # Combine the oversampled features and labels into a new DataFrame\n",
        "# df_resampled = pd.concat([pd.DataFrame(x_resampled, columns=x.columns), pd.Series(y_resampled, name='Status')], axis=1)\n",
        "\n",
        "# # # Save the oversampled dataset to a new CSV file\n",
        "# # df_resampled.to_csv('path/to/oversampled/dataset.csv', index=False)\n"
      ],
      "metadata": {
        "id": "fLQ4VVxoO-Xc"
      },
      "execution_count": null,
      "outputs": []
    },
    {
      "cell_type": "code",
      "source": [
        "# df_resampled"
      ],
      "metadata": {
        "id": "sIrh9sn8QP5h"
      },
      "execution_count": null,
      "outputs": []
    },
    {
      "cell_type": "code",
      "source": [
        "# min_label_len = len(df_resampled[df_resampled['Status']=='Stunting'])\n",
        "# print(min_label_len)"
      ],
      "metadata": {
        "id": "ib0BsynTQZow"
      },
      "execution_count": null,
      "outputs": []
    },
    {
      "cell_type": "code",
      "source": [
        "# max_label_index = df_resampled[df_resampled['Status']=='Tidak Stunting'].index\n",
        "# print(max_label_index)"
      ],
      "metadata": {
        "id": "haZzg9kyQgnD"
      },
      "execution_count": null,
      "outputs": []
    },
    {
      "cell_type": "code",
      "source": [
        "# print(x_resampled)"
      ],
      "metadata": {
        "id": "BObc1HE6RApF"
      },
      "execution_count": null,
      "outputs": []
    },
    {
      "cell_type": "code",
      "source": [
        "# print(y_resampled)"
      ],
      "metadata": {
        "id": "5xMqiWiQRDLm"
      },
      "execution_count": null,
      "outputs": []
    },
    {
      "cell_type": "code",
      "source": [
        "# # Create a bar plot for the 'Status' column\n",
        "# plt.figure(figsize=(8, 6))\n",
        "# sns.countplot(x='Status', data=df_resampled, palette='Set2')\n",
        "# plt.title('Distribution of Stunting Status')\n",
        "# plt.xlabel('Status')\n",
        "# plt.ylabel('Count')\n",
        "\n",
        "# # Display the count on top of each bar\n",
        "# for index, value in enumerate(df_resampled['Status'].value_counts()):\n",
        "#     plt.text(index, value, str(value), ha='center', va='bottom', fontsize=10)\n",
        "\n",
        "# plt.show()"
      ],
      "metadata": {
        "id": "WDk9Mu8EMlP7"
      },
      "execution_count": null,
      "outputs": []
    },
    {
      "cell_type": "code",
      "source": [
        "# # Scatter plot for 'Berat' vs 'Tinggi' with different colors for each 'Status'\n",
        "# plt.figure(figsize=(10, 8))\n",
        "# sns.scatterplot(x='Berat', y='Tinggi', hue='Status', data=df_resampled, palette='viridis', s=80)\n",
        "# plt.title('Scatter Plot of Weight vs Height')\n",
        "# plt.xlabel('Weight')\n",
        "# plt.ylabel('Height')\n",
        "\n",
        "# plt.legend(title='Status')\n",
        "# plt.show()"
      ],
      "metadata": {
        "id": "Lqp4vmbSMt5D"
      },
      "execution_count": null,
      "outputs": []
    },
    {
      "cell_type": "markdown",
      "source": [
        "# TRANSFORMASI"
      ],
      "metadata": {
        "id": "L6WL_z_mO-01"
      }
    },
    {
      "cell_type": "code",
      "source": [
        "df"
      ],
      "metadata": {
        "colab": {
          "base_uri": "https://localhost:8080/",
          "height": 423
        },
        "id": "M9YE_9KNuOHW",
        "outputId": "6ba58163-6e71-4781-9c67-c37bce346cde"
      },
      "execution_count": null,
      "outputs": [
        {
          "output_type": "execute_result",
          "data": {
            "text/plain": [
              "      JK       Usia  Berat  Tinggi          Status\n",
              "0     L    2.466667    4.9    58.0  Tidak Stunting\n",
              "1     L   58.466667   17.0   109.0  Tidak Stunting\n",
              "2     P    5.166667    7.1    68.5  Tidak Stunting\n",
              "3     P   45.300000   13.8    95.0  Tidak Stunting\n",
              "4     L   53.633333   18.6   106.0  Tidak Stunting\n",
              "...   ..        ...    ...     ...             ...\n",
              "6672  L    0.000000    3.0    50.0  Tidak Stunting\n",
              "6673  P    0.000000    3.0    50.0  Tidak Stunting\n",
              "6674  L    0.000000    3.0    50.0        Stunting\n",
              "6675  L    0.000000    3.0    50.0  Tidak Stunting\n",
              "6676  L    0.000000    2.8    48.0  Tidak Stunting\n",
              "\n",
              "[6676 rows x 5 columns]"
            ],
            "text/html": [
              "\n",
              "  <div id=\"df-abe0deee-fae4-4eb9-b1e8-ac65127dc09a\" class=\"colab-df-container\">\n",
              "    <div>\n",
              "<style scoped>\n",
              "    .dataframe tbody tr th:only-of-type {\n",
              "        vertical-align: middle;\n",
              "    }\n",
              "\n",
              "    .dataframe tbody tr th {\n",
              "        vertical-align: top;\n",
              "    }\n",
              "\n",
              "    .dataframe thead th {\n",
              "        text-align: right;\n",
              "    }\n",
              "</style>\n",
              "<table border=\"1\" class=\"dataframe\">\n",
              "  <thead>\n",
              "    <tr style=\"text-align: right;\">\n",
              "      <th></th>\n",
              "      <th>JK</th>\n",
              "      <th>Usia</th>\n",
              "      <th>Berat</th>\n",
              "      <th>Tinggi</th>\n",
              "      <th>Status</th>\n",
              "    </tr>\n",
              "  </thead>\n",
              "  <tbody>\n",
              "    <tr>\n",
              "      <th>0</th>\n",
              "      <td>L</td>\n",
              "      <td>2.466667</td>\n",
              "      <td>4.9</td>\n",
              "      <td>58.0</td>\n",
              "      <td>Tidak Stunting</td>\n",
              "    </tr>\n",
              "    <tr>\n",
              "      <th>1</th>\n",
              "      <td>L</td>\n",
              "      <td>58.466667</td>\n",
              "      <td>17.0</td>\n",
              "      <td>109.0</td>\n",
              "      <td>Tidak Stunting</td>\n",
              "    </tr>\n",
              "    <tr>\n",
              "      <th>2</th>\n",
              "      <td>P</td>\n",
              "      <td>5.166667</td>\n",
              "      <td>7.1</td>\n",
              "      <td>68.5</td>\n",
              "      <td>Tidak Stunting</td>\n",
              "    </tr>\n",
              "    <tr>\n",
              "      <th>3</th>\n",
              "      <td>P</td>\n",
              "      <td>45.300000</td>\n",
              "      <td>13.8</td>\n",
              "      <td>95.0</td>\n",
              "      <td>Tidak Stunting</td>\n",
              "    </tr>\n",
              "    <tr>\n",
              "      <th>4</th>\n",
              "      <td>L</td>\n",
              "      <td>53.633333</td>\n",
              "      <td>18.6</td>\n",
              "      <td>106.0</td>\n",
              "      <td>Tidak Stunting</td>\n",
              "    </tr>\n",
              "    <tr>\n",
              "      <th>...</th>\n",
              "      <td>...</td>\n",
              "      <td>...</td>\n",
              "      <td>...</td>\n",
              "      <td>...</td>\n",
              "      <td>...</td>\n",
              "    </tr>\n",
              "    <tr>\n",
              "      <th>6672</th>\n",
              "      <td>L</td>\n",
              "      <td>0.000000</td>\n",
              "      <td>3.0</td>\n",
              "      <td>50.0</td>\n",
              "      <td>Tidak Stunting</td>\n",
              "    </tr>\n",
              "    <tr>\n",
              "      <th>6673</th>\n",
              "      <td>P</td>\n",
              "      <td>0.000000</td>\n",
              "      <td>3.0</td>\n",
              "      <td>50.0</td>\n",
              "      <td>Tidak Stunting</td>\n",
              "    </tr>\n",
              "    <tr>\n",
              "      <th>6674</th>\n",
              "      <td>L</td>\n",
              "      <td>0.000000</td>\n",
              "      <td>3.0</td>\n",
              "      <td>50.0</td>\n",
              "      <td>Stunting</td>\n",
              "    </tr>\n",
              "    <tr>\n",
              "      <th>6675</th>\n",
              "      <td>L</td>\n",
              "      <td>0.000000</td>\n",
              "      <td>3.0</td>\n",
              "      <td>50.0</td>\n",
              "      <td>Tidak Stunting</td>\n",
              "    </tr>\n",
              "    <tr>\n",
              "      <th>6676</th>\n",
              "      <td>L</td>\n",
              "      <td>0.000000</td>\n",
              "      <td>2.8</td>\n",
              "      <td>48.0</td>\n",
              "      <td>Tidak Stunting</td>\n",
              "    </tr>\n",
              "  </tbody>\n",
              "</table>\n",
              "<p>6676 rows × 5 columns</p>\n",
              "</div>\n",
              "    <div class=\"colab-df-buttons\">\n",
              "\n",
              "  <div class=\"colab-df-container\">\n",
              "    <button class=\"colab-df-convert\" onclick=\"convertToInteractive('df-abe0deee-fae4-4eb9-b1e8-ac65127dc09a')\"\n",
              "            title=\"Convert this dataframe to an interactive table.\"\n",
              "            style=\"display:none;\">\n",
              "\n",
              "  <svg xmlns=\"http://www.w3.org/2000/svg\" height=\"24px\" viewBox=\"0 -960 960 960\">\n",
              "    <path d=\"M120-120v-720h720v720H120Zm60-500h600v-160H180v160Zm220 220h160v-160H400v160Zm0 220h160v-160H400v160ZM180-400h160v-160H180v160Zm440 0h160v-160H620v160ZM180-180h160v-160H180v160Zm440 0h160v-160H620v160Z\"/>\n",
              "  </svg>\n",
              "    </button>\n",
              "\n",
              "  <style>\n",
              "    .colab-df-container {\n",
              "      display:flex;\n",
              "      gap: 12px;\n",
              "    }\n",
              "\n",
              "    .colab-df-convert {\n",
              "      background-color: #E8F0FE;\n",
              "      border: none;\n",
              "      border-radius: 50%;\n",
              "      cursor: pointer;\n",
              "      display: none;\n",
              "      fill: #1967D2;\n",
              "      height: 32px;\n",
              "      padding: 0 0 0 0;\n",
              "      width: 32px;\n",
              "    }\n",
              "\n",
              "    .colab-df-convert:hover {\n",
              "      background-color: #E2EBFA;\n",
              "      box-shadow: 0px 1px 2px rgba(60, 64, 67, 0.3), 0px 1px 3px 1px rgba(60, 64, 67, 0.15);\n",
              "      fill: #174EA6;\n",
              "    }\n",
              "\n",
              "    .colab-df-buttons div {\n",
              "      margin-bottom: 4px;\n",
              "    }\n",
              "\n",
              "    [theme=dark] .colab-df-convert {\n",
              "      background-color: #3B4455;\n",
              "      fill: #D2E3FC;\n",
              "    }\n",
              "\n",
              "    [theme=dark] .colab-df-convert:hover {\n",
              "      background-color: #434B5C;\n",
              "      box-shadow: 0px 1px 3px 1px rgba(0, 0, 0, 0.15);\n",
              "      filter: drop-shadow(0px 1px 2px rgba(0, 0, 0, 0.3));\n",
              "      fill: #FFFFFF;\n",
              "    }\n",
              "  </style>\n",
              "\n",
              "    <script>\n",
              "      const buttonEl =\n",
              "        document.querySelector('#df-abe0deee-fae4-4eb9-b1e8-ac65127dc09a button.colab-df-convert');\n",
              "      buttonEl.style.display =\n",
              "        google.colab.kernel.accessAllowed ? 'block' : 'none';\n",
              "\n",
              "      async function convertToInteractive(key) {\n",
              "        const element = document.querySelector('#df-abe0deee-fae4-4eb9-b1e8-ac65127dc09a');\n",
              "        const dataTable =\n",
              "          await google.colab.kernel.invokeFunction('convertToInteractive',\n",
              "                                                    [key], {});\n",
              "        if (!dataTable) return;\n",
              "\n",
              "        const docLinkHtml = 'Like what you see? Visit the ' +\n",
              "          '<a target=\"_blank\" href=https://colab.research.google.com/notebooks/data_table.ipynb>data table notebook</a>'\n",
              "          + ' to learn more about interactive tables.';\n",
              "        element.innerHTML = '';\n",
              "        dataTable['output_type'] = 'display_data';\n",
              "        await google.colab.output.renderOutput(dataTable, element);\n",
              "        const docLink = document.createElement('div');\n",
              "        docLink.innerHTML = docLinkHtml;\n",
              "        element.appendChild(docLink);\n",
              "      }\n",
              "    </script>\n",
              "  </div>\n",
              "\n",
              "\n",
              "<div id=\"df-4d742f19-2d9c-46e2-851b-1b803b34ee08\">\n",
              "  <button class=\"colab-df-quickchart\" onclick=\"quickchart('df-4d742f19-2d9c-46e2-851b-1b803b34ee08')\"\n",
              "            title=\"Suggest charts\"\n",
              "            style=\"display:none;\">\n",
              "\n",
              "<svg xmlns=\"http://www.w3.org/2000/svg\" height=\"24px\"viewBox=\"0 0 24 24\"\n",
              "     width=\"24px\">\n",
              "    <g>\n",
              "        <path d=\"M19 3H5c-1.1 0-2 .9-2 2v14c0 1.1.9 2 2 2h14c1.1 0 2-.9 2-2V5c0-1.1-.9-2-2-2zM9 17H7v-7h2v7zm4 0h-2V7h2v10zm4 0h-2v-4h2v4z\"/>\n",
              "    </g>\n",
              "</svg>\n",
              "  </button>\n",
              "\n",
              "<style>\n",
              "  .colab-df-quickchart {\n",
              "      --bg-color: #E8F0FE;\n",
              "      --fill-color: #1967D2;\n",
              "      --hover-bg-color: #E2EBFA;\n",
              "      --hover-fill-color: #174EA6;\n",
              "      --disabled-fill-color: #AAA;\n",
              "      --disabled-bg-color: #DDD;\n",
              "  }\n",
              "\n",
              "  [theme=dark] .colab-df-quickchart {\n",
              "      --bg-color: #3B4455;\n",
              "      --fill-color: #D2E3FC;\n",
              "      --hover-bg-color: #434B5C;\n",
              "      --hover-fill-color: #FFFFFF;\n",
              "      --disabled-bg-color: #3B4455;\n",
              "      --disabled-fill-color: #666;\n",
              "  }\n",
              "\n",
              "  .colab-df-quickchart {\n",
              "    background-color: var(--bg-color);\n",
              "    border: none;\n",
              "    border-radius: 50%;\n",
              "    cursor: pointer;\n",
              "    display: none;\n",
              "    fill: var(--fill-color);\n",
              "    height: 32px;\n",
              "    padding: 0;\n",
              "    width: 32px;\n",
              "  }\n",
              "\n",
              "  .colab-df-quickchart:hover {\n",
              "    background-color: var(--hover-bg-color);\n",
              "    box-shadow: 0 1px 2px rgba(60, 64, 67, 0.3), 0 1px 3px 1px rgba(60, 64, 67, 0.15);\n",
              "    fill: var(--button-hover-fill-color);\n",
              "  }\n",
              "\n",
              "  .colab-df-quickchart-complete:disabled,\n",
              "  .colab-df-quickchart-complete:disabled:hover {\n",
              "    background-color: var(--disabled-bg-color);\n",
              "    fill: var(--disabled-fill-color);\n",
              "    box-shadow: none;\n",
              "  }\n",
              "\n",
              "  .colab-df-spinner {\n",
              "    border: 2px solid var(--fill-color);\n",
              "    border-color: transparent;\n",
              "    border-bottom-color: var(--fill-color);\n",
              "    animation:\n",
              "      spin 1s steps(1) infinite;\n",
              "  }\n",
              "\n",
              "  @keyframes spin {\n",
              "    0% {\n",
              "      border-color: transparent;\n",
              "      border-bottom-color: var(--fill-color);\n",
              "      border-left-color: var(--fill-color);\n",
              "    }\n",
              "    20% {\n",
              "      border-color: transparent;\n",
              "      border-left-color: var(--fill-color);\n",
              "      border-top-color: var(--fill-color);\n",
              "    }\n",
              "    30% {\n",
              "      border-color: transparent;\n",
              "      border-left-color: var(--fill-color);\n",
              "      border-top-color: var(--fill-color);\n",
              "      border-right-color: var(--fill-color);\n",
              "    }\n",
              "    40% {\n",
              "      border-color: transparent;\n",
              "      border-right-color: var(--fill-color);\n",
              "      border-top-color: var(--fill-color);\n",
              "    }\n",
              "    60% {\n",
              "      border-color: transparent;\n",
              "      border-right-color: var(--fill-color);\n",
              "    }\n",
              "    80% {\n",
              "      border-color: transparent;\n",
              "      border-right-color: var(--fill-color);\n",
              "      border-bottom-color: var(--fill-color);\n",
              "    }\n",
              "    90% {\n",
              "      border-color: transparent;\n",
              "      border-bottom-color: var(--fill-color);\n",
              "    }\n",
              "  }\n",
              "</style>\n",
              "\n",
              "  <script>\n",
              "    async function quickchart(key) {\n",
              "      const quickchartButtonEl =\n",
              "        document.querySelector('#' + key + ' button');\n",
              "      quickchartButtonEl.disabled = true;  // To prevent multiple clicks.\n",
              "      quickchartButtonEl.classList.add('colab-df-spinner');\n",
              "      try {\n",
              "        const charts = await google.colab.kernel.invokeFunction(\n",
              "            'suggestCharts', [key], {});\n",
              "      } catch (error) {\n",
              "        console.error('Error during call to suggestCharts:', error);\n",
              "      }\n",
              "      quickchartButtonEl.classList.remove('colab-df-spinner');\n",
              "      quickchartButtonEl.classList.add('colab-df-quickchart-complete');\n",
              "    }\n",
              "    (() => {\n",
              "      let quickchartButtonEl =\n",
              "        document.querySelector('#df-4d742f19-2d9c-46e2-851b-1b803b34ee08 button');\n",
              "      quickchartButtonEl.style.display =\n",
              "        google.colab.kernel.accessAllowed ? 'block' : 'none';\n",
              "    })();\n",
              "  </script>\n",
              "</div>\n",
              "    </div>\n",
              "  </div>\n"
            ]
          },
          "metadata": {},
          "execution_count": 36
        }
      ]
    },
    {
      "cell_type": "code",
      "source": [
        "x = df.drop('Status', axis=1)\n",
        "y = df['Status']"
      ],
      "metadata": {
        "id": "VRJXOfH9tieI"
      },
      "execution_count": null,
      "outputs": []
    },
    {
      "cell_type": "code",
      "execution_count": null,
      "metadata": {
        "id": "Wnque5Ajgu3u"
      },
      "outputs": [],
      "source": [
        "# TRANSFORMASI & ENCODING Kolom Fitur\n",
        "from sklearn.compose import ColumnTransformer\n",
        "from sklearn.preprocessing import OneHotEncoder\n",
        "\n",
        "column_transformer = ColumnTransformer(transformers=[('encoder', OneHotEncoder(), [0])], remainder='passthrough')\n",
        "x = np.array(column_transformer.fit_transform(x))"
      ]
    },
    {
      "cell_type": "code",
      "execution_count": null,
      "metadata": {
        "colab": {
          "base_uri": "https://localhost:8080/"
        },
        "id": "VHrdZWWWOXgm",
        "outputId": "c51c10f6-fad8-49c8-887a-bee881090bd4"
      },
      "outputs": [
        {
          "output_type": "stream",
          "name": "stdout",
          "text": [
            "[[  1.           0.           2.46666667   4.9         58.        ]\n",
            " [  1.           0.          58.46666667  17.         109.        ]\n",
            " [  0.           1.           5.16666667   7.1         68.5       ]\n",
            " ...\n",
            " [  1.           0.           0.           3.          50.        ]\n",
            " [  1.           0.           0.           3.          50.        ]\n",
            " [  1.           0.           0.           2.8         48.        ]]\n"
          ]
        }
      ],
      "source": [
        "print(x)"
      ]
    },
    {
      "cell_type": "code",
      "execution_count": null,
      "metadata": {
        "id": "GB83m7qLPFIW"
      },
      "outputs": [],
      "source": [
        "# ENCODING pada Kolom Label\n",
        "from sklearn.preprocessing import LabelEncoder\n",
        "label_encoder = LabelEncoder()\n",
        "y = label_encoder.fit_transform(y)\n",
        "\n",
        "y = 1 - y"
      ]
    },
    {
      "cell_type": "code",
      "execution_count": null,
      "metadata": {
        "colab": {
          "base_uri": "https://localhost:8080/"
        },
        "id": "-FiFyC7LPhEn",
        "outputId": "52a8cf84-7045-4488-c3d4-c1f454f0d588"
      },
      "outputs": [
        {
          "output_type": "stream",
          "name": "stdout",
          "text": [
            "[0 0 0 0 0 0 0 0 0 0 0 0 0 0 0 0 0 0 0 0 0 0 0 0 0 0 0 0 0 0 0 0 0 0 0 0 0\n",
            " 0 0 0 0 0 0 0 0 0 0 0 0 0 0 0 0 0 0 0 0 0 0 0 0 0 0 1 0 0 0 0 0 0 0 0 0 0\n",
            " 0 0 0 0 0 0 0 0 0 0 0 0 0 0 0 0 0 0 0 0 0 0 0 0 0 0 0 1 0 0 0 0 0 0 0 0 0\n",
            " 0 0 0 0 0 0 0 0 0 0 0 0 0 0 0 0 0 0 0 0 0 0 0 0 0 0 0 0 0 0 0 0 0 0 0 0 0\n",
            " 0 0 0 0 0 0 0 0 0 0 0 0 0 0 0 0 0 0 0 0 0 0 0 0 0 0 0 0 0 0 0 0 0 0 0 0 0\n",
            " 0 0 0 0 0 0 0 0 0 0 0 0 0 1 0 1 0 0 0 0 0 0 0 0 0 0 0 0 0 0 0 0 0 0 0 0 0\n",
            " 0 0 0 0 0 1 0 0 0 0 0 0 0 0 0 0 0 0 0 0 1 0 1 0 0 0 0 0 0 0 0 0 0 0 0 0 0\n",
            " 0 0 0 0 0 0 0 0 0 0 0 0 0 0 0 0 0 0 0 0 0 0 0 0 1 0 0 0 0 0 0 0 0 0 0 0 0\n",
            " 0 0 0 0 0 0 0 0 0 0 0 0 0 0 0 0 0 0 0 0 0 0 0 0 0 0 0 0 0 0 0 0 0 0 0 0 0\n",
            " 0 0 0 0 0 0 0 0 0 0 0 0 0 0 0 0 0 0 0 0 0 0 0 0 0 0 0 0 0 0 0 0 0 0 0 0 0\n",
            " 0 0 0 0 0 0 0 0 0 0 0 0 0 0 0 0 0 0 0 0 0 0 0 0 0 0 0 0 0 0 0 0 0 0 0 0 0\n",
            " 1 0 0 0 0 0 0 0 0 0 0 0 0 0 0 0 1 0 0 0 0 0 0 0 0 0 0 0 0 0 0 0 0 0 0 0 1\n",
            " 0 0 0 0 0 0 0 0 0 0 0 0 0 0 0 0 0 0 0 0 0 0 0 0 0 0 0 0 0 0 0 0 0 0 0 0 0\n",
            " 0 0 0 0 0 0 0 0 0 0 0 0 0 0 0 0 0 0 0 0 0 0 0 0 0 0 0 0 0 0 0 0 0 0 0 0 0\n",
            " 0 0 0 0 0 0 1 0 0 0 0 0 0 0 0 0 0 0 0 0 0 0 0 0 0 0 1 0 0 0 0 0 0 0 0 0 0\n",
            " 0 0 0 0 0 0 0 0 0 0 0 0 0 0 0 0 0 0 0 0 1 0 0 0 0 0 0 0 0 0 0 0 0 0 0 0 1\n",
            " 0 0 1 0 0 0 0 0 0 0 0 0 0 0 0 0 0 0 0 0 0 0 0 0 0 0 0 0 0 0 0 0 0 0 0 0 0\n",
            " 0 0 0 0 0 0 0 0 0 0 0 0 0 0 0 0 0 0 0 0 0 0 0 0 0 0 0 0 0 0 0 0 0 0 0 0 0\n",
            " 0 0 0 0 0 0 0 0 0 0 0 0 0 0 0 0 0 0 0 0 0 0 0 0 0 0 0 0 0 0 0 0 0 0 0 0 0\n",
            " 0 0 0 0 0 0 0 0 0 0 0 0 0 0 0 0 0 0 0 0 0 0 0 0 0 0 0 0 0 0 0 0 0 0 0 0 0\n",
            " 0 0 0 0 0 0 0 0 0 0 0 0 0 0 0 0 0 0 0 0 0 0 0 0 0 0 0 0 0 0 0 0 0 0 0 0 0\n",
            " 0 0 0 0 0 0 0 0 0 0 0 0 0 0 0 0 0 0 0 1 0 0 0 0 0 0 0 0 0 0 0 0 0 0 0 0 0\n",
            " 0 0 0 0 0 0 0 0 0 0 0 0 0 0 0 0 0 0 0 0 0 0 0 0 0 0 0 0 0 0 0 0 0 0 0 0 0\n",
            " 0 0 0 0 0 0 0 0 0 0 0 0 0 0 0 0 0 0 0 0 0 0 0 0 0 0 0 0 0 0 0 0 0 0 0 0 0\n",
            " 0 0 0 0 0 0 0 0 0 0 0 0 0 0 0 0 0 0 0 0 0 0 0 1 0 0 0 0 0 0 0 0 0 0 0 0 0\n",
            " 0 0 0 0 0 0 0 0 0 0 0 0 0 0 0 0 0 0 0 0 0 0 0 0 0 0 0 0 0 0 0 0 0 0 0 0 0\n",
            " 0 0 0 0 0 0 0 0 0 0 0 0 0 0 0 0 0 0 0 0 0 0 0 0 0 0 0 0 0 0 0 0 0 0 0 0 0\n",
            " 0]\n"
          ]
        }
      ],
      "source": [
        "print(y[:1000])\n",
        "# y_resampled[-1:-501:-1]"
      ]
    },
    {
      "cell_type": "markdown",
      "metadata": {
        "id": "l2snVGUMP4mM"
      },
      "source": [
        "**3. Split Data**"
      ]
    },
    {
      "cell_type": "code",
      "execution_count": null,
      "metadata": {
        "id": "22PpowRDg4GA"
      },
      "outputs": [],
      "source": [
        "# Split train set dan Test set\n",
        "from sklearn.model_selection import train_test_split\n",
        "x_train, x_test, y_train, y_test = train_test_split(x, y, test_size=0.2)"
      ]
    },
    {
      "cell_type": "markdown",
      "metadata": {
        "id": "R8a9G0rVS5sd"
      },
      "source": [
        "**4. Scaling Data**"
      ]
    },
    {
      "cell_type": "code",
      "execution_count": null,
      "metadata": {
        "id": "cdvC4wwcR2wZ"
      },
      "outputs": [],
      "source": [
        "from sklearn.preprocessing import StandardScaler\n",
        "standard_scal = StandardScaler()\n",
        "\n",
        "# Fit and transform the training set\n",
        "x_train[:, 2:] = standard_scal.fit_transform(x_train[:, 2:])\n",
        "\n",
        "# Transform the test set using the same scaler\n",
        "x_test[:, 2:] = standard_scal.transform(x_test[:, 2:])"
      ]
    },
    {
      "cell_type": "code",
      "execution_count": null,
      "metadata": {
        "id": "Z0WCKJh6THth",
        "colab": {
          "base_uri": "https://localhost:8080/"
        },
        "outputId": "fa3aa966-5edb-42eb-92d4-b8c6507dac1c"
      },
      "outputs": [
        {
          "output_type": "stream",
          "name": "stdout",
          "text": [
            "[[ 1.          0.          1.46387716  1.38674282  1.35453667]\n",
            " [ 0.          1.         -1.25504603 -1.08897411 -0.72966391]\n",
            " [ 0.          1.         -0.13083583  0.24172374  0.1889282 ]\n",
            " ...\n",
            " [ 1.          0.          0.54160842  0.76781359  0.73699576]\n",
            " [ 0.          1.         -0.94068355 -0.62477719 -1.11562698]\n",
            " [ 0.          1.          0.45416985 -0.16058026  0.11945485]]\n"
          ]
        }
      ],
      "source": [
        "print(x_train)"
      ]
    },
    {
      "cell_type": "code",
      "source": [
        "print(x_train.shape)\n",
        "print(y_train.shape)"
      ],
      "metadata": {
        "colab": {
          "base_uri": "https://localhost:8080/"
        },
        "id": "mgg5N-jAYk0M",
        "outputId": "27867bf4-f24d-471e-b39a-1cae2f5b19a9"
      },
      "execution_count": null,
      "outputs": [
        {
          "output_type": "stream",
          "name": "stdout",
          "text": [
            "(5340, 5)\n",
            "(5340,)\n"
          ]
        }
      ]
    },
    {
      "cell_type": "markdown",
      "metadata": {
        "id": "DCS9vdWsh-RD"
      },
      "source": [
        "# **Model**"
      ]
    },
    {
      "cell_type": "markdown",
      "source": [
        "## Logistic Regression"
      ],
      "metadata": {
        "id": "GGuXywDPTOXn"
      }
    },
    {
      "cell_type": "code",
      "source": [
        "from sklearn.linear_model import LogisticRegression\n",
        "from sklearn.preprocessing import StandardScaler\n",
        "from sklearn.model_selection import train_test_split\n",
        "from sklearn.metrics import accuracy_score, classification_report, confusion_matrix\n"
      ],
      "metadata": {
        "id": "pZG7FhKqS8Um"
      },
      "execution_count": null,
      "outputs": []
    },
    {
      "cell_type": "code",
      "execution_count": null,
      "metadata": {
        "id": "KAN7TOA4LgnD",
        "colab": {
          "base_uri": "https://localhost:8080/",
          "height": 75
        },
        "outputId": "a389dd34-aafe-4b14-8721-2cc157a47eb0"
      },
      "outputs": [
        {
          "output_type": "execute_result",
          "data": {
            "text/plain": [
              "LogisticRegression(C=0.1, class_weight='balanced', max_iter=1000)"
            ],
            "text/html": [
              "<style>#sk-container-id-1 {color: black;background-color: white;}#sk-container-id-1 pre{padding: 0;}#sk-container-id-1 div.sk-toggleable {background-color: white;}#sk-container-id-1 label.sk-toggleable__label {cursor: pointer;display: block;width: 100%;margin-bottom: 0;padding: 0.3em;box-sizing: border-box;text-align: center;}#sk-container-id-1 label.sk-toggleable__label-arrow:before {content: \"▸\";float: left;margin-right: 0.25em;color: #696969;}#sk-container-id-1 label.sk-toggleable__label-arrow:hover:before {color: black;}#sk-container-id-1 div.sk-estimator:hover label.sk-toggleable__label-arrow:before {color: black;}#sk-container-id-1 div.sk-toggleable__content {max-height: 0;max-width: 0;overflow: hidden;text-align: left;background-color: #f0f8ff;}#sk-container-id-1 div.sk-toggleable__content pre {margin: 0.2em;color: black;border-radius: 0.25em;background-color: #f0f8ff;}#sk-container-id-1 input.sk-toggleable__control:checked~div.sk-toggleable__content {max-height: 200px;max-width: 100%;overflow: auto;}#sk-container-id-1 input.sk-toggleable__control:checked~label.sk-toggleable__label-arrow:before {content: \"▾\";}#sk-container-id-1 div.sk-estimator input.sk-toggleable__control:checked~label.sk-toggleable__label {background-color: #d4ebff;}#sk-container-id-1 div.sk-label input.sk-toggleable__control:checked~label.sk-toggleable__label {background-color: #d4ebff;}#sk-container-id-1 input.sk-hidden--visually {border: 0;clip: rect(1px 1px 1px 1px);clip: rect(1px, 1px, 1px, 1px);height: 1px;margin: -1px;overflow: hidden;padding: 0;position: absolute;width: 1px;}#sk-container-id-1 div.sk-estimator {font-family: monospace;background-color: #f0f8ff;border: 1px dotted black;border-radius: 0.25em;box-sizing: border-box;margin-bottom: 0.5em;}#sk-container-id-1 div.sk-estimator:hover {background-color: #d4ebff;}#sk-container-id-1 div.sk-parallel-item::after {content: \"\";width: 100%;border-bottom: 1px solid gray;flex-grow: 1;}#sk-container-id-1 div.sk-label:hover label.sk-toggleable__label {background-color: #d4ebff;}#sk-container-id-1 div.sk-serial::before {content: \"\";position: absolute;border-left: 1px solid gray;box-sizing: border-box;top: 0;bottom: 0;left: 50%;z-index: 0;}#sk-container-id-1 div.sk-serial {display: flex;flex-direction: column;align-items: center;background-color: white;padding-right: 0.2em;padding-left: 0.2em;position: relative;}#sk-container-id-1 div.sk-item {position: relative;z-index: 1;}#sk-container-id-1 div.sk-parallel {display: flex;align-items: stretch;justify-content: center;background-color: white;position: relative;}#sk-container-id-1 div.sk-item::before, #sk-container-id-1 div.sk-parallel-item::before {content: \"\";position: absolute;border-left: 1px solid gray;box-sizing: border-box;top: 0;bottom: 0;left: 50%;z-index: -1;}#sk-container-id-1 div.sk-parallel-item {display: flex;flex-direction: column;z-index: 1;position: relative;background-color: white;}#sk-container-id-1 div.sk-parallel-item:first-child::after {align-self: flex-end;width: 50%;}#sk-container-id-1 div.sk-parallel-item:last-child::after {align-self: flex-start;width: 50%;}#sk-container-id-1 div.sk-parallel-item:only-child::after {width: 0;}#sk-container-id-1 div.sk-dashed-wrapped {border: 1px dashed gray;margin: 0 0.4em 0.5em 0.4em;box-sizing: border-box;padding-bottom: 0.4em;background-color: white;}#sk-container-id-1 div.sk-label label {font-family: monospace;font-weight: bold;display: inline-block;line-height: 1.2em;}#sk-container-id-1 div.sk-label-container {text-align: center;}#sk-container-id-1 div.sk-container {/* jupyter's `normalize.less` sets `[hidden] { display: none; }` but bootstrap.min.css set `[hidden] { display: none !important; }` so we also need the `!important` here to be able to override the default hidden behavior on the sphinx rendered scikit-learn.org. See: https://github.com/scikit-learn/scikit-learn/issues/21755 */display: inline-block !important;position: relative;}#sk-container-id-1 div.sk-text-repr-fallback {display: none;}</style><div id=\"sk-container-id-1\" class=\"sk-top-container\"><div class=\"sk-text-repr-fallback\"><pre>LogisticRegression(C=0.1, class_weight=&#x27;balanced&#x27;, max_iter=1000)</pre><b>In a Jupyter environment, please rerun this cell to show the HTML representation or trust the notebook. <br />On GitHub, the HTML representation is unable to render, please try loading this page with nbviewer.org.</b></div><div class=\"sk-container\" hidden><div class=\"sk-item\"><div class=\"sk-estimator sk-toggleable\"><input class=\"sk-toggleable__control sk-hidden--visually\" id=\"sk-estimator-id-1\" type=\"checkbox\" checked><label for=\"sk-estimator-id-1\" class=\"sk-toggleable__label sk-toggleable__label-arrow\">LogisticRegression</label><div class=\"sk-toggleable__content\"><pre>LogisticRegression(C=0.1, class_weight=&#x27;balanced&#x27;, max_iter=1000)</pre></div></div></div></div></div>"
            ]
          },
          "metadata": {},
          "execution_count": 47
        }
      ],
      "source": [
        "# Create a logistic regression model\n",
        "logistic_model  = LogisticRegression(C=0.1, solver='lbfgs', max_iter=1000, class_weight='balanced')\n",
        "\n",
        "# Fit the model to the training data\n",
        "logistic_model.fit(x_train, y_train)"
      ]
    },
    {
      "cell_type": "code",
      "source": [
        "# Training Accuracy\n",
        "y_pred_train_logistic = logistic_model.predict(x_train)\n",
        "\n",
        "# Calculate training set accuracy\n",
        "accuracy_train = accuracy_score(y_train, y_pred_train_logistic)\n",
        "print(f\"Training Set Accuracy: {accuracy_train:.4f}\")"
      ],
      "metadata": {
        "colab": {
          "base_uri": "https://localhost:8080/"
        },
        "id": "k2r1T5wgkeVx",
        "outputId": "250f787b-0587-4f06-8a3e-380471602735"
      },
      "execution_count": null,
      "outputs": [
        {
          "output_type": "stream",
          "name": "stdout",
          "text": [
            "Training Set Accuracy: 0.8663\n"
          ]
        }
      ]
    },
    {
      "cell_type": "code",
      "source": [
        "# Make predictions on the test set\n",
        "y_pred_logistic  = logistic_model.predict(x_test)\n",
        "\n",
        "# Calculate accuracy\n",
        "accuracy_logistic  = accuracy_score(y_test, y_pred_logistic)\n",
        "print(f\"Accuracy: {accuracy_logistic:.4f}\")\n",
        "\n",
        "# Generate a classification report\n",
        "print(classification_report(y_test, y_pred_logistic, digits=4))\n",
        "\n",
        "# Create a confusion matrix\n",
        "confusion_logistic  = confusion_matrix(y_test, y_pred_logistic)\n",
        "print(\"Confusion Matrix:\")\n",
        "print(confusion_logistic )\n"
      ],
      "metadata": {
        "id": "Ms0qiGsXTCpX",
        "colab": {
          "base_uri": "https://localhost:8080/"
        },
        "outputId": "8e90d643-cb67-4bf9-f6c8-87b29ace262c"
      },
      "execution_count": null,
      "outputs": [
        {
          "output_type": "stream",
          "name": "stdout",
          "text": [
            "Accuracy: 0.8698\n",
            "              precision    recall  f1-score   support\n",
            "\n",
            "           0     0.9974    0.8710    0.9300      1326\n",
            "           1     0.0393    0.7000    0.0745        10\n",
            "\n",
            "    accuracy                         0.8698      1336\n",
            "   macro avg     0.5184    0.7855    0.5022      1336\n",
            "weighted avg     0.9902    0.8698    0.9235      1336\n",
            "\n",
            "Confusion Matrix:\n",
            "[[1155  171]\n",
            " [   3    7]]\n"
          ]
        }
      ]
    },
    {
      "cell_type": "markdown",
      "source": [
        "## Random Forest\n"
      ],
      "metadata": {
        "id": "LqZdjSbuTThD"
      }
    },
    {
      "cell_type": "code",
      "source": [
        "from sklearn.ensemble import RandomForestClassifier\n",
        "from sklearn.model_selection import train_test_split\n",
        "from sklearn.metrics import accuracy_score, classification_report, confusion_matrix\n"
      ],
      "metadata": {
        "id": "Qgk_j2NzTXaY"
      },
      "execution_count": null,
      "outputs": []
    },
    {
      "cell_type": "code",
      "source": [
        "# Create a Random Forest Classifier model\n",
        "rf_model = RandomForestClassifier() #n_estimators=100, max_depth=10, min_samples_split=500, min_samples_leaf=200\n",
        "\n",
        "# Fit the model to the training data\n",
        "rf_model.fit(x_train, y_train)"
      ],
      "metadata": {
        "id": "bH54rrXUTcCr",
        "colab": {
          "base_uri": "https://localhost:8080/",
          "height": 75
        },
        "outputId": "934bbeaf-60e6-4737-ffa7-236213707a9d"
      },
      "execution_count": null,
      "outputs": [
        {
          "output_type": "execute_result",
          "data": {
            "text/plain": [
              "RandomForestClassifier()"
            ],
            "text/html": [
              "<style>#sk-container-id-2 {color: black;background-color: white;}#sk-container-id-2 pre{padding: 0;}#sk-container-id-2 div.sk-toggleable {background-color: white;}#sk-container-id-2 label.sk-toggleable__label {cursor: pointer;display: block;width: 100%;margin-bottom: 0;padding: 0.3em;box-sizing: border-box;text-align: center;}#sk-container-id-2 label.sk-toggleable__label-arrow:before {content: \"▸\";float: left;margin-right: 0.25em;color: #696969;}#sk-container-id-2 label.sk-toggleable__label-arrow:hover:before {color: black;}#sk-container-id-2 div.sk-estimator:hover label.sk-toggleable__label-arrow:before {color: black;}#sk-container-id-2 div.sk-toggleable__content {max-height: 0;max-width: 0;overflow: hidden;text-align: left;background-color: #f0f8ff;}#sk-container-id-2 div.sk-toggleable__content pre {margin: 0.2em;color: black;border-radius: 0.25em;background-color: #f0f8ff;}#sk-container-id-2 input.sk-toggleable__control:checked~div.sk-toggleable__content {max-height: 200px;max-width: 100%;overflow: auto;}#sk-container-id-2 input.sk-toggleable__control:checked~label.sk-toggleable__label-arrow:before {content: \"▾\";}#sk-container-id-2 div.sk-estimator input.sk-toggleable__control:checked~label.sk-toggleable__label {background-color: #d4ebff;}#sk-container-id-2 div.sk-label input.sk-toggleable__control:checked~label.sk-toggleable__label {background-color: #d4ebff;}#sk-container-id-2 input.sk-hidden--visually {border: 0;clip: rect(1px 1px 1px 1px);clip: rect(1px, 1px, 1px, 1px);height: 1px;margin: -1px;overflow: hidden;padding: 0;position: absolute;width: 1px;}#sk-container-id-2 div.sk-estimator {font-family: monospace;background-color: #f0f8ff;border: 1px dotted black;border-radius: 0.25em;box-sizing: border-box;margin-bottom: 0.5em;}#sk-container-id-2 div.sk-estimator:hover {background-color: #d4ebff;}#sk-container-id-2 div.sk-parallel-item::after {content: \"\";width: 100%;border-bottom: 1px solid gray;flex-grow: 1;}#sk-container-id-2 div.sk-label:hover label.sk-toggleable__label {background-color: #d4ebff;}#sk-container-id-2 div.sk-serial::before {content: \"\";position: absolute;border-left: 1px solid gray;box-sizing: border-box;top: 0;bottom: 0;left: 50%;z-index: 0;}#sk-container-id-2 div.sk-serial {display: flex;flex-direction: column;align-items: center;background-color: white;padding-right: 0.2em;padding-left: 0.2em;position: relative;}#sk-container-id-2 div.sk-item {position: relative;z-index: 1;}#sk-container-id-2 div.sk-parallel {display: flex;align-items: stretch;justify-content: center;background-color: white;position: relative;}#sk-container-id-2 div.sk-item::before, #sk-container-id-2 div.sk-parallel-item::before {content: \"\";position: absolute;border-left: 1px solid gray;box-sizing: border-box;top: 0;bottom: 0;left: 50%;z-index: -1;}#sk-container-id-2 div.sk-parallel-item {display: flex;flex-direction: column;z-index: 1;position: relative;background-color: white;}#sk-container-id-2 div.sk-parallel-item:first-child::after {align-self: flex-end;width: 50%;}#sk-container-id-2 div.sk-parallel-item:last-child::after {align-self: flex-start;width: 50%;}#sk-container-id-2 div.sk-parallel-item:only-child::after {width: 0;}#sk-container-id-2 div.sk-dashed-wrapped {border: 1px dashed gray;margin: 0 0.4em 0.5em 0.4em;box-sizing: border-box;padding-bottom: 0.4em;background-color: white;}#sk-container-id-2 div.sk-label label {font-family: monospace;font-weight: bold;display: inline-block;line-height: 1.2em;}#sk-container-id-2 div.sk-label-container {text-align: center;}#sk-container-id-2 div.sk-container {/* jupyter's `normalize.less` sets `[hidden] { display: none; }` but bootstrap.min.css set `[hidden] { display: none !important; }` so we also need the `!important` here to be able to override the default hidden behavior on the sphinx rendered scikit-learn.org. See: https://github.com/scikit-learn/scikit-learn/issues/21755 */display: inline-block !important;position: relative;}#sk-container-id-2 div.sk-text-repr-fallback {display: none;}</style><div id=\"sk-container-id-2\" class=\"sk-top-container\"><div class=\"sk-text-repr-fallback\"><pre>RandomForestClassifier()</pre><b>In a Jupyter environment, please rerun this cell to show the HTML representation or trust the notebook. <br />On GitHub, the HTML representation is unable to render, please try loading this page with nbviewer.org.</b></div><div class=\"sk-container\" hidden><div class=\"sk-item\"><div class=\"sk-estimator sk-toggleable\"><input class=\"sk-toggleable__control sk-hidden--visually\" id=\"sk-estimator-id-2\" type=\"checkbox\" checked><label for=\"sk-estimator-id-2\" class=\"sk-toggleable__label sk-toggleable__label-arrow\">RandomForestClassifier</label><div class=\"sk-toggleable__content\"><pre>RandomForestClassifier()</pre></div></div></div></div></div>"
            ]
          },
          "metadata": {},
          "execution_count": 51
        }
      ]
    },
    {
      "cell_type": "code",
      "source": [
        "# Training Accuracy\n",
        "y_pred_train_rf = rf_model.predict(x_train)\n",
        "\n",
        "# Calculate training set accuracy\n",
        "accuracy_train = accuracy_score(y_train, y_pred_train_rf)\n",
        "print(f\"Training Set Accuracy: {accuracy_train:.4f}\")"
      ],
      "metadata": {
        "colab": {
          "base_uri": "https://localhost:8080/"
        },
        "id": "8X2rep-nk59B",
        "outputId": "f250183a-297c-49c9-bf43-39bd5139748b"
      },
      "execution_count": null,
      "outputs": [
        {
          "output_type": "stream",
          "name": "stdout",
          "text": [
            "Training Set Accuracy: 0.9994\n"
          ]
        }
      ]
    },
    {
      "cell_type": "code",
      "source": [
        "# Make predictions on the test set\n",
        "y_pred_rf  = rf_model.predict(x_test)\n",
        "\n",
        "# Calculate accuracy\n",
        "accuracy_rf  = accuracy_score(y_test, y_pred_rf )\n",
        "print(f\"Accuracy: {accuracy_rf :.4f}\")\n",
        "\n",
        "# Generate a classification report\n",
        "print(classification_report(y_test, y_pred_rf, digits=4))\n",
        "\n",
        "# Create a confusion matrix\n",
        "confusion_rf  = confusion_matrix(y_test, y_pred_rf )\n",
        "print(\"Confusion Matrix:\")\n",
        "print(confusion_rf )\n"
      ],
      "metadata": {
        "id": "ox6OWDtXTgvE",
        "colab": {
          "base_uri": "https://localhost:8080/"
        },
        "outputId": "0539db5a-3649-44d1-fef2-930bcb7855d0"
      },
      "execution_count": null,
      "outputs": [
        {
          "output_type": "stream",
          "name": "stdout",
          "text": [
            "Accuracy: 0.9933\n",
            "              precision    recall  f1-score   support\n",
            "\n",
            "           0     0.9940    0.9992    0.9966      1326\n",
            "           1     0.6667    0.2000    0.3077        10\n",
            "\n",
            "    accuracy                         0.9933      1336\n",
            "   macro avg     0.8303    0.5996    0.6522      1336\n",
            "weighted avg     0.9915    0.9933    0.9915      1336\n",
            "\n",
            "Confusion Matrix:\n",
            "[[1325    1]\n",
            " [   8    2]]\n"
          ]
        }
      ]
    },
    {
      "cell_type": "code",
      "source": [
        "from sklearn.model_selection import train_test_split\n",
        "from sklearn.metrics import classification_report, accuracy_score\n",
        "from sklearn.ensemble import RandomForestClassifier\n",
        "from sklearn.linear_model import LogisticRegression\n",
        "\n",
        "# Assuming X and y are your feature matrix and target variable\n",
        "# Perform the loop for 10 iterations (you can adjust this number)\n",
        "num_iterations = 100\n",
        "average_metrics_rf = {'accuracy': 0, 'precision_0': 0, 'recall_0': 0, 'f1_0': 0, 'precision_1': 0, 'recall_1': 0, 'f1_1': 0}\n",
        "average_metrics_lr = {'accuracy': 0, 'precision_0': 0, 'recall_0': 0, 'f1_0': 0, 'precision_1': 0, 'recall_1': 0, 'f1_1': 0}\n",
        "\n",
        "for i in range(num_iterations):\n",
        "    # Split the data into training and testing sets\n",
        "    X_train, X_test, y_train, y_test = train_test_split(x, y, test_size=0.2, random_state=None)  # You may set a random seed for reproducibility\n",
        "\n",
        "    # Scaling data\n",
        "    standard_scal = StandardScaler()\n",
        "    # Fit and transform the training set\n",
        "    x_train[:, 2:] = standard_scal.fit_transform(x_train[:, 2:])\n",
        "    # Transform the test set using the same scaler\n",
        "    x_test[:, 2:] = standard_scal.transform(x_test[:, 2:])\n",
        "\n",
        "    # Train RandomForestClassifier\n",
        "    rf_model = RandomForestClassifier()\n",
        "    rf_model.fit(X_train, y_train)\n",
        "\n",
        "    # Make predictions on the test set using RandomForestClassifier\n",
        "    y_pred_rf = rf_model.predict(X_test)\n",
        "\n",
        "    # Calculate accuracy and other metrics for RandomForestClassifier\n",
        "    accuracy_rf = accuracy_score(y_test, y_pred_rf)\n",
        "    report_rf = classification_report(y_test, y_pred_rf, output_dict=True, zero_division=1)\n",
        "\n",
        "    # Print accuracy for each iteration for RandomForestClassifier\n",
        "    print(f\"Iteration {i + 1} - RandomForest - Accuracy: {accuracy_rf:.4f}\")\n",
        "\n",
        "    # Accumulate metrics for averaging for RandomForestClassifier\n",
        "    average_metrics_rf['accuracy'] += accuracy_rf\n",
        "    average_metrics_rf['precision_0'] += report_rf['0']['precision']\n",
        "    average_metrics_rf['recall_0'] += report_rf['0']['recall']\n",
        "    average_metrics_rf['f1_0'] += report_rf['0']['f1-score']\n",
        "    average_metrics_rf['precision_1'] += report_rf['1']['precision']\n",
        "    average_metrics_rf['recall_1'] += report_rf['1']['recall']\n",
        "    average_metrics_rf['f1_1'] += report_rf['1']['f1-score']\n",
        "\n",
        "    # Train LogisticRegression\n",
        "    lr_model = LogisticRegression()\n",
        "    lr_model.fit(X_train, y_train)\n",
        "\n",
        "    # Make predictions on the test set using LogisticRegression\n",
        "    y_pred_lr = lr_model.predict(X_test)\n",
        "\n",
        "    # Calculate accuracy and other metrics for LogisticRegression\n",
        "    accuracy_lr = accuracy_score(y_test, y_pred_lr)\n",
        "    report_lr = classification_report(y_test, y_pred_lr, output_dict=True, zero_division=1)\n",
        "\n",
        "    # Print accuracy for each iteration for LogisticRegression\n",
        "    print(f\"Iteration {i + 1} - LogisticRegression - Accuracy: {accuracy_lr:.4f}\")\n",
        "\n",
        "    # Accumulate metrics for averaging for LogisticRegression\n",
        "    average_metrics_lr['accuracy'] += accuracy_lr\n",
        "    average_metrics_lr['precision_0'] += report_lr['0']['precision']\n",
        "    average_metrics_lr['recall_0'] += report_lr['0']['recall']\n",
        "    average_metrics_lr['f1_0'] += report_lr['0']['f1-score']\n",
        "    average_metrics_lr['precision_1'] += report_lr['1']['precision']\n",
        "    average_metrics_lr['recall_1'] += report_lr['1']['recall']\n",
        "    average_metrics_lr['f1_1'] += report_lr['1']['f1-score']\n",
        "\n",
        "# Calculate average metrics for RandomForestClassifier\n",
        "for metric in average_metrics_rf:\n",
        "    average_metrics_rf[metric] /= num_iterations\n",
        "\n",
        "# Calculate average metrics for LogisticRegression\n",
        "for metric in average_metrics_lr:\n",
        "    average_metrics_lr[metric] /= num_iterations\n",
        "\n",
        "# Print the overall average metrics for RandomForestClassifier\n",
        "print(\"\\nOverall Average Metrics for RandomForestClassifier:\")\n",
        "print(\"Average Accuracy: {:.8f}\".format(average_metrics_rf['accuracy']))\n",
        "print(\"Average Precision (Class 0): {:.8f}\".format(average_metrics_rf['precision_0']))\n",
        "print(\"Average Recall (Class 0): {:.8f}\".format(average_metrics_rf['recall_0']))\n",
        "print(\"Average F1-Score (Class 0): {:.8f}\".format(average_metrics_rf['f1_0']))\n",
        "print(\"Average Precision (Class 1): {:.8f}\".format(average_metrics_rf['precision_1']))\n",
        "print(\"Average Recall (Class 1): {:.8f}\".format(average_metrics_rf['recall_1']))\n",
        "print(\"Average F1-Score (Class 1): {:.8f}\".format(average_metrics_rf['f1_1']))\n",
        "\n",
        "# Print the overall average metrics for LogisticRegression\n",
        "print(\"\\nOverall Average Metrics for LogisticRegression:\")\n",
        "print(\"Average Accuracy: {:.8f}\".format(average_metrics_lr['accuracy']))\n",
        "print(\"Average Precision (Class 0): {:.8f}\".format(average_metrics_lr['precision_0']))\n",
        "print(\"Average Recall (Class 0): {:.8f}\".format(average_metrics_lr['recall_0']))\n",
        "print(\"Average F1-Score (Class 0): {:.8f}\".format(average_metrics_lr['f1_0']))\n",
        "print(\"Average Precision (Class 1): {:.8f}\".format(average_metrics_lr['precision_1']))\n",
        "print(\"Average Recall (Class 1): {:.8f}\".format(average_metrics_lr['recall_1']))\n",
        "print(\"Average F1-Score (Class 1): {:.8f}\".format(average_metrics_lr['f1_1']))\n",
        "\n"
      ],
      "metadata": {
        "id": "qUx8a1gA1erI",
        "colab": {
          "base_uri": "https://localhost:8080/"
        },
        "outputId": "ef9fa4f7-5390-4c1e-e078-1d0be0580abc"
      },
      "execution_count": null,
      "outputs": [
        {
          "output_type": "stream",
          "name": "stdout",
          "text": [
            "Iteration 1 - RandomForest - Accuracy: 0.9910\n",
            "Iteration 1 - LogisticRegression - Accuracy: 0.9888\n",
            "Iteration 2 - RandomForest - Accuracy: 0.9963\n",
            "Iteration 2 - LogisticRegression - Accuracy: 0.9940\n",
            "Iteration 3 - RandomForest - Accuracy: 0.9918\n",
            "Iteration 3 - LogisticRegression - Accuracy: 0.9910\n",
            "Iteration 4 - RandomForest - Accuracy: 0.9940\n",
            "Iteration 4 - LogisticRegression - Accuracy: 0.9918\n",
            "Iteration 5 - RandomForest - Accuracy: 0.9888\n",
            "Iteration 5 - LogisticRegression - Accuracy: 0.9865\n"
          ]
        },
        {
          "output_type": "stream",
          "name": "stderr",
          "text": [
            "/usr/local/lib/python3.10/dist-packages/sklearn/linear_model/_logistic.py:458: ConvergenceWarning: lbfgs failed to converge (status=1):\n",
            "STOP: TOTAL NO. of ITERATIONS REACHED LIMIT.\n",
            "\n",
            "Increase the number of iterations (max_iter) or scale the data as shown in:\n",
            "    https://scikit-learn.org/stable/modules/preprocessing.html\n",
            "Please also refer to the documentation for alternative solver options:\n",
            "    https://scikit-learn.org/stable/modules/linear_model.html#logistic-regression\n",
            "  n_iter_i = _check_optimize_result(\n"
          ]
        },
        {
          "output_type": "stream",
          "name": "stdout",
          "text": [
            "Iteration 6 - RandomForest - Accuracy: 0.9895\n",
            "Iteration 6 - LogisticRegression - Accuracy: 0.9880\n",
            "Iteration 7 - RandomForest - Accuracy: 0.9948\n",
            "Iteration 7 - LogisticRegression - Accuracy: 0.9933\n",
            "Iteration 8 - RandomForest - Accuracy: 0.9933\n",
            "Iteration 8 - LogisticRegression - Accuracy: 0.9925\n",
            "Iteration 9 - RandomForest - Accuracy: 0.9955\n",
            "Iteration 9 - LogisticRegression - Accuracy: 0.9940\n",
            "Iteration 10 - RandomForest - Accuracy: 0.9910\n",
            "Iteration 10 - LogisticRegression - Accuracy: 0.9880\n",
            "Iteration 11 - RandomForest - Accuracy: 0.9895\n",
            "Iteration 11 - LogisticRegression - Accuracy: 0.9903\n",
            "Iteration 12 - RandomForest - Accuracy: 0.9918\n",
            "Iteration 12 - LogisticRegression - Accuracy: 0.9903\n",
            "Iteration 13 - RandomForest - Accuracy: 0.9873\n",
            "Iteration 13 - LogisticRegression - Accuracy: 0.9880\n",
            "Iteration 14 - RandomForest - Accuracy: 0.9903\n",
            "Iteration 14 - LogisticRegression - Accuracy: 0.9873\n",
            "Iteration 15 - RandomForest - Accuracy: 0.9903\n",
            "Iteration 15 - LogisticRegression - Accuracy: 0.9903\n",
            "Iteration 16 - RandomForest - Accuracy: 0.9895\n",
            "Iteration 16 - LogisticRegression - Accuracy: 0.9903\n",
            "Iteration 17 - RandomForest - Accuracy: 0.9918\n",
            "Iteration 17 - LogisticRegression - Accuracy: 0.9925\n",
            "Iteration 18 - RandomForest - Accuracy: 0.9925\n",
            "Iteration 18 - LogisticRegression - Accuracy: 0.9910\n",
            "Iteration 19 - RandomForest - Accuracy: 0.9940\n",
            "Iteration 19 - LogisticRegression - Accuracy: 0.9948\n",
            "Iteration 20 - RandomForest - Accuracy: 0.9948\n",
            "Iteration 20 - LogisticRegression - Accuracy: 0.9918\n",
            "Iteration 21 - RandomForest - Accuracy: 0.9918\n",
            "Iteration 21 - LogisticRegression - Accuracy: 0.9903\n",
            "Iteration 22 - RandomForest - Accuracy: 0.9933\n",
            "Iteration 22 - LogisticRegression - Accuracy: 0.9910\n",
            "Iteration 23 - RandomForest - Accuracy: 0.9940\n",
            "Iteration 23 - LogisticRegression - Accuracy: 0.9918\n",
            "Iteration 24 - RandomForest - Accuracy: 0.9963\n",
            "Iteration 24 - LogisticRegression - Accuracy: 0.9933\n",
            "Iteration 25 - RandomForest - Accuracy: 0.9925\n",
            "Iteration 25 - LogisticRegression - Accuracy: 0.9933\n",
            "Iteration 26 - RandomForest - Accuracy: 0.9933\n",
            "Iteration 26 - LogisticRegression - Accuracy: 0.9933\n",
            "Iteration 27 - RandomForest - Accuracy: 0.9933\n",
            "Iteration 27 - LogisticRegression - Accuracy: 0.9918\n",
            "Iteration 28 - RandomForest - Accuracy: 0.9933\n",
            "Iteration 28 - LogisticRegression - Accuracy: 0.9925\n",
            "Iteration 29 - RandomForest - Accuracy: 0.9910\n",
            "Iteration 29 - LogisticRegression - Accuracy: 0.9895\n",
            "Iteration 30 - RandomForest - Accuracy: 0.9903\n",
            "Iteration 30 - LogisticRegression - Accuracy: 0.9873\n",
            "Iteration 31 - RandomForest - Accuracy: 0.9918\n",
            "Iteration 31 - LogisticRegression - Accuracy: 0.9910\n",
            "Iteration 32 - RandomForest - Accuracy: 0.9948\n",
            "Iteration 32 - LogisticRegression - Accuracy: 0.9910\n",
            "Iteration 33 - RandomForest - Accuracy: 0.9895\n",
            "Iteration 33 - LogisticRegression - Accuracy: 0.9903\n",
            "Iteration 34 - RandomForest - Accuracy: 0.9925\n",
            "Iteration 34 - LogisticRegression - Accuracy: 0.9933\n",
            "Iteration 35 - RandomForest - Accuracy: 0.9918\n",
            "Iteration 35 - LogisticRegression - Accuracy: 0.9910\n",
            "Iteration 36 - RandomForest - Accuracy: 0.9925\n",
            "Iteration 36 - LogisticRegression - Accuracy: 0.9910\n",
            "Iteration 37 - RandomForest - Accuracy: 0.9925\n",
            "Iteration 37 - LogisticRegression - Accuracy: 0.9903\n",
            "Iteration 38 - RandomForest - Accuracy: 0.9933\n",
            "Iteration 38 - LogisticRegression - Accuracy: 0.9918\n",
            "Iteration 39 - RandomForest - Accuracy: 0.9888\n",
            "Iteration 39 - LogisticRegression - Accuracy: 0.9880\n",
            "Iteration 40 - RandomForest - Accuracy: 0.9925\n",
            "Iteration 40 - LogisticRegression - Accuracy: 0.9910\n",
            "Iteration 41 - RandomForest - Accuracy: 0.9940\n",
            "Iteration 41 - LogisticRegression - Accuracy: 0.9933\n",
            "Iteration 42 - RandomForest - Accuracy: 0.9910\n",
            "Iteration 42 - LogisticRegression - Accuracy: 0.9910\n",
            "Iteration 43 - RandomForest - Accuracy: 0.9955\n",
            "Iteration 43 - LogisticRegression - Accuracy: 0.9925\n",
            "Iteration 44 - RandomForest - Accuracy: 0.9925\n",
            "Iteration 44 - LogisticRegression - Accuracy: 0.9888\n",
            "Iteration 45 - RandomForest - Accuracy: 0.9918\n",
            "Iteration 45 - LogisticRegression - Accuracy: 0.9895\n",
            "Iteration 46 - RandomForest - Accuracy: 0.9910\n",
            "Iteration 46 - LogisticRegression - Accuracy: 0.9895\n",
            "Iteration 47 - RandomForest - Accuracy: 0.9925\n",
            "Iteration 47 - LogisticRegression - Accuracy: 0.9918\n",
            "Iteration 48 - RandomForest - Accuracy: 0.9970\n",
            "Iteration 48 - LogisticRegression - Accuracy: 0.9933\n",
            "Iteration 49 - RandomForest - Accuracy: 0.9895\n",
            "Iteration 49 - LogisticRegression - Accuracy: 0.9888\n",
            "Iteration 50 - RandomForest - Accuracy: 0.9910\n",
            "Iteration 50 - LogisticRegression - Accuracy: 0.9910\n",
            "Iteration 51 - RandomForest - Accuracy: 0.9910\n",
            "Iteration 51 - LogisticRegression - Accuracy: 0.9910\n",
            "Iteration 52 - RandomForest - Accuracy: 0.9910\n",
            "Iteration 52 - LogisticRegression - Accuracy: 0.9895\n",
            "Iteration 53 - RandomForest - Accuracy: 0.9895\n",
            "Iteration 53 - LogisticRegression - Accuracy: 0.9895\n",
            "Iteration 54 - RandomForest - Accuracy: 0.9895\n",
            "Iteration 54 - LogisticRegression - Accuracy: 0.9888\n",
            "Iteration 55 - RandomForest - Accuracy: 0.9910\n",
            "Iteration 55 - LogisticRegression - Accuracy: 0.9880\n",
            "Iteration 56 - RandomForest - Accuracy: 0.9865\n",
            "Iteration 56 - LogisticRegression - Accuracy: 0.9858\n",
            "Iteration 57 - RandomForest - Accuracy: 0.9910\n",
            "Iteration 57 - LogisticRegression - Accuracy: 0.9895\n",
            "Iteration 58 - RandomForest - Accuracy: 0.9910\n",
            "Iteration 58 - LogisticRegression - Accuracy: 0.9910\n",
            "Iteration 59 - RandomForest - Accuracy: 0.9910\n",
            "Iteration 59 - LogisticRegression - Accuracy: 0.9888\n",
            "Iteration 60 - RandomForest - Accuracy: 0.9910\n",
            "Iteration 60 - LogisticRegression - Accuracy: 0.9895\n",
            "Iteration 61 - RandomForest - Accuracy: 0.9910\n",
            "Iteration 61 - LogisticRegression - Accuracy: 0.9903\n",
            "Iteration 62 - RandomForest - Accuracy: 0.9978\n",
            "Iteration 62 - LogisticRegression - Accuracy: 0.9963\n",
            "Iteration 63 - RandomForest - Accuracy: 0.9918\n",
            "Iteration 63 - LogisticRegression - Accuracy: 0.9903\n"
          ]
        },
        {
          "output_type": "stream",
          "name": "stderr",
          "text": [
            "/usr/local/lib/python3.10/dist-packages/sklearn/linear_model/_logistic.py:458: ConvergenceWarning: lbfgs failed to converge (status=1):\n",
            "STOP: TOTAL NO. of ITERATIONS REACHED LIMIT.\n",
            "\n",
            "Increase the number of iterations (max_iter) or scale the data as shown in:\n",
            "    https://scikit-learn.org/stable/modules/preprocessing.html\n",
            "Please also refer to the documentation for alternative solver options:\n",
            "    https://scikit-learn.org/stable/modules/linear_model.html#logistic-regression\n",
            "  n_iter_i = _check_optimize_result(\n"
          ]
        },
        {
          "output_type": "stream",
          "name": "stdout",
          "text": [
            "Iteration 64 - RandomForest - Accuracy: 0.9955\n",
            "Iteration 64 - LogisticRegression - Accuracy: 0.9948\n",
            "Iteration 65 - RandomForest - Accuracy: 0.9895\n",
            "Iteration 65 - LogisticRegression - Accuracy: 0.9895\n",
            "Iteration 66 - RandomForest - Accuracy: 0.9940\n",
            "Iteration 66 - LogisticRegression - Accuracy: 0.9918\n",
            "Iteration 67 - RandomForest - Accuracy: 0.9948\n",
            "Iteration 67 - LogisticRegression - Accuracy: 0.9918\n",
            "Iteration 68 - RandomForest - Accuracy: 0.9933\n",
            "Iteration 68 - LogisticRegression - Accuracy: 0.9903\n",
            "Iteration 69 - RandomForest - Accuracy: 0.9910\n",
            "Iteration 69 - LogisticRegression - Accuracy: 0.9895\n",
            "Iteration 70 - RandomForest - Accuracy: 0.9918\n",
            "Iteration 70 - LogisticRegression - Accuracy: 0.9888\n",
            "Iteration 71 - RandomForest - Accuracy: 0.9948\n",
            "Iteration 71 - LogisticRegression - Accuracy: 0.9955\n",
            "Iteration 72 - RandomForest - Accuracy: 0.9933\n",
            "Iteration 72 - LogisticRegression - Accuracy: 0.9925\n",
            "Iteration 73 - RandomForest - Accuracy: 0.9918\n",
            "Iteration 73 - LogisticRegression - Accuracy: 0.9903\n",
            "Iteration 74 - RandomForest - Accuracy: 0.9895\n",
            "Iteration 74 - LogisticRegression - Accuracy: 0.9895\n",
            "Iteration 75 - RandomForest - Accuracy: 0.9918\n",
            "Iteration 75 - LogisticRegression - Accuracy: 0.9903\n",
            "Iteration 76 - RandomForest - Accuracy: 0.9963\n",
            "Iteration 76 - LogisticRegression - Accuracy: 0.9925\n",
            "Iteration 77 - RandomForest - Accuracy: 0.9963\n",
            "Iteration 77 - LogisticRegression - Accuracy: 0.9940\n",
            "Iteration 78 - RandomForest - Accuracy: 0.9910\n",
            "Iteration 78 - LogisticRegression - Accuracy: 0.9903\n",
            "Iteration 79 - RandomForest - Accuracy: 0.9888\n",
            "Iteration 79 - LogisticRegression - Accuracy: 0.9865\n",
            "Iteration 80 - RandomForest - Accuracy: 0.9910\n",
            "Iteration 80 - LogisticRegression - Accuracy: 0.9903\n",
            "Iteration 81 - RandomForest - Accuracy: 0.9925\n",
            "Iteration 81 - LogisticRegression - Accuracy: 0.9895\n",
            "Iteration 82 - RandomForest - Accuracy: 0.9910\n",
            "Iteration 82 - LogisticRegression - Accuracy: 0.9903\n",
            "Iteration 83 - RandomForest - Accuracy: 0.9940\n",
            "Iteration 83 - LogisticRegression - Accuracy: 0.9925\n",
            "Iteration 84 - RandomForest - Accuracy: 0.9925\n",
            "Iteration 84 - LogisticRegression - Accuracy: 0.9940\n",
            "Iteration 85 - RandomForest - Accuracy: 0.9925\n",
            "Iteration 85 - LogisticRegression - Accuracy: 0.9925\n",
            "Iteration 86 - RandomForest - Accuracy: 0.9903\n",
            "Iteration 86 - LogisticRegression - Accuracy: 0.9910\n",
            "Iteration 87 - RandomForest - Accuracy: 0.9918\n",
            "Iteration 87 - LogisticRegression - Accuracy: 0.9910\n",
            "Iteration 88 - RandomForest - Accuracy: 0.9940\n",
            "Iteration 88 - LogisticRegression - Accuracy: 0.9940\n",
            "Iteration 89 - RandomForest - Accuracy: 0.9948\n",
            "Iteration 89 - LogisticRegression - Accuracy: 0.9918\n",
            "Iteration 90 - RandomForest - Accuracy: 0.9903\n",
            "Iteration 90 - LogisticRegression - Accuracy: 0.9888\n",
            "Iteration 91 - RandomForest - Accuracy: 0.9925\n",
            "Iteration 91 - LogisticRegression - Accuracy: 0.9903\n",
            "Iteration 92 - RandomForest - Accuracy: 0.9940\n",
            "Iteration 92 - LogisticRegression - Accuracy: 0.9880\n",
            "Iteration 93 - RandomForest - Accuracy: 0.9895\n",
            "Iteration 93 - LogisticRegression - Accuracy: 0.9888\n",
            "Iteration 94 - RandomForest - Accuracy: 0.9910\n",
            "Iteration 94 - LogisticRegression - Accuracy: 0.9873\n",
            "Iteration 95 - RandomForest - Accuracy: 0.9880\n",
            "Iteration 95 - LogisticRegression - Accuracy: 0.9888\n",
            "Iteration 96 - RandomForest - Accuracy: 0.9880\n",
            "Iteration 96 - LogisticRegression - Accuracy: 0.9865\n",
            "Iteration 97 - RandomForest - Accuracy: 0.9903\n",
            "Iteration 97 - LogisticRegression - Accuracy: 0.9865\n",
            "Iteration 98 - RandomForest - Accuracy: 0.9933\n",
            "Iteration 98 - LogisticRegression - Accuracy: 0.9933\n",
            "Iteration 99 - RandomForest - Accuracy: 0.9933\n",
            "Iteration 99 - LogisticRegression - Accuracy: 0.9895\n",
            "Iteration 100 - RandomForest - Accuracy: 0.9948\n",
            "Iteration 100 - LogisticRegression - Accuracy: 0.9925\n",
            "\n",
            "Overall Average Metrics for RandomForestClassifier:\n",
            "Average Accuracy: 0.99208084\n",
            "Average Precision (Class 0): 0.99265165\n",
            "Average Recall (Class 0): 0.99940292\n",
            "Average F1-Score (Class 0): 0.99601462\n",
            "Average Precision (Class 1): 0.80669444\n",
            "Average Recall (Class 1): 0.23833535\n",
            "Average F1-Score (Class 1): 0.35108246\n",
            "\n",
            "Overall Average Metrics for LogisticRegression:\n",
            "Average Accuracy: 0.99069611\n",
            "Average Precision (Class 0): 0.99069331\n",
            "Average Recall (Class 0): 1.00000000\n",
            "Average F1-Score (Class 0): 0.99532373\n",
            "Average Precision (Class 1): 1.00000000\n",
            "Average Recall (Class 1): 0.03111324\n",
            "Average F1-Score (Class 1): 0.05700221\n"
          ]
        }
      ]
    },
    {
      "cell_type": "code",
      "source": [
        "print(x_train)"
      ],
      "metadata": {
        "colab": {
          "base_uri": "https://localhost:8080/"
        },
        "id": "xPjKqFQJcxDg",
        "outputId": "0a949a67-dc9f-4442-fd2a-d058da255fc5"
      },
      "execution_count": null,
      "outputs": [
        {
          "output_type": "stream",
          "name": "stdout",
          "text": [
            "[[ 1.          0.          1.46387716  1.38674282  1.35453667]\n",
            " [ 0.          1.         -1.25504603 -1.08897411 -0.72966391]\n",
            " [ 0.          1.         -0.13083583  0.24172374  0.1889282 ]\n",
            " ...\n",
            " [ 1.          0.          0.54160842  0.76781359  0.73699576]\n",
            " [ 0.          1.         -0.94068355 -0.62477719 -1.11562698]\n",
            " [ 0.          1.          0.45416985 -0.16058026  0.11945485]]\n"
          ]
        }
      ]
    }
  ],
  "metadata": {
    "colab": {
      "provenance": []
    },
    "kernelspec": {
      "display_name": "Python 3",
      "name": "python3"
    },
    "language_info": {
      "name": "python"
    }
  },
  "nbformat": 4,
  "nbformat_minor": 0
}