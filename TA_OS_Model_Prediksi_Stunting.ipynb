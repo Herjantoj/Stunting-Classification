{
  "cells": [
    {
      "cell_type": "markdown",
      "metadata": {
        "id": "vqSjnjIagxm1"
      },
      "source": [
        "#**Stunting Classification with Random Forest and Logistic Regression**\n",
        "\n",
        "---\n",
        "\n"
      ]
    },
    {
      "cell_type": "code",
      "execution_count": null,
      "metadata": {
        "id": "Lq7Iq105qd-l"
      },
      "outputs": [],
      "source": [
        "import pandas as pd\n",
        "import numpy as np\n",
        "import tensorflow as tf"
      ]
    },
    {
      "cell_type": "code",
      "execution_count": null,
      "metadata": {
        "colab": {
          "base_uri": "https://localhost:8080/"
        },
        "id": "rJB27t0pqlQ6",
        "outputId": "8b9c7fbc-b526-4f3b-8c3c-cf66061cd627"
      },
      "outputs": [
        {
          "output_type": "stream",
          "name": "stdout",
          "text": [
            "sample_data\n"
          ]
        }
      ],
      "source": [
        "!ls"
      ]
    },
    {
      "cell_type": "markdown",
      "metadata": {
        "id": "Ng9eUBPef0t8"
      },
      "source": [
        "# **Import Dataset**"
      ]
    },
    {
      "cell_type": "code",
      "execution_count": null,
      "metadata": {
        "colab": {
          "base_uri": "https://localhost:8080/"
        },
        "id": "fckgCyjeupCh",
        "outputId": "b07241c1-50ee-4ab3-b31a-14e54dc6e664"
      },
      "outputs": [
        {
          "output_type": "stream",
          "name": "stdout",
          "text": [
            "Downloading...\n",
            "From: https://drive.google.com/uc?id=1U4rB8x2uZcvV9MEOB3qYPBa1LzaObUi6\n",
            "To: /content/Data Stunting.xlsx\n",
            "\r  0% 0.00/300k [00:00<?, ?B/s]\r100% 300k/300k [00:00<00:00, 4.76MB/s]\n"
          ]
        }
      ],
      "source": [
        "# from google.colab import files\n",
        "# uploaded = files.upload()\n",
        "\n",
        "!gdown 1U4rB8x2uZcvV9MEOB3qYPBa1LzaObUi6"
      ]
    },
    {
      "cell_type": "code",
      "execution_count": null,
      "metadata": {
        "id": "S0SXqY0urj4y"
      },
      "outputs": [],
      "source": [
        "# Impor dataset dari file Excel\n",
        "df = pd.read_excel('Data Stunting.xlsx')"
      ]
    },
    {
      "cell_type": "code",
      "execution_count": null,
      "metadata": {
        "colab": {
          "base_uri": "https://localhost:8080/",
          "height": 423
        },
        "id": "o1oz9qmDEebS",
        "outputId": "a789fbd7-486a-46ff-a88f-e4454952b90d"
      },
      "outputs": [
        {
          "output_type": "execute_result",
          "data": {
            "text/plain": [
              "                              Nama  JK       Usia  Berat Tinggi  \\\n",
              "0            FAISAL FAKIH RUKMANA   L    2.466667    4.9     58   \n",
              "1     MUHAMMAD HAFIDZ ATHAFARIZ S   L   58.466667   17.0    109   \n",
              "2              VIONA FEBBY YASMIN   P    5.166667    7.1   68.5   \n",
              "3            GHEGHE KALISTA PUTRI   P   45.300000   13.8     95   \n",
              "4        LINGGA OKTAVIAN WIRATAMA   L   53.633333   18.6    106   \n",
              "...                            ...  ..        ...    ...    ...   \n",
              "6672                  KAUTSARRAKY   L    0.000000    3.0     50   \n",
              "6673                     ALEENA H   P    0.000000    3.0     50   \n",
              "6674                      M EMRAN   L    0.000000    3.0     50   \n",
              "6675                   REZVAN A P   L    0.000000    3.0     50   \n",
              "6676     APRIANZA QEISYAM GUNAWAN   L    0.000000    2.8     48   \n",
              "\n",
              "              Status  \n",
              "0     Tidak Stunting  \n",
              "1     Tidak Stunting  \n",
              "2     Tidak Stunting  \n",
              "3     Tidak Stunting  \n",
              "4     Tidak Stunting  \n",
              "...              ...  \n",
              "6672  Tidak Stunting  \n",
              "6673  Tidak Stunting  \n",
              "6674        Stunting  \n",
              "6675  Tidak Stunting  \n",
              "6676  Tidak Stunting  \n",
              "\n",
              "[6677 rows x 6 columns]"
            ],
            "text/html": [
              "\n",
              "  <div id=\"df-f99b0cf5-ef1b-41d2-8570-0656038a2706\" class=\"colab-df-container\">\n",
              "    <div>\n",
              "<style scoped>\n",
              "    .dataframe tbody tr th:only-of-type {\n",
              "        vertical-align: middle;\n",
              "    }\n",
              "\n",
              "    .dataframe tbody tr th {\n",
              "        vertical-align: top;\n",
              "    }\n",
              "\n",
              "    .dataframe thead th {\n",
              "        text-align: right;\n",
              "    }\n",
              "</style>\n",
              "<table border=\"1\" class=\"dataframe\">\n",
              "  <thead>\n",
              "    <tr style=\"text-align: right;\">\n",
              "      <th></th>\n",
              "      <th>Nama</th>\n",
              "      <th>JK</th>\n",
              "      <th>Usia</th>\n",
              "      <th>Berat</th>\n",
              "      <th>Tinggi</th>\n",
              "      <th>Status</th>\n",
              "    </tr>\n",
              "  </thead>\n",
              "  <tbody>\n",
              "    <tr>\n",
              "      <th>0</th>\n",
              "      <td>FAISAL FAKIH RUKMANA</td>\n",
              "      <td>L</td>\n",
              "      <td>2.466667</td>\n",
              "      <td>4.9</td>\n",
              "      <td>58</td>\n",
              "      <td>Tidak Stunting</td>\n",
              "    </tr>\n",
              "    <tr>\n",
              "      <th>1</th>\n",
              "      <td>MUHAMMAD HAFIDZ ATHAFARIZ S</td>\n",
              "      <td>L</td>\n",
              "      <td>58.466667</td>\n",
              "      <td>17.0</td>\n",
              "      <td>109</td>\n",
              "      <td>Tidak Stunting</td>\n",
              "    </tr>\n",
              "    <tr>\n",
              "      <th>2</th>\n",
              "      <td>VIONA FEBBY YASMIN</td>\n",
              "      <td>P</td>\n",
              "      <td>5.166667</td>\n",
              "      <td>7.1</td>\n",
              "      <td>68.5</td>\n",
              "      <td>Tidak Stunting</td>\n",
              "    </tr>\n",
              "    <tr>\n",
              "      <th>3</th>\n",
              "      <td>GHEGHE KALISTA PUTRI</td>\n",
              "      <td>P</td>\n",
              "      <td>45.300000</td>\n",
              "      <td>13.8</td>\n",
              "      <td>95</td>\n",
              "      <td>Tidak Stunting</td>\n",
              "    </tr>\n",
              "    <tr>\n",
              "      <th>4</th>\n",
              "      <td>LINGGA OKTAVIAN WIRATAMA</td>\n",
              "      <td>L</td>\n",
              "      <td>53.633333</td>\n",
              "      <td>18.6</td>\n",
              "      <td>106</td>\n",
              "      <td>Tidak Stunting</td>\n",
              "    </tr>\n",
              "    <tr>\n",
              "      <th>...</th>\n",
              "      <td>...</td>\n",
              "      <td>...</td>\n",
              "      <td>...</td>\n",
              "      <td>...</td>\n",
              "      <td>...</td>\n",
              "      <td>...</td>\n",
              "    </tr>\n",
              "    <tr>\n",
              "      <th>6672</th>\n",
              "      <td>KAUTSARRAKY</td>\n",
              "      <td>L</td>\n",
              "      <td>0.000000</td>\n",
              "      <td>3.0</td>\n",
              "      <td>50</td>\n",
              "      <td>Tidak Stunting</td>\n",
              "    </tr>\n",
              "    <tr>\n",
              "      <th>6673</th>\n",
              "      <td>ALEENA H</td>\n",
              "      <td>P</td>\n",
              "      <td>0.000000</td>\n",
              "      <td>3.0</td>\n",
              "      <td>50</td>\n",
              "      <td>Tidak Stunting</td>\n",
              "    </tr>\n",
              "    <tr>\n",
              "      <th>6674</th>\n",
              "      <td>M EMRAN</td>\n",
              "      <td>L</td>\n",
              "      <td>0.000000</td>\n",
              "      <td>3.0</td>\n",
              "      <td>50</td>\n",
              "      <td>Stunting</td>\n",
              "    </tr>\n",
              "    <tr>\n",
              "      <th>6675</th>\n",
              "      <td>REZVAN A P</td>\n",
              "      <td>L</td>\n",
              "      <td>0.000000</td>\n",
              "      <td>3.0</td>\n",
              "      <td>50</td>\n",
              "      <td>Tidak Stunting</td>\n",
              "    </tr>\n",
              "    <tr>\n",
              "      <th>6676</th>\n",
              "      <td>APRIANZA QEISYAM GUNAWAN</td>\n",
              "      <td>L</td>\n",
              "      <td>0.000000</td>\n",
              "      <td>2.8</td>\n",
              "      <td>48</td>\n",
              "      <td>Tidak Stunting</td>\n",
              "    </tr>\n",
              "  </tbody>\n",
              "</table>\n",
              "<p>6677 rows × 6 columns</p>\n",
              "</div>\n",
              "    <div class=\"colab-df-buttons\">\n",
              "\n",
              "  <div class=\"colab-df-container\">\n",
              "    <button class=\"colab-df-convert\" onclick=\"convertToInteractive('df-f99b0cf5-ef1b-41d2-8570-0656038a2706')\"\n",
              "            title=\"Convert this dataframe to an interactive table.\"\n",
              "            style=\"display:none;\">\n",
              "\n",
              "  <svg xmlns=\"http://www.w3.org/2000/svg\" height=\"24px\" viewBox=\"0 -960 960 960\">\n",
              "    <path d=\"M120-120v-720h720v720H120Zm60-500h600v-160H180v160Zm220 220h160v-160H400v160Zm0 220h160v-160H400v160ZM180-400h160v-160H180v160Zm440 0h160v-160H620v160ZM180-180h160v-160H180v160Zm440 0h160v-160H620v160Z\"/>\n",
              "  </svg>\n",
              "    </button>\n",
              "\n",
              "  <style>\n",
              "    .colab-df-container {\n",
              "      display:flex;\n",
              "      gap: 12px;\n",
              "    }\n",
              "\n",
              "    .colab-df-convert {\n",
              "      background-color: #E8F0FE;\n",
              "      border: none;\n",
              "      border-radius: 50%;\n",
              "      cursor: pointer;\n",
              "      display: none;\n",
              "      fill: #1967D2;\n",
              "      height: 32px;\n",
              "      padding: 0 0 0 0;\n",
              "      width: 32px;\n",
              "    }\n",
              "\n",
              "    .colab-df-convert:hover {\n",
              "      background-color: #E2EBFA;\n",
              "      box-shadow: 0px 1px 2px rgba(60, 64, 67, 0.3), 0px 1px 3px 1px rgba(60, 64, 67, 0.15);\n",
              "      fill: #174EA6;\n",
              "    }\n",
              "\n",
              "    .colab-df-buttons div {\n",
              "      margin-bottom: 4px;\n",
              "    }\n",
              "\n",
              "    [theme=dark] .colab-df-convert {\n",
              "      background-color: #3B4455;\n",
              "      fill: #D2E3FC;\n",
              "    }\n",
              "\n",
              "    [theme=dark] .colab-df-convert:hover {\n",
              "      background-color: #434B5C;\n",
              "      box-shadow: 0px 1px 3px 1px rgba(0, 0, 0, 0.15);\n",
              "      filter: drop-shadow(0px 1px 2px rgba(0, 0, 0, 0.3));\n",
              "      fill: #FFFFFF;\n",
              "    }\n",
              "  </style>\n",
              "\n",
              "    <script>\n",
              "      const buttonEl =\n",
              "        document.querySelector('#df-f99b0cf5-ef1b-41d2-8570-0656038a2706 button.colab-df-convert');\n",
              "      buttonEl.style.display =\n",
              "        google.colab.kernel.accessAllowed ? 'block' : 'none';\n",
              "\n",
              "      async function convertToInteractive(key) {\n",
              "        const element = document.querySelector('#df-f99b0cf5-ef1b-41d2-8570-0656038a2706');\n",
              "        const dataTable =\n",
              "          await google.colab.kernel.invokeFunction('convertToInteractive',\n",
              "                                                    [key], {});\n",
              "        if (!dataTable) return;\n",
              "\n",
              "        const docLinkHtml = 'Like what you see? Visit the ' +\n",
              "          '<a target=\"_blank\" href=https://colab.research.google.com/notebooks/data_table.ipynb>data table notebook</a>'\n",
              "          + ' to learn more about interactive tables.';\n",
              "        element.innerHTML = '';\n",
              "        dataTable['output_type'] = 'display_data';\n",
              "        await google.colab.output.renderOutput(dataTable, element);\n",
              "        const docLink = document.createElement('div');\n",
              "        docLink.innerHTML = docLinkHtml;\n",
              "        element.appendChild(docLink);\n",
              "      }\n",
              "    </script>\n",
              "  </div>\n",
              "\n",
              "\n",
              "<div id=\"df-68b0e442-7136-4285-a429-309c24e90461\">\n",
              "  <button class=\"colab-df-quickchart\" onclick=\"quickchart('df-68b0e442-7136-4285-a429-309c24e90461')\"\n",
              "            title=\"Suggest charts\"\n",
              "            style=\"display:none;\">\n",
              "\n",
              "<svg xmlns=\"http://www.w3.org/2000/svg\" height=\"24px\"viewBox=\"0 0 24 24\"\n",
              "     width=\"24px\">\n",
              "    <g>\n",
              "        <path d=\"M19 3H5c-1.1 0-2 .9-2 2v14c0 1.1.9 2 2 2h14c1.1 0 2-.9 2-2V5c0-1.1-.9-2-2-2zM9 17H7v-7h2v7zm4 0h-2V7h2v10zm4 0h-2v-4h2v4z\"/>\n",
              "    </g>\n",
              "</svg>\n",
              "  </button>\n",
              "\n",
              "<style>\n",
              "  .colab-df-quickchart {\n",
              "      --bg-color: #E8F0FE;\n",
              "      --fill-color: #1967D2;\n",
              "      --hover-bg-color: #E2EBFA;\n",
              "      --hover-fill-color: #174EA6;\n",
              "      --disabled-fill-color: #AAA;\n",
              "      --disabled-bg-color: #DDD;\n",
              "  }\n",
              "\n",
              "  [theme=dark] .colab-df-quickchart {\n",
              "      --bg-color: #3B4455;\n",
              "      --fill-color: #D2E3FC;\n",
              "      --hover-bg-color: #434B5C;\n",
              "      --hover-fill-color: #FFFFFF;\n",
              "      --disabled-bg-color: #3B4455;\n",
              "      --disabled-fill-color: #666;\n",
              "  }\n",
              "\n",
              "  .colab-df-quickchart {\n",
              "    background-color: var(--bg-color);\n",
              "    border: none;\n",
              "    border-radius: 50%;\n",
              "    cursor: pointer;\n",
              "    display: none;\n",
              "    fill: var(--fill-color);\n",
              "    height: 32px;\n",
              "    padding: 0;\n",
              "    width: 32px;\n",
              "  }\n",
              "\n",
              "  .colab-df-quickchart:hover {\n",
              "    background-color: var(--hover-bg-color);\n",
              "    box-shadow: 0 1px 2px rgba(60, 64, 67, 0.3), 0 1px 3px 1px rgba(60, 64, 67, 0.15);\n",
              "    fill: var(--button-hover-fill-color);\n",
              "  }\n",
              "\n",
              "  .colab-df-quickchart-complete:disabled,\n",
              "  .colab-df-quickchart-complete:disabled:hover {\n",
              "    background-color: var(--disabled-bg-color);\n",
              "    fill: var(--disabled-fill-color);\n",
              "    box-shadow: none;\n",
              "  }\n",
              "\n",
              "  .colab-df-spinner {\n",
              "    border: 2px solid var(--fill-color);\n",
              "    border-color: transparent;\n",
              "    border-bottom-color: var(--fill-color);\n",
              "    animation:\n",
              "      spin 1s steps(1) infinite;\n",
              "  }\n",
              "\n",
              "  @keyframes spin {\n",
              "    0% {\n",
              "      border-color: transparent;\n",
              "      border-bottom-color: var(--fill-color);\n",
              "      border-left-color: var(--fill-color);\n",
              "    }\n",
              "    20% {\n",
              "      border-color: transparent;\n",
              "      border-left-color: var(--fill-color);\n",
              "      border-top-color: var(--fill-color);\n",
              "    }\n",
              "    30% {\n",
              "      border-color: transparent;\n",
              "      border-left-color: var(--fill-color);\n",
              "      border-top-color: var(--fill-color);\n",
              "      border-right-color: var(--fill-color);\n",
              "    }\n",
              "    40% {\n",
              "      border-color: transparent;\n",
              "      border-right-color: var(--fill-color);\n",
              "      border-top-color: var(--fill-color);\n",
              "    }\n",
              "    60% {\n",
              "      border-color: transparent;\n",
              "      border-right-color: var(--fill-color);\n",
              "    }\n",
              "    80% {\n",
              "      border-color: transparent;\n",
              "      border-right-color: var(--fill-color);\n",
              "      border-bottom-color: var(--fill-color);\n",
              "    }\n",
              "    90% {\n",
              "      border-color: transparent;\n",
              "      border-bottom-color: var(--fill-color);\n",
              "    }\n",
              "  }\n",
              "</style>\n",
              "\n",
              "  <script>\n",
              "    async function quickchart(key) {\n",
              "      const quickchartButtonEl =\n",
              "        document.querySelector('#' + key + ' button');\n",
              "      quickchartButtonEl.disabled = true;  // To prevent multiple clicks.\n",
              "      quickchartButtonEl.classList.add('colab-df-spinner');\n",
              "      try {\n",
              "        const charts = await google.colab.kernel.invokeFunction(\n",
              "            'suggestCharts', [key], {});\n",
              "      } catch (error) {\n",
              "        console.error('Error during call to suggestCharts:', error);\n",
              "      }\n",
              "      quickchartButtonEl.classList.remove('colab-df-spinner');\n",
              "      quickchartButtonEl.classList.add('colab-df-quickchart-complete');\n",
              "    }\n",
              "    (() => {\n",
              "      let quickchartButtonEl =\n",
              "        document.querySelector('#df-68b0e442-7136-4285-a429-309c24e90461 button');\n",
              "      quickchartButtonEl.style.display =\n",
              "        google.colab.kernel.accessAllowed ? 'block' : 'none';\n",
              "    })();\n",
              "  </script>\n",
              "</div>\n",
              "    </div>\n",
              "  </div>\n"
            ]
          },
          "metadata": {},
          "execution_count": 5
        }
      ],
      "source": [
        "# Call dataset\n",
        "df"
      ]
    },
    {
      "cell_type": "markdown",
      "metadata": {
        "id": "TctciaNrZGhB"
      },
      "source": [
        "# **Data Cleaning**"
      ]
    },
    {
      "cell_type": "code",
      "execution_count": null,
      "metadata": {
        "colab": {
          "base_uri": "https://localhost:8080/",
          "height": 53
        },
        "id": "1J2a19OaFFLV",
        "outputId": "77915f7d-aa11-4d4d-d2d7-9b3c1d22f07a"
      },
      "outputs": [
        {
          "output_type": "execute_result",
          "data": {
            "text/plain": [
              "Empty DataFrame\n",
              "Columns: [Nama, JK, Usia, Berat, Tinggi, Status]\n",
              "Index: []"
            ],
            "text/html": [
              "\n",
              "  <div id=\"df-e76beb79-6d8b-43a2-9a75-2b7ba23c3c77\" class=\"colab-df-container\">\n",
              "    <div>\n",
              "<style scoped>\n",
              "    .dataframe tbody tr th:only-of-type {\n",
              "        vertical-align: middle;\n",
              "    }\n",
              "\n",
              "    .dataframe tbody tr th {\n",
              "        vertical-align: top;\n",
              "    }\n",
              "\n",
              "    .dataframe thead th {\n",
              "        text-align: right;\n",
              "    }\n",
              "</style>\n",
              "<table border=\"1\" class=\"dataframe\">\n",
              "  <thead>\n",
              "    <tr style=\"text-align: right;\">\n",
              "      <th></th>\n",
              "      <th>Nama</th>\n",
              "      <th>JK</th>\n",
              "      <th>Usia</th>\n",
              "      <th>Berat</th>\n",
              "      <th>Tinggi</th>\n",
              "      <th>Status</th>\n",
              "    </tr>\n",
              "  </thead>\n",
              "  <tbody>\n",
              "  </tbody>\n",
              "</table>\n",
              "</div>\n",
              "    <div class=\"colab-df-buttons\">\n",
              "\n",
              "  <div class=\"colab-df-container\">\n",
              "    <button class=\"colab-df-convert\" onclick=\"convertToInteractive('df-e76beb79-6d8b-43a2-9a75-2b7ba23c3c77')\"\n",
              "            title=\"Convert this dataframe to an interactive table.\"\n",
              "            style=\"display:none;\">\n",
              "\n",
              "  <svg xmlns=\"http://www.w3.org/2000/svg\" height=\"24px\" viewBox=\"0 -960 960 960\">\n",
              "    <path d=\"M120-120v-720h720v720H120Zm60-500h600v-160H180v160Zm220 220h160v-160H400v160Zm0 220h160v-160H400v160ZM180-400h160v-160H180v160Zm440 0h160v-160H620v160ZM180-180h160v-160H180v160Zm440 0h160v-160H620v160Z\"/>\n",
              "  </svg>\n",
              "    </button>\n",
              "\n",
              "  <style>\n",
              "    .colab-df-container {\n",
              "      display:flex;\n",
              "      gap: 12px;\n",
              "    }\n",
              "\n",
              "    .colab-df-convert {\n",
              "      background-color: #E8F0FE;\n",
              "      border: none;\n",
              "      border-radius: 50%;\n",
              "      cursor: pointer;\n",
              "      display: none;\n",
              "      fill: #1967D2;\n",
              "      height: 32px;\n",
              "      padding: 0 0 0 0;\n",
              "      width: 32px;\n",
              "    }\n",
              "\n",
              "    .colab-df-convert:hover {\n",
              "      background-color: #E2EBFA;\n",
              "      box-shadow: 0px 1px 2px rgba(60, 64, 67, 0.3), 0px 1px 3px 1px rgba(60, 64, 67, 0.15);\n",
              "      fill: #174EA6;\n",
              "    }\n",
              "\n",
              "    .colab-df-buttons div {\n",
              "      margin-bottom: 4px;\n",
              "    }\n",
              "\n",
              "    [theme=dark] .colab-df-convert {\n",
              "      background-color: #3B4455;\n",
              "      fill: #D2E3FC;\n",
              "    }\n",
              "\n",
              "    [theme=dark] .colab-df-convert:hover {\n",
              "      background-color: #434B5C;\n",
              "      box-shadow: 0px 1px 3px 1px rgba(0, 0, 0, 0.15);\n",
              "      filter: drop-shadow(0px 1px 2px rgba(0, 0, 0, 0.3));\n",
              "      fill: #FFFFFF;\n",
              "    }\n",
              "  </style>\n",
              "\n",
              "    <script>\n",
              "      const buttonEl =\n",
              "        document.querySelector('#df-e76beb79-6d8b-43a2-9a75-2b7ba23c3c77 button.colab-df-convert');\n",
              "      buttonEl.style.display =\n",
              "        google.colab.kernel.accessAllowed ? 'block' : 'none';\n",
              "\n",
              "      async function convertToInteractive(key) {\n",
              "        const element = document.querySelector('#df-e76beb79-6d8b-43a2-9a75-2b7ba23c3c77');\n",
              "        const dataTable =\n",
              "          await google.colab.kernel.invokeFunction('convertToInteractive',\n",
              "                                                    [key], {});\n",
              "        if (!dataTable) return;\n",
              "\n",
              "        const docLinkHtml = 'Like what you see? Visit the ' +\n",
              "          '<a target=\"_blank\" href=https://colab.research.google.com/notebooks/data_table.ipynb>data table notebook</a>'\n",
              "          + ' to learn more about interactive tables.';\n",
              "        element.innerHTML = '';\n",
              "        dataTable['output_type'] = 'display_data';\n",
              "        await google.colab.output.renderOutput(dataTable, element);\n",
              "        const docLink = document.createElement('div');\n",
              "        docLink.innerHTML = docLinkHtml;\n",
              "        element.appendChild(docLink);\n",
              "      }\n",
              "    </script>\n",
              "  </div>\n",
              "\n",
              "    </div>\n",
              "  </div>\n"
            ]
          },
          "metadata": {},
          "execution_count": 6
        }
      ],
      "source": [
        "# Check Missing Value\n",
        "nan_data = df[df.isna().any(axis=1)]\n",
        "nan_data"
      ]
    },
    {
      "cell_type": "code",
      "execution_count": null,
      "metadata": {
        "colab": {
          "base_uri": "https://localhost:8080/"
        },
        "id": "_CPpFTQaD6Fr",
        "outputId": "c9147b73-6925-431f-c3ef-c5f9801d61d9"
      },
      "outputs": [
        {
          "output_type": "stream",
          "name": "stdout",
          "text": [
            "Nama      0\n",
            "JK        0\n",
            "Usia      0\n",
            "Berat     0\n",
            "Tinggi    0\n",
            "Status    0\n",
            "dtype: int64\n"
          ]
        }
      ],
      "source": [
        "missing_values = df.isnull().sum()\n",
        "print(missing_values)"
      ]
    },
    {
      "cell_type": "code",
      "execution_count": null,
      "metadata": {
        "colab": {
          "base_uri": "https://localhost:8080/"
        },
        "id": "a0tY21JwZ8g-",
        "outputId": "a453ebbb-83c0-426f-937f-22cf067b56ec"
      },
      "outputs": [
        {
          "output_type": "execute_result",
          "data": {
            "text/plain": [
              "Nama       object\n",
              "JK         object\n",
              "Usia      float64\n",
              "Berat     float64\n",
              "Tinggi     object\n",
              "Status     object\n",
              "dtype: object"
            ]
          },
          "metadata": {},
          "execution_count": 8
        }
      ],
      "source": [
        "# Mengecek adakah mixed value\n",
        "df.dtypes"
      ]
    },
    {
      "cell_type": "code",
      "execution_count": null,
      "metadata": {
        "colab": {
          "base_uri": "https://localhost:8080/"
        },
        "id": "JgA7-3hI-89m",
        "outputId": "5c4a121a-4be5-4e3d-c6c8-5aba91d801c0"
      },
      "outputs": [
        {
          "output_type": "stream",
          "name": "stdout",
          "text": [
            "                              Nama  JK       Usia  Berat Tinggi  \\\n",
            "0            FAISAL FAKIH RUKMANA   L    2.466667    4.9     58   \n",
            "1     MUHAMMAD HAFIDZ ATHAFARIZ S   L   58.466667   17.0    109   \n",
            "3            GHEGHE KALISTA PUTRI   P   45.300000   13.8     95   \n",
            "4        LINGGA OKTAVIAN WIRATAMA   L   53.633333   18.6    106   \n",
            "6              ASTI RAHMA SAPITRI   P   59.533333   18.5    107   \n",
            "...                            ...  ..        ...    ...    ...   \n",
            "6672                  KAUTSARRAKY   L    0.000000    3.0     50   \n",
            "6673                     ALEENA H   P    0.000000    3.0     50   \n",
            "6674                      M EMRAN   L    0.000000    3.0     50   \n",
            "6675                   REZVAN A P   L    0.000000    3.0     50   \n",
            "6676     APRIANZA QEISYAM GUNAWAN   L    0.000000    2.8     48   \n",
            "\n",
            "              Status  \n",
            "0     Tidak Stunting  \n",
            "1     Tidak Stunting  \n",
            "3     Tidak Stunting  \n",
            "4     Tidak Stunting  \n",
            "6     Tidak Stunting  \n",
            "...              ...  \n",
            "6672  Tidak Stunting  \n",
            "6673  Tidak Stunting  \n",
            "6674        Stunting  \n",
            "6675  Tidak Stunting  \n",
            "6676  Tidak Stunting  \n",
            "\n",
            "[4686 rows x 6 columns]\n"
          ]
        }
      ],
      "source": [
        "# Mengecek baris mana yang tidak bertipe float pada kolom Tinggi\n",
        "non_float_rows = df[~df['Tinggi'].apply(lambda x: isinstance(x, float))]\n",
        "print(non_float_rows)"
      ]
    },
    {
      "cell_type": "code",
      "execution_count": null,
      "metadata": {
        "id": "ZfNtMA3dEgiZ"
      },
      "outputs": [],
      "source": [
        "df['Tinggi'] = df['Tinggi'].fillna('')"
      ]
    },
    {
      "cell_type": "code",
      "execution_count": null,
      "metadata": {
        "colab": {
          "base_uri": "https://localhost:8080/"
        },
        "id": "8WcggcJLCVVe",
        "outputId": "02001063-d247-483c-9cc6-2c49445ba344"
      },
      "outputs": [
        {
          "output_type": "stream",
          "name": "stdout",
          "text": [
            "                  Nama  JK       Usia  Berat Tinggi          Status\n",
            "2087  ARKENZY ZAVIYAR   L   37.633333   13.4      -  Tidak Stunting\n"
          ]
        }
      ],
      "source": [
        "# Ketika diconvert ke float error, ternyata terdapat baris yang mengandung (-)\n",
        "strip_rows = df[df['Tinggi'].astype(str).str.contains('-')]\n",
        "print(strip_rows)"
      ]
    },
    {
      "cell_type": "code",
      "execution_count": null,
      "metadata": {
        "id": "fDu6V_eBFe5p"
      },
      "outputs": [],
      "source": [
        "df = df.drop(2087)"
      ]
    },
    {
      "cell_type": "code",
      "execution_count": null,
      "metadata": {
        "colab": {
          "base_uri": "https://localhost:8080/"
        },
        "id": "bbi1bm_LCAy1",
        "outputId": "f43ab3d3-9dd8-467b-ebac-213b9eb745e0"
      },
      "outputs": [
        {
          "output_type": "stream",
          "name": "stdout",
          "text": [
            "float64\n"
          ]
        }
      ],
      "source": [
        "df['Tinggi'] = df['Tinggi'].astype(float)\n",
        "print(df['Tinggi'].dtype)"
      ]
    },
    {
      "cell_type": "code",
      "execution_count": null,
      "metadata": {
        "colab": {
          "base_uri": "https://localhost:8080/",
          "height": 423
        },
        "id": "Ue4TeSoMF7Ot",
        "outputId": "4ae0c33a-3f97-4ffb-e854-734afbdac783"
      },
      "outputs": [
        {
          "output_type": "execute_result",
          "data": {
            "text/plain": [
              "                              Nama  JK       Usia  Berat  Tinggi  \\\n",
              "0            FAISAL FAKIH RUKMANA   L    2.466667    4.9    58.0   \n",
              "1     MUHAMMAD HAFIDZ ATHAFARIZ S   L   58.466667   17.0   109.0   \n",
              "2              VIONA FEBBY YASMIN   P    5.166667    7.1    68.5   \n",
              "3            GHEGHE KALISTA PUTRI   P   45.300000   13.8    95.0   \n",
              "4        LINGGA OKTAVIAN WIRATAMA   L   53.633333   18.6   106.0   \n",
              "...                            ...  ..        ...    ...     ...   \n",
              "6672                  KAUTSARRAKY   L    0.000000    3.0    50.0   \n",
              "6673                     ALEENA H   P    0.000000    3.0    50.0   \n",
              "6674                      M EMRAN   L    0.000000    3.0    50.0   \n",
              "6675                   REZVAN A P   L    0.000000    3.0    50.0   \n",
              "6676     APRIANZA QEISYAM GUNAWAN   L    0.000000    2.8    48.0   \n",
              "\n",
              "              Status  \n",
              "0     Tidak Stunting  \n",
              "1     Tidak Stunting  \n",
              "2     Tidak Stunting  \n",
              "3     Tidak Stunting  \n",
              "4     Tidak Stunting  \n",
              "...              ...  \n",
              "6672  Tidak Stunting  \n",
              "6673  Tidak Stunting  \n",
              "6674        Stunting  \n",
              "6675  Tidak Stunting  \n",
              "6676  Tidak Stunting  \n",
              "\n",
              "[6676 rows x 6 columns]"
            ],
            "text/html": [
              "\n",
              "  <div id=\"df-2e35f4a3-08d4-45ba-b470-2ea14b0b7bd0\" class=\"colab-df-container\">\n",
              "    <div>\n",
              "<style scoped>\n",
              "    .dataframe tbody tr th:only-of-type {\n",
              "        vertical-align: middle;\n",
              "    }\n",
              "\n",
              "    .dataframe tbody tr th {\n",
              "        vertical-align: top;\n",
              "    }\n",
              "\n",
              "    .dataframe thead th {\n",
              "        text-align: right;\n",
              "    }\n",
              "</style>\n",
              "<table border=\"1\" class=\"dataframe\">\n",
              "  <thead>\n",
              "    <tr style=\"text-align: right;\">\n",
              "      <th></th>\n",
              "      <th>Nama</th>\n",
              "      <th>JK</th>\n",
              "      <th>Usia</th>\n",
              "      <th>Berat</th>\n",
              "      <th>Tinggi</th>\n",
              "      <th>Status</th>\n",
              "    </tr>\n",
              "  </thead>\n",
              "  <tbody>\n",
              "    <tr>\n",
              "      <th>0</th>\n",
              "      <td>FAISAL FAKIH RUKMANA</td>\n",
              "      <td>L</td>\n",
              "      <td>2.466667</td>\n",
              "      <td>4.9</td>\n",
              "      <td>58.0</td>\n",
              "      <td>Tidak Stunting</td>\n",
              "    </tr>\n",
              "    <tr>\n",
              "      <th>1</th>\n",
              "      <td>MUHAMMAD HAFIDZ ATHAFARIZ S</td>\n",
              "      <td>L</td>\n",
              "      <td>58.466667</td>\n",
              "      <td>17.0</td>\n",
              "      <td>109.0</td>\n",
              "      <td>Tidak Stunting</td>\n",
              "    </tr>\n",
              "    <tr>\n",
              "      <th>2</th>\n",
              "      <td>VIONA FEBBY YASMIN</td>\n",
              "      <td>P</td>\n",
              "      <td>5.166667</td>\n",
              "      <td>7.1</td>\n",
              "      <td>68.5</td>\n",
              "      <td>Tidak Stunting</td>\n",
              "    </tr>\n",
              "    <tr>\n",
              "      <th>3</th>\n",
              "      <td>GHEGHE KALISTA PUTRI</td>\n",
              "      <td>P</td>\n",
              "      <td>45.300000</td>\n",
              "      <td>13.8</td>\n",
              "      <td>95.0</td>\n",
              "      <td>Tidak Stunting</td>\n",
              "    </tr>\n",
              "    <tr>\n",
              "      <th>4</th>\n",
              "      <td>LINGGA OKTAVIAN WIRATAMA</td>\n",
              "      <td>L</td>\n",
              "      <td>53.633333</td>\n",
              "      <td>18.6</td>\n",
              "      <td>106.0</td>\n",
              "      <td>Tidak Stunting</td>\n",
              "    </tr>\n",
              "    <tr>\n",
              "      <th>...</th>\n",
              "      <td>...</td>\n",
              "      <td>...</td>\n",
              "      <td>...</td>\n",
              "      <td>...</td>\n",
              "      <td>...</td>\n",
              "      <td>...</td>\n",
              "    </tr>\n",
              "    <tr>\n",
              "      <th>6672</th>\n",
              "      <td>KAUTSARRAKY</td>\n",
              "      <td>L</td>\n",
              "      <td>0.000000</td>\n",
              "      <td>3.0</td>\n",
              "      <td>50.0</td>\n",
              "      <td>Tidak Stunting</td>\n",
              "    </tr>\n",
              "    <tr>\n",
              "      <th>6673</th>\n",
              "      <td>ALEENA H</td>\n",
              "      <td>P</td>\n",
              "      <td>0.000000</td>\n",
              "      <td>3.0</td>\n",
              "      <td>50.0</td>\n",
              "      <td>Tidak Stunting</td>\n",
              "    </tr>\n",
              "    <tr>\n",
              "      <th>6674</th>\n",
              "      <td>M EMRAN</td>\n",
              "      <td>L</td>\n",
              "      <td>0.000000</td>\n",
              "      <td>3.0</td>\n",
              "      <td>50.0</td>\n",
              "      <td>Stunting</td>\n",
              "    </tr>\n",
              "    <tr>\n",
              "      <th>6675</th>\n",
              "      <td>REZVAN A P</td>\n",
              "      <td>L</td>\n",
              "      <td>0.000000</td>\n",
              "      <td>3.0</td>\n",
              "      <td>50.0</td>\n",
              "      <td>Tidak Stunting</td>\n",
              "    </tr>\n",
              "    <tr>\n",
              "      <th>6676</th>\n",
              "      <td>APRIANZA QEISYAM GUNAWAN</td>\n",
              "      <td>L</td>\n",
              "      <td>0.000000</td>\n",
              "      <td>2.8</td>\n",
              "      <td>48.0</td>\n",
              "      <td>Tidak Stunting</td>\n",
              "    </tr>\n",
              "  </tbody>\n",
              "</table>\n",
              "<p>6676 rows × 6 columns</p>\n",
              "</div>\n",
              "    <div class=\"colab-df-buttons\">\n",
              "\n",
              "  <div class=\"colab-df-container\">\n",
              "    <button class=\"colab-df-convert\" onclick=\"convertToInteractive('df-2e35f4a3-08d4-45ba-b470-2ea14b0b7bd0')\"\n",
              "            title=\"Convert this dataframe to an interactive table.\"\n",
              "            style=\"display:none;\">\n",
              "\n",
              "  <svg xmlns=\"http://www.w3.org/2000/svg\" height=\"24px\" viewBox=\"0 -960 960 960\">\n",
              "    <path d=\"M120-120v-720h720v720H120Zm60-500h600v-160H180v160Zm220 220h160v-160H400v160Zm0 220h160v-160H400v160ZM180-400h160v-160H180v160Zm440 0h160v-160H620v160ZM180-180h160v-160H180v160Zm440 0h160v-160H620v160Z\"/>\n",
              "  </svg>\n",
              "    </button>\n",
              "\n",
              "  <style>\n",
              "    .colab-df-container {\n",
              "      display:flex;\n",
              "      gap: 12px;\n",
              "    }\n",
              "\n",
              "    .colab-df-convert {\n",
              "      background-color: #E8F0FE;\n",
              "      border: none;\n",
              "      border-radius: 50%;\n",
              "      cursor: pointer;\n",
              "      display: none;\n",
              "      fill: #1967D2;\n",
              "      height: 32px;\n",
              "      padding: 0 0 0 0;\n",
              "      width: 32px;\n",
              "    }\n",
              "\n",
              "    .colab-df-convert:hover {\n",
              "      background-color: #E2EBFA;\n",
              "      box-shadow: 0px 1px 2px rgba(60, 64, 67, 0.3), 0px 1px 3px 1px rgba(60, 64, 67, 0.15);\n",
              "      fill: #174EA6;\n",
              "    }\n",
              "\n",
              "    .colab-df-buttons div {\n",
              "      margin-bottom: 4px;\n",
              "    }\n",
              "\n",
              "    [theme=dark] .colab-df-convert {\n",
              "      background-color: #3B4455;\n",
              "      fill: #D2E3FC;\n",
              "    }\n",
              "\n",
              "    [theme=dark] .colab-df-convert:hover {\n",
              "      background-color: #434B5C;\n",
              "      box-shadow: 0px 1px 3px 1px rgba(0, 0, 0, 0.15);\n",
              "      filter: drop-shadow(0px 1px 2px rgba(0, 0, 0, 0.3));\n",
              "      fill: #FFFFFF;\n",
              "    }\n",
              "  </style>\n",
              "\n",
              "    <script>\n",
              "      const buttonEl =\n",
              "        document.querySelector('#df-2e35f4a3-08d4-45ba-b470-2ea14b0b7bd0 button.colab-df-convert');\n",
              "      buttonEl.style.display =\n",
              "        google.colab.kernel.accessAllowed ? 'block' : 'none';\n",
              "\n",
              "      async function convertToInteractive(key) {\n",
              "        const element = document.querySelector('#df-2e35f4a3-08d4-45ba-b470-2ea14b0b7bd0');\n",
              "        const dataTable =\n",
              "          await google.colab.kernel.invokeFunction('convertToInteractive',\n",
              "                                                    [key], {});\n",
              "        if (!dataTable) return;\n",
              "\n",
              "        const docLinkHtml = 'Like what you see? Visit the ' +\n",
              "          '<a target=\"_blank\" href=https://colab.research.google.com/notebooks/data_table.ipynb>data table notebook</a>'\n",
              "          + ' to learn more about interactive tables.';\n",
              "        element.innerHTML = '';\n",
              "        dataTable['output_type'] = 'display_data';\n",
              "        await google.colab.output.renderOutput(dataTable, element);\n",
              "        const docLink = document.createElement('div');\n",
              "        docLink.innerHTML = docLinkHtml;\n",
              "        element.appendChild(docLink);\n",
              "      }\n",
              "    </script>\n",
              "  </div>\n",
              "\n",
              "\n",
              "<div id=\"df-56834749-64ce-4ac7-95e7-5c1d651eaf4d\">\n",
              "  <button class=\"colab-df-quickchart\" onclick=\"quickchart('df-56834749-64ce-4ac7-95e7-5c1d651eaf4d')\"\n",
              "            title=\"Suggest charts\"\n",
              "            style=\"display:none;\">\n",
              "\n",
              "<svg xmlns=\"http://www.w3.org/2000/svg\" height=\"24px\"viewBox=\"0 0 24 24\"\n",
              "     width=\"24px\">\n",
              "    <g>\n",
              "        <path d=\"M19 3H5c-1.1 0-2 .9-2 2v14c0 1.1.9 2 2 2h14c1.1 0 2-.9 2-2V5c0-1.1-.9-2-2-2zM9 17H7v-7h2v7zm4 0h-2V7h2v10zm4 0h-2v-4h2v4z\"/>\n",
              "    </g>\n",
              "</svg>\n",
              "  </button>\n",
              "\n",
              "<style>\n",
              "  .colab-df-quickchart {\n",
              "      --bg-color: #E8F0FE;\n",
              "      --fill-color: #1967D2;\n",
              "      --hover-bg-color: #E2EBFA;\n",
              "      --hover-fill-color: #174EA6;\n",
              "      --disabled-fill-color: #AAA;\n",
              "      --disabled-bg-color: #DDD;\n",
              "  }\n",
              "\n",
              "  [theme=dark] .colab-df-quickchart {\n",
              "      --bg-color: #3B4455;\n",
              "      --fill-color: #D2E3FC;\n",
              "      --hover-bg-color: #434B5C;\n",
              "      --hover-fill-color: #FFFFFF;\n",
              "      --disabled-bg-color: #3B4455;\n",
              "      --disabled-fill-color: #666;\n",
              "  }\n",
              "\n",
              "  .colab-df-quickchart {\n",
              "    background-color: var(--bg-color);\n",
              "    border: none;\n",
              "    border-radius: 50%;\n",
              "    cursor: pointer;\n",
              "    display: none;\n",
              "    fill: var(--fill-color);\n",
              "    height: 32px;\n",
              "    padding: 0;\n",
              "    width: 32px;\n",
              "  }\n",
              "\n",
              "  .colab-df-quickchart:hover {\n",
              "    background-color: var(--hover-bg-color);\n",
              "    box-shadow: 0 1px 2px rgba(60, 64, 67, 0.3), 0 1px 3px 1px rgba(60, 64, 67, 0.15);\n",
              "    fill: var(--button-hover-fill-color);\n",
              "  }\n",
              "\n",
              "  .colab-df-quickchart-complete:disabled,\n",
              "  .colab-df-quickchart-complete:disabled:hover {\n",
              "    background-color: var(--disabled-bg-color);\n",
              "    fill: var(--disabled-fill-color);\n",
              "    box-shadow: none;\n",
              "  }\n",
              "\n",
              "  .colab-df-spinner {\n",
              "    border: 2px solid var(--fill-color);\n",
              "    border-color: transparent;\n",
              "    border-bottom-color: var(--fill-color);\n",
              "    animation:\n",
              "      spin 1s steps(1) infinite;\n",
              "  }\n",
              "\n",
              "  @keyframes spin {\n",
              "    0% {\n",
              "      border-color: transparent;\n",
              "      border-bottom-color: var(--fill-color);\n",
              "      border-left-color: var(--fill-color);\n",
              "    }\n",
              "    20% {\n",
              "      border-color: transparent;\n",
              "      border-left-color: var(--fill-color);\n",
              "      border-top-color: var(--fill-color);\n",
              "    }\n",
              "    30% {\n",
              "      border-color: transparent;\n",
              "      border-left-color: var(--fill-color);\n",
              "      border-top-color: var(--fill-color);\n",
              "      border-right-color: var(--fill-color);\n",
              "    }\n",
              "    40% {\n",
              "      border-color: transparent;\n",
              "      border-right-color: var(--fill-color);\n",
              "      border-top-color: var(--fill-color);\n",
              "    }\n",
              "    60% {\n",
              "      border-color: transparent;\n",
              "      border-right-color: var(--fill-color);\n",
              "    }\n",
              "    80% {\n",
              "      border-color: transparent;\n",
              "      border-right-color: var(--fill-color);\n",
              "      border-bottom-color: var(--fill-color);\n",
              "    }\n",
              "    90% {\n",
              "      border-color: transparent;\n",
              "      border-bottom-color: var(--fill-color);\n",
              "    }\n",
              "  }\n",
              "</style>\n",
              "\n",
              "  <script>\n",
              "    async function quickchart(key) {\n",
              "      const quickchartButtonEl =\n",
              "        document.querySelector('#' + key + ' button');\n",
              "      quickchartButtonEl.disabled = true;  // To prevent multiple clicks.\n",
              "      quickchartButtonEl.classList.add('colab-df-spinner');\n",
              "      try {\n",
              "        const charts = await google.colab.kernel.invokeFunction(\n",
              "            'suggestCharts', [key], {});\n",
              "      } catch (error) {\n",
              "        console.error('Error during call to suggestCharts:', error);\n",
              "      }\n",
              "      quickchartButtonEl.classList.remove('colab-df-spinner');\n",
              "      quickchartButtonEl.classList.add('colab-df-quickchart-complete');\n",
              "    }\n",
              "    (() => {\n",
              "      let quickchartButtonEl =\n",
              "        document.querySelector('#df-56834749-64ce-4ac7-95e7-5c1d651eaf4d button');\n",
              "      quickchartButtonEl.style.display =\n",
              "        google.colab.kernel.accessAllowed ? 'block' : 'none';\n",
              "    })();\n",
              "  </script>\n",
              "</div>\n",
              "    </div>\n",
              "  </div>\n"
            ]
          },
          "metadata": {},
          "execution_count": 14
        }
      ],
      "source": [
        "df"
      ]
    },
    {
      "cell_type": "code",
      "execution_count": null,
      "metadata": {
        "colab": {
          "base_uri": "https://localhost:8080/"
        },
        "id": "IU-1hihAcTJ5",
        "outputId": "62311d56-eec5-4e6b-ecb6-83543fafa89d"
      },
      "outputs": [
        {
          "output_type": "execute_result",
          "data": {
            "text/plain": [
              "      JK       Usia  Berat  Tinggi          Status\n",
              "0     L    2.466667    4.9    58.0  Tidak Stunting\n",
              "1     L   58.466667   17.0   109.0  Tidak Stunting\n",
              "2     P    5.166667    7.1    68.5  Tidak Stunting\n",
              "3     P   45.300000   13.8    95.0  Tidak Stunting\n",
              "4     L   53.633333   18.6   106.0  Tidak Stunting\n",
              "...   ..        ...    ...     ...             ...\n",
              "6672  L    0.000000    3.0    50.0  Tidak Stunting\n",
              "6673  P    0.000000    3.0    50.0  Tidak Stunting\n",
              "6674  L    0.000000    3.0    50.0        Stunting\n",
              "6675  L    0.000000    3.0    50.0  Tidak Stunting\n",
              "6676  L    0.000000    2.8    48.0  Tidak Stunting\n",
              "\n",
              "[6676 rows x 5 columns]"
            ],
            "text/html": [
              "\n",
              "  <div id=\"df-ca8fc772-dcb3-432b-8fce-90cb4f0aa825\" class=\"colab-df-container\">\n",
              "    <div>\n",
              "<style scoped>\n",
              "    .dataframe tbody tr th:only-of-type {\n",
              "        vertical-align: middle;\n",
              "    }\n",
              "\n",
              "    .dataframe tbody tr th {\n",
              "        vertical-align: top;\n",
              "    }\n",
              "\n",
              "    .dataframe thead th {\n",
              "        text-align: right;\n",
              "    }\n",
              "</style>\n",
              "<table border=\"1\" class=\"dataframe\">\n",
              "  <thead>\n",
              "    <tr style=\"text-align: right;\">\n",
              "      <th></th>\n",
              "      <th>JK</th>\n",
              "      <th>Usia</th>\n",
              "      <th>Berat</th>\n",
              "      <th>Tinggi</th>\n",
              "      <th>Status</th>\n",
              "    </tr>\n",
              "  </thead>\n",
              "  <tbody>\n",
              "    <tr>\n",
              "      <th>0</th>\n",
              "      <td>L</td>\n",
              "      <td>2.466667</td>\n",
              "      <td>4.9</td>\n",
              "      <td>58.0</td>\n",
              "      <td>Tidak Stunting</td>\n",
              "    </tr>\n",
              "    <tr>\n",
              "      <th>1</th>\n",
              "      <td>L</td>\n",
              "      <td>58.466667</td>\n",
              "      <td>17.0</td>\n",
              "      <td>109.0</td>\n",
              "      <td>Tidak Stunting</td>\n",
              "    </tr>\n",
              "    <tr>\n",
              "      <th>2</th>\n",
              "      <td>P</td>\n",
              "      <td>5.166667</td>\n",
              "      <td>7.1</td>\n",
              "      <td>68.5</td>\n",
              "      <td>Tidak Stunting</td>\n",
              "    </tr>\n",
              "    <tr>\n",
              "      <th>3</th>\n",
              "      <td>P</td>\n",
              "      <td>45.300000</td>\n",
              "      <td>13.8</td>\n",
              "      <td>95.0</td>\n",
              "      <td>Tidak Stunting</td>\n",
              "    </tr>\n",
              "    <tr>\n",
              "      <th>4</th>\n",
              "      <td>L</td>\n",
              "      <td>53.633333</td>\n",
              "      <td>18.6</td>\n",
              "      <td>106.0</td>\n",
              "      <td>Tidak Stunting</td>\n",
              "    </tr>\n",
              "    <tr>\n",
              "      <th>...</th>\n",
              "      <td>...</td>\n",
              "      <td>...</td>\n",
              "      <td>...</td>\n",
              "      <td>...</td>\n",
              "      <td>...</td>\n",
              "    </tr>\n",
              "    <tr>\n",
              "      <th>6672</th>\n",
              "      <td>L</td>\n",
              "      <td>0.000000</td>\n",
              "      <td>3.0</td>\n",
              "      <td>50.0</td>\n",
              "      <td>Tidak Stunting</td>\n",
              "    </tr>\n",
              "    <tr>\n",
              "      <th>6673</th>\n",
              "      <td>P</td>\n",
              "      <td>0.000000</td>\n",
              "      <td>3.0</td>\n",
              "      <td>50.0</td>\n",
              "      <td>Tidak Stunting</td>\n",
              "    </tr>\n",
              "    <tr>\n",
              "      <th>6674</th>\n",
              "      <td>L</td>\n",
              "      <td>0.000000</td>\n",
              "      <td>3.0</td>\n",
              "      <td>50.0</td>\n",
              "      <td>Stunting</td>\n",
              "    </tr>\n",
              "    <tr>\n",
              "      <th>6675</th>\n",
              "      <td>L</td>\n",
              "      <td>0.000000</td>\n",
              "      <td>3.0</td>\n",
              "      <td>50.0</td>\n",
              "      <td>Tidak Stunting</td>\n",
              "    </tr>\n",
              "    <tr>\n",
              "      <th>6676</th>\n",
              "      <td>L</td>\n",
              "      <td>0.000000</td>\n",
              "      <td>2.8</td>\n",
              "      <td>48.0</td>\n",
              "      <td>Tidak Stunting</td>\n",
              "    </tr>\n",
              "  </tbody>\n",
              "</table>\n",
              "<p>6676 rows × 5 columns</p>\n",
              "</div>\n",
              "    <div class=\"colab-df-buttons\">\n",
              "\n",
              "  <div class=\"colab-df-container\">\n",
              "    <button class=\"colab-df-convert\" onclick=\"convertToInteractive('df-ca8fc772-dcb3-432b-8fce-90cb4f0aa825')\"\n",
              "            title=\"Convert this dataframe to an interactive table.\"\n",
              "            style=\"display:none;\">\n",
              "\n",
              "  <svg xmlns=\"http://www.w3.org/2000/svg\" height=\"24px\" viewBox=\"0 -960 960 960\">\n",
              "    <path d=\"M120-120v-720h720v720H120Zm60-500h600v-160H180v160Zm220 220h160v-160H400v160Zm0 220h160v-160H400v160ZM180-400h160v-160H180v160Zm440 0h160v-160H620v160ZM180-180h160v-160H180v160Zm440 0h160v-160H620v160Z\"/>\n",
              "  </svg>\n",
              "    </button>\n",
              "\n",
              "  <style>\n",
              "    .colab-df-container {\n",
              "      display:flex;\n",
              "      gap: 12px;\n",
              "    }\n",
              "\n",
              "    .colab-df-convert {\n",
              "      background-color: #E8F0FE;\n",
              "      border: none;\n",
              "      border-radius: 50%;\n",
              "      cursor: pointer;\n",
              "      display: none;\n",
              "      fill: #1967D2;\n",
              "      height: 32px;\n",
              "      padding: 0 0 0 0;\n",
              "      width: 32px;\n",
              "    }\n",
              "\n",
              "    .colab-df-convert:hover {\n",
              "      background-color: #E2EBFA;\n",
              "      box-shadow: 0px 1px 2px rgba(60, 64, 67, 0.3), 0px 1px 3px 1px rgba(60, 64, 67, 0.15);\n",
              "      fill: #174EA6;\n",
              "    }\n",
              "\n",
              "    .colab-df-buttons div {\n",
              "      margin-bottom: 4px;\n",
              "    }\n",
              "\n",
              "    [theme=dark] .colab-df-convert {\n",
              "      background-color: #3B4455;\n",
              "      fill: #D2E3FC;\n",
              "    }\n",
              "\n",
              "    [theme=dark] .colab-df-convert:hover {\n",
              "      background-color: #434B5C;\n",
              "      box-shadow: 0px 1px 3px 1px rgba(0, 0, 0, 0.15);\n",
              "      filter: drop-shadow(0px 1px 2px rgba(0, 0, 0, 0.3));\n",
              "      fill: #FFFFFF;\n",
              "    }\n",
              "  </style>\n",
              "\n",
              "    <script>\n",
              "      const buttonEl =\n",
              "        document.querySelector('#df-ca8fc772-dcb3-432b-8fce-90cb4f0aa825 button.colab-df-convert');\n",
              "      buttonEl.style.display =\n",
              "        google.colab.kernel.accessAllowed ? 'block' : 'none';\n",
              "\n",
              "      async function convertToInteractive(key) {\n",
              "        const element = document.querySelector('#df-ca8fc772-dcb3-432b-8fce-90cb4f0aa825');\n",
              "        const dataTable =\n",
              "          await google.colab.kernel.invokeFunction('convertToInteractive',\n",
              "                                                    [key], {});\n",
              "        if (!dataTable) return;\n",
              "\n",
              "        const docLinkHtml = 'Like what you see? Visit the ' +\n",
              "          '<a target=\"_blank\" href=https://colab.research.google.com/notebooks/data_table.ipynb>data table notebook</a>'\n",
              "          + ' to learn more about interactive tables.';\n",
              "        element.innerHTML = '';\n",
              "        dataTable['output_type'] = 'display_data';\n",
              "        await google.colab.output.renderOutput(dataTable, element);\n",
              "        const docLink = document.createElement('div');\n",
              "        docLink.innerHTML = docLinkHtml;\n",
              "        element.appendChild(docLink);\n",
              "      }\n",
              "    </script>\n",
              "  </div>\n",
              "\n",
              "\n",
              "<div id=\"df-335aaf0f-1ac7-49c5-ad93-56ea917d9fb8\">\n",
              "  <button class=\"colab-df-quickchart\" onclick=\"quickchart('df-335aaf0f-1ac7-49c5-ad93-56ea917d9fb8')\"\n",
              "            title=\"Suggest charts\"\n",
              "            style=\"display:none;\">\n",
              "\n",
              "<svg xmlns=\"http://www.w3.org/2000/svg\" height=\"24px\"viewBox=\"0 0 24 24\"\n",
              "     width=\"24px\">\n",
              "    <g>\n",
              "        <path d=\"M19 3H5c-1.1 0-2 .9-2 2v14c0 1.1.9 2 2 2h14c1.1 0 2-.9 2-2V5c0-1.1-.9-2-2-2zM9 17H7v-7h2v7zm4 0h-2V7h2v10zm4 0h-2v-4h2v4z\"/>\n",
              "    </g>\n",
              "</svg>\n",
              "  </button>\n",
              "\n",
              "<style>\n",
              "  .colab-df-quickchart {\n",
              "      --bg-color: #E8F0FE;\n",
              "      --fill-color: #1967D2;\n",
              "      --hover-bg-color: #E2EBFA;\n",
              "      --hover-fill-color: #174EA6;\n",
              "      --disabled-fill-color: #AAA;\n",
              "      --disabled-bg-color: #DDD;\n",
              "  }\n",
              "\n",
              "  [theme=dark] .colab-df-quickchart {\n",
              "      --bg-color: #3B4455;\n",
              "      --fill-color: #D2E3FC;\n",
              "      --hover-bg-color: #434B5C;\n",
              "      --hover-fill-color: #FFFFFF;\n",
              "      --disabled-bg-color: #3B4455;\n",
              "      --disabled-fill-color: #666;\n",
              "  }\n",
              "\n",
              "  .colab-df-quickchart {\n",
              "    background-color: var(--bg-color);\n",
              "    border: none;\n",
              "    border-radius: 50%;\n",
              "    cursor: pointer;\n",
              "    display: none;\n",
              "    fill: var(--fill-color);\n",
              "    height: 32px;\n",
              "    padding: 0;\n",
              "    width: 32px;\n",
              "  }\n",
              "\n",
              "  .colab-df-quickchart:hover {\n",
              "    background-color: var(--hover-bg-color);\n",
              "    box-shadow: 0 1px 2px rgba(60, 64, 67, 0.3), 0 1px 3px 1px rgba(60, 64, 67, 0.15);\n",
              "    fill: var(--button-hover-fill-color);\n",
              "  }\n",
              "\n",
              "  .colab-df-quickchart-complete:disabled,\n",
              "  .colab-df-quickchart-complete:disabled:hover {\n",
              "    background-color: var(--disabled-bg-color);\n",
              "    fill: var(--disabled-fill-color);\n",
              "    box-shadow: none;\n",
              "  }\n",
              "\n",
              "  .colab-df-spinner {\n",
              "    border: 2px solid var(--fill-color);\n",
              "    border-color: transparent;\n",
              "    border-bottom-color: var(--fill-color);\n",
              "    animation:\n",
              "      spin 1s steps(1) infinite;\n",
              "  }\n",
              "\n",
              "  @keyframes spin {\n",
              "    0% {\n",
              "      border-color: transparent;\n",
              "      border-bottom-color: var(--fill-color);\n",
              "      border-left-color: var(--fill-color);\n",
              "    }\n",
              "    20% {\n",
              "      border-color: transparent;\n",
              "      border-left-color: var(--fill-color);\n",
              "      border-top-color: var(--fill-color);\n",
              "    }\n",
              "    30% {\n",
              "      border-color: transparent;\n",
              "      border-left-color: var(--fill-color);\n",
              "      border-top-color: var(--fill-color);\n",
              "      border-right-color: var(--fill-color);\n",
              "    }\n",
              "    40% {\n",
              "      border-color: transparent;\n",
              "      border-right-color: var(--fill-color);\n",
              "      border-top-color: var(--fill-color);\n",
              "    }\n",
              "    60% {\n",
              "      border-color: transparent;\n",
              "      border-right-color: var(--fill-color);\n",
              "    }\n",
              "    80% {\n",
              "      border-color: transparent;\n",
              "      border-right-color: var(--fill-color);\n",
              "      border-bottom-color: var(--fill-color);\n",
              "    }\n",
              "    90% {\n",
              "      border-color: transparent;\n",
              "      border-bottom-color: var(--fill-color);\n",
              "    }\n",
              "  }\n",
              "</style>\n",
              "\n",
              "  <script>\n",
              "    async function quickchart(key) {\n",
              "      const quickchartButtonEl =\n",
              "        document.querySelector('#' + key + ' button');\n",
              "      quickchartButtonEl.disabled = true;  // To prevent multiple clicks.\n",
              "      quickchartButtonEl.classList.add('colab-df-spinner');\n",
              "      try {\n",
              "        const charts = await google.colab.kernel.invokeFunction(\n",
              "            'suggestCharts', [key], {});\n",
              "      } catch (error) {\n",
              "        console.error('Error during call to suggestCharts:', error);\n",
              "      }\n",
              "      quickchartButtonEl.classList.remove('colab-df-spinner');\n",
              "      quickchartButtonEl.classList.add('colab-df-quickchart-complete');\n",
              "    }\n",
              "    (() => {\n",
              "      let quickchartButtonEl =\n",
              "        document.querySelector('#df-335aaf0f-1ac7-49c5-ad93-56ea917d9fb8 button');\n",
              "      quickchartButtonEl.style.display =\n",
              "        google.colab.kernel.accessAllowed ? 'block' : 'none';\n",
              "    })();\n",
              "  </script>\n",
              "</div>\n",
              "    </div>\n",
              "  </div>\n"
            ]
          },
          "metadata": {},
          "execution_count": 15
        }
      ],
      "source": [
        "# Menghapus kolom yang tidak dibutuhkan\n",
        "df = df.drop(['Nama'], axis=1)\n",
        "df"
      ]
    },
    {
      "cell_type": "markdown",
      "source": [
        "# Data Visualization"
      ],
      "metadata": {
        "id": "Geu2PX9EI9UP"
      }
    },
    {
      "cell_type": "code",
      "source": [
        "import matplotlib.pyplot as plt\n",
        "import seaborn as sns\n",
        "\n",
        "# Assuming your dataset is loaded into a DataFrame named 'df'\n",
        "# If not, you can load it with: df = pd.read_excel('Data Stunting.xlsx')\n",
        "\n",
        "# Create a bar plot for the 'Status' column\n",
        "plt.figure(figsize=(8, 6))\n",
        "sns.countplot(x='Status', data=df, palette='Set2')\n",
        "plt.title('Distribution of Stunting Status')\n",
        "plt.xlabel('Status')\n",
        "plt.ylabel('Count')\n",
        "\n",
        "# Display the count on top of each bar\n",
        "for index, value in enumerate(df['Status'].value_counts()):\n",
        "    plt.text(index, value, str(value), ha='center', va='bottom', fontsize=10)\n",
        "\n",
        "plt.show()\n"
      ],
      "metadata": {
        "colab": {
          "base_uri": "https://localhost:8080/"
        },
        "id": "YqtlUB_RHf8h",
        "outputId": "04a96c61-6ed6-4441-a2ad-453f12cc412e"
      },
      "execution_count": null,
      "outputs": [
        {
          "output_type": "display_data",
          "data": {
            "text/plain": [
              "<Figure size 800x600 with 1 Axes>"
            ],
            "image/png": "[encoded data removed]"
          },
          "metadata": {}
        }
      ]
    },
    {
      "cell_type": "code",
      "source": [
        "# Scatter plot for 'Berat' vs 'Tinggi' with different colors for each 'Status'\n",
        "plt.figure(figsize=(10, 8))\n",
        "sns.scatterplot(x='Berat', y='Tinggi', hue='Status', data=df, palette='viridis', s=80)\n",
        "plt.title('Scatter Plot of Weight vs Height')\n",
        "plt.xlabel('Weight')\n",
        "plt.ylabel('Height')\n",
        "\n",
        "plt.legend(title='Status')\n",
        "plt.show()"
      ],
      "metadata": {
        "colab": {
          "base_uri": "https://localhost:8080/"
        },
        "id": "MWPHAf-LIj94",
        "outputId": "41e2a5ef-a3fb-4fd4-a4e5-aea6b7b58c80"
      },
      "execution_count": null,
      "outputs": [
        {
          "output_type": "display_data",
          "data": {
            "text/plain": [
              "<Figure size 1000x800 with 1 Axes>"
            ],
            "image/png": "[encoded data removed]"
          },
          "metadata": {}
        }
      ]
    },
    {
      "cell_type": "markdown",
      "metadata": {
        "id": "DRHd5LaNfsCz"
      },
      "source": [
        "# **Data Processing**"
      ]
    },
    {
      "cell_type": "markdown",
      "metadata": {
        "id": "UyTnITVBGm2Q"
      },
      "source": [
        "**1. Mengecek Kemungkinan Imbalance Data**"
      ]
    },
    {
      "cell_type": "code",
      "execution_count": null,
      "metadata": {
        "colab": {
          "base_uri": "https://localhost:8080/"
        },
        "id": "7MTw018pQNwT",
        "outputId": "7b517aa4-6593-48ac-f982-442a64657202"
      },
      "outputs": [
        {
          "output_type": "stream",
          "name": "stdout",
          "text": [
            "64\n"
          ]
        }
      ],
      "source": [
        "min_label_len = len(df[df['Status']=='Stunting'])\n",
        "print(min_label_len)"
      ]
    },
    {
      "cell_type": "code",
      "execution_count": null,
      "metadata": {
        "colab": {
          "base_uri": "https://localhost:8080/"
        },
        "id": "U_ANb0TCUZ48",
        "outputId": "a655b943-a689-4e7f-95a7-cdd7dd42ce9c"
      },
      "outputs": [
        {
          "output_type": "stream",
          "name": "stdout",
          "text": [
            "Int64Index([   0,    1,    2,    3,    4,    5,    6,    7,    8,    9,\n",
            "            ...\n",
            "            6664, 6665, 6667, 6669, 6670, 6671, 6672, 6673, 6675, 6676],\n",
            "           dtype='int64', length=6612)\n"
          ]
        }
      ],
      "source": [
        "max_label_index = df[df['Status']=='Tidak Stunting'].index\n",
        "print(max_label_index)"
      ]
    },
    {
      "cell_type": "code",
      "execution_count": null,
      "metadata": {
        "id": "ECm862nqHEvv"
      },
      "outputs": [],
      "source": [
        "# Terjadi imbalance karena stunting sebanyak 64 data sedangkan tidak stunting 6612 data"
      ]
    },
    {
      "cell_type": "markdown",
      "metadata": {
        "id": "LDFe0zakQJyx"
      },
      "source": [
        "**2. Undersampling**"
      ]
    },
    {
      "cell_type": "code",
      "execution_count": null,
      "metadata": {
        "id": "u39EQkVwUnh9"
      },
      "outputs": [],
      "source": [
        "# # Melakukan undersampling pada label yang terbesar\n",
        "# random_max_index = np.random.choice(max_label_index,\n",
        "#                                     min_label_len,\n",
        "#                                     replace=False)\n",
        "# print(len(random_max_index))"
      ]
    },
    {
      "cell_type": "code",
      "execution_count": null,
      "metadata": {
        "id": "CB7UPMJEVaF-"
      },
      "outputs": [],
      "source": [
        "# min_label_index = df[df['Status']=='Stunting'].index\n",
        "# print(min_label_index)"
      ]
    },
    {
      "cell_type": "code",
      "execution_count": null,
      "metadata": {
        "id": "i6aoFtvlVhWl"
      },
      "outputs": [],
      "source": [
        "# under_sample_index = np.concatenate([min_label_index, random_max_index])\n",
        "# under_sample = df.loc[under_sample_index]\n",
        "# print(under_sample_index)\n",
        "\n",
        "# # Menentukan fitur dan label\n",
        "# x = under_sample.loc[:, df.columns != 'Status']\n",
        "# y = under_sample.loc[:, df.columns == 'Status']"
      ]
    },
    {
      "cell_type": "code",
      "execution_count": null,
      "metadata": {
        "id": "oOpiufE4Sggm"
      },
      "outputs": [],
      "source": [
        "# print(x)"
      ]
    },
    {
      "cell_type": "code",
      "execution_count": null,
      "metadata": {
        "id": "X1YvztNoX8og"
      },
      "outputs": [],
      "source": [
        "# print(y)"
      ]
    },
    {
      "cell_type": "markdown",
      "metadata": {
        "id": "ozks4FbILBIQ"
      },
      "source": [
        "**3. Oversample**"
      ]
    },
    {
      "cell_type": "code",
      "source": [
        "pip install pandas scikit-learn"
      ],
      "metadata": {
        "colab": {
          "base_uri": "https://localhost:8080/"
        },
        "id": "cXdnPkGMO8Wi",
        "outputId": "73a82da1-5e2f-4d87-8d43-a216e2a2fd4c"
      },
      "execution_count": null,
      "outputs": [
        {
          "output_type": "stream",
          "name": "stdout",
          "text": [
            "Requirement already satisfied: pandas in /usr/local/lib/python3.10/dist-packages (1.5.3)\n",
            "Requirement already satisfied: scikit-learn in /usr/local/lib/python3.10/dist-packages (1.2.2)\n",
            "Requirement already satisfied: python-dateutil>=2.8.1 in /usr/local/lib/python3.10/dist-packages (from pandas) (2.8.2)\n",
            "Requirement already satisfied: pytz>=2020.1 in /usr/local/lib/python3.10/dist-packages (from pandas) (2023.3.post1)\n",
            "Requirement already satisfied: numpy>=1.21.0 in /usr/local/lib/python3.10/dist-packages (from pandas) (1.23.5)\n",
            "Requirement already satisfied: scipy>=1.3.2 in /usr/local/lib/python3.10/dist-packages (from scikit-learn) (1.11.4)\n",
            "Requirement already satisfied: joblib>=1.1.1 in /usr/local/lib/python3.10/dist-packages (from scikit-learn) (1.3.2)\n",
            "Requirement already satisfied: threadpoolctl>=2.0.0 in /usr/local/lib/python3.10/dist-packages (from scikit-learn) (3.2.0)\n",
            "Requirement already satisfied: six>=1.5 in /usr/local/lib/python3.10/dist-packages (from python-dateutil>=2.8.1->pandas) (1.16.0)\n"
          ]
        }
      ]
    },
    {
      "cell_type": "code",
      "source": [
        "from imblearn.over_sampling import RandomOverSampler\n",
        "from collections import Counter\n",
        "\n",
        "x = df.drop('Status', axis=1)\n",
        "y = df['Status']\n",
        "\n",
        "# Display class distribution before oversampling\n",
        "print(\"Class distribution before oversampling:\", Counter(y))\n",
        "\n",
        "# Apply oversampling\n",
        "oversampler = RandomOverSampler()\n",
        "x_resampled, y_resampled = oversampler.fit_resample(x, y)\n",
        "\n",
        "# Display class distribution after oversampling\n",
        "print(\"Class distribution after oversampling:\", Counter(y_resampled))\n"
      ],
      "metadata": {
        "colab": {
          "base_uri": "https://localhost:8080/"
        },
        "id": "YTBcrFdzO3fL",
        "outputId": "c62f735c-2a42-4f21-c6b8-9e3cd2bd1bba"
      },
      "execution_count": null,
      "outputs": [
        {
          "output_type": "stream",
          "name": "stdout",
          "text": [
            "Class distribution before oversampling: Counter({'Tidak Stunting': 6612, 'Stunting': 64})\n",
            "Class distribution after oversampling: Counter({'Tidak Stunting': 6612, 'Stunting': 6612})\n"
          ]
        }
      ]
    },
    {
      "cell_type": "code",
      "source": [
        "# Combine the oversampled features and labels into a new DataFrame\n",
        "df_resampled = pd.concat([pd.DataFrame(x_resampled, columns=x.columns), pd.Series(y_resampled, name='Status')], axis=1)\n",
        "\n",
        "# # Save the oversampled dataset to a new CSV file\n",
        "# df_resampled.to_csv('path/to/oversampled/dataset.csv', index=False)\n"
      ],
      "metadata": {
        "id": "fLQ4VVxoO-Xc"
      },
      "execution_count": null,
      "outputs": []
    },
    {
      "cell_type": "code",
      "source": [
        "df_resampled"
      ],
      "metadata": {
        "colab": {
          "base_uri": "https://localhost:8080/"
        },
        "id": "sIrh9sn8QP5h",
        "outputId": "58327051-a720-4a24-8c4b-8a0090cab7ee"
      },
      "execution_count": null,
      "outputs": [
        {
          "output_type": "execute_result",
          "data": {
            "text/plain": [
              "       JK       Usia  Berat  Tinggi          Status\n",
              "0      L    2.466667    4.9    58.0  Tidak Stunting\n",
              "1      L   58.466667   17.0   109.0  Tidak Stunting\n",
              "2      P    5.166667    7.1    68.5  Tidak Stunting\n",
              "3      P   45.300000   13.8    95.0  Tidak Stunting\n",
              "4      L   53.633333   18.6   106.0  Tidak Stunting\n",
              "...    ..        ...    ...     ...             ...\n",
              "13219  L    0.000000    3.0    48.0        Stunting\n",
              "13220  P   26.500000    9.0    80.0        Stunting\n",
              "13221  L   11.400000    8.0    70.0        Stunting\n",
              "13222  P   28.000000    7.0    80.0        Stunting\n",
              "13223  P   44.766667   12.0    86.0        Stunting\n",
              "\n",
              "[13224 rows x 5 columns]"
            ],
            "text/html": [
              "\n",
              "  <div id=\"df-941624d1-5c25-4146-b911-5bffcc1d6f24\" class=\"colab-df-container\">\n",
              "    <div>\n",
              "<style scoped>\n",
              "    .dataframe tbody tr th:only-of-type {\n",
              "        vertical-align: middle;\n",
              "    }\n",
              "\n",
              "    .dataframe tbody tr th {\n",
              "        vertical-align: top;\n",
              "    }\n",
              "\n",
              "    .dataframe thead th {\n",
              "        text-align: right;\n",
              "    }\n",
              "</style>\n",
              "<table border=\"1\" class=\"dataframe\">\n",
              "  <thead>\n",
              "    <tr style=\"text-align: right;\">\n",
              "      <th></th>\n",
              "      <th>JK</th>\n",
              "      <th>Usia</th>\n",
              "      <th>Berat</th>\n",
              "      <th>Tinggi</th>\n",
              "      <th>Status</th>\n",
              "    </tr>\n",
              "  </thead>\n",
              "  <tbody>\n",
              "    <tr>\n",
              "      <th>0</th>\n",
              "      <td>L</td>\n",
              "      <td>2.466667</td>\n",
              "      <td>4.9</td>\n",
              "      <td>58.0</td>\n",
              "      <td>Tidak Stunting</td>\n",
              "    </tr>\n",
              "    <tr>\n",
              "      <th>1</th>\n",
              "      <td>L</td>\n",
              "      <td>58.466667</td>\n",
              "      <td>17.0</td>\n",
              "      <td>109.0</td>\n",
              "      <td>Tidak Stunting</td>\n",
              "    </tr>\n",
              "    <tr>\n",
              "      <th>2</th>\n",
              "      <td>P</td>\n",
              "      <td>5.166667</td>\n",
              "      <td>7.1</td>\n",
              "      <td>68.5</td>\n",
              "      <td>Tidak Stunting</td>\n",
              "    </tr>\n",
              "    <tr>\n",
              "      <th>3</th>\n",
              "      <td>P</td>\n",
              "      <td>45.300000</td>\n",
              "      <td>13.8</td>\n",
              "      <td>95.0</td>\n",
              "      <td>Tidak Stunting</td>\n",
              "    </tr>\n",
              "    <tr>\n",
              "      <th>4</th>\n",
              "      <td>L</td>\n",
              "      <td>53.633333</td>\n",
              "      <td>18.6</td>\n",
              "      <td>106.0</td>\n",
              "      <td>Tidak Stunting</td>\n",
              "    </tr>\n",
              "    <tr>\n",
              "      <th>...</th>\n",
              "      <td>...</td>\n",
              "      <td>...</td>\n",
              "      <td>...</td>\n",
              "      <td>...</td>\n",
              "      <td>...</td>\n",
              "    </tr>\n",
              "    <tr>\n",
              "      <th>13219</th>\n",
              "      <td>L</td>\n",
              "      <td>0.000000</td>\n",
              "      <td>3.0</td>\n",
              "      <td>48.0</td>\n",
              "      <td>Stunting</td>\n",
              "    </tr>\n",
              "    <tr>\n",
              "      <th>13220</th>\n",
              "      <td>P</td>\n",
              "      <td>26.500000</td>\n",
              "      <td>9.0</td>\n",
              "      <td>80.0</td>\n",
              "      <td>Stunting</td>\n",
              "    </tr>\n",
              "    <tr>\n",
              "      <th>13221</th>\n",
              "      <td>L</td>\n",
              "      <td>11.400000</td>\n",
              "      <td>8.0</td>\n",
              "      <td>70.0</td>\n",
              "      <td>Stunting</td>\n",
              "    </tr>\n",
              "    <tr>\n",
              "      <th>13222</th>\n",
              "      <td>P</td>\n",
              "      <td>28.000000</td>\n",
              "      <td>7.0</td>\n",
              "      <td>80.0</td>\n",
              "      <td>Stunting</td>\n",
              "    </tr>\n",
              "    <tr>\n",
              "      <th>13223</th>\n",
              "      <td>P</td>\n",
              "      <td>44.766667</td>\n",
              "      <td>12.0</td>\n",
              "      <td>86.0</td>\n",
              "      <td>Stunting</td>\n",
              "    </tr>\n",
              "  </tbody>\n",
              "</table>\n",
              "<p>13224 rows × 5 columns</p>\n",
              "</div>\n",
              "    <div class=\"colab-df-buttons\">\n",
              "\n",
              "  <div class=\"colab-df-container\">\n",
              "    <button class=\"colab-df-convert\" onclick=\"convertToInteractive('df-941624d1-5c25-4146-b911-5bffcc1d6f24')\"\n",
              "            title=\"Convert this dataframe to an interactive table.\"\n",
              "            style=\"display:none;\">\n",
              "\n",
              "  <svg xmlns=\"http://www.w3.org/2000/svg\" height=\"24px\" viewBox=\"0 -960 960 960\">\n",
              "    <path d=\"M120-120v-720h720v720H120Zm60-500h600v-160H180v160Zm220 220h160v-160H400v160Zm0 220h160v-160H400v160ZM180-400h160v-160H180v160Zm440 0h160v-160H620v160ZM180-180h160v-160H180v160Zm440 0h160v-160H620v160Z\"/>\n",
              "  </svg>\n",
              "    </button>\n",
              "\n",
              "  <style>\n",
              "    .colab-df-container {\n",
              "      display:flex;\n",
              "      gap: 12px;\n",
              "    }\n",
              "\n",
              "    .colab-df-convert {\n",
              "      background-color: #E8F0FE;\n",
              "      border: none;\n",
              "      border-radius: 50%;\n",
              "      cursor: pointer;\n",
              "      display: none;\n",
              "      fill: #1967D2;\n",
              "      height: 32px;\n",
              "      padding: 0 0 0 0;\n",
              "      width: 32px;\n",
              "    }\n",
              "\n",
              "    .colab-df-convert:hover {\n",
              "      background-color: #E2EBFA;\n",
              "      box-shadow: 0px 1px 2px rgba(60, 64, 67, 0.3), 0px 1px 3px 1px rgba(60, 64, 67, 0.15);\n",
              "      fill: #174EA6;\n",
              "    }\n",
              "\n",
              "    .colab-df-buttons div {\n",
              "      margin-bottom: 4px;\n",
              "    }\n",
              "\n",
              "    [theme=dark] .colab-df-convert {\n",
              "      background-color: #3B4455;\n",
              "      fill: #D2E3FC;\n",
              "    }\n",
              "\n",
              "    [theme=dark] .colab-df-convert:hover {\n",
              "      background-color: #434B5C;\n",
              "      box-shadow: 0px 1px 3px 1px rgba(0, 0, 0, 0.15);\n",
              "      filter: drop-shadow(0px 1px 2px rgba(0, 0, 0, 0.3));\n",
              "      fill: #FFFFFF;\n",
              "    }\n",
              "  </style>\n",
              "\n",
              "    <script>\n",
              "      const buttonEl =\n",
              "        document.querySelector('#df-941624d1-5c25-4146-b911-5bffcc1d6f24 button.colab-df-convert');\n",
              "      buttonEl.style.display =\n",
              "        google.colab.kernel.accessAllowed ? 'block' : 'none';\n",
              "\n",
              "      async function convertToInteractive(key) {\n",
              "        const element = document.querySelector('#df-941624d1-5c25-4146-b911-5bffcc1d6f24');\n",
              "        const dataTable =\n",
              "          await google.colab.kernel.invokeFunction('convertToInteractive',\n",
              "                                                    [key], {});\n",
              "        if (!dataTable) return;\n",
              "\n",
              "        const docLinkHtml = 'Like what you see? Visit the ' +\n",
              "          '<a target=\"_blank\" href=https://colab.research.google.com/notebooks/data_table.ipynb>data table notebook</a>'\n",
              "          + ' to learn more about interactive tables.';\n",
              "        element.innerHTML = '';\n",
              "        dataTable['output_type'] = 'display_data';\n",
              "        await google.colab.output.renderOutput(dataTable, element);\n",
              "        const docLink = document.createElement('div');\n",
              "        docLink.innerHTML = docLinkHtml;\n",
              "        element.appendChild(docLink);\n",
              "      }\n",
              "    </script>\n",
              "  </div>\n",
              "\n",
              "\n",
              "<div id=\"df-cea586e6-1171-4b1d-b83b-0a058427f947\">\n",
              "  <button class=\"colab-df-quickchart\" onclick=\"quickchart('df-cea586e6-1171-4b1d-b83b-0a058427f947')\"\n",
              "            title=\"Suggest charts\"\n",
              "            style=\"display:none;\">\n",
              "\n",
              "<svg xmlns=\"http://www.w3.org/2000/svg\" height=\"24px\"viewBox=\"0 0 24 24\"\n",
              "     width=\"24px\">\n",
              "    <g>\n",
              "        <path d=\"M19 3H5c-1.1 0-2 .9-2 2v14c0 1.1.9 2 2 2h14c1.1 0 2-.9 2-2V5c0-1.1-.9-2-2-2zM9 17H7v-7h2v7zm4 0h-2V7h2v10zm4 0h-2v-4h2v4z\"/>\n",
              "    </g>\n",
              "</svg>\n",
              "  </button>\n",
              "\n",
              "<style>\n",
              "  .colab-df-quickchart {\n",
              "      --bg-color: #E8F0FE;\n",
              "      --fill-color: #1967D2;\n",
              "      --hover-bg-color: #E2EBFA;\n",
              "      --hover-fill-color: #174EA6;\n",
              "      --disabled-fill-color: #AAA;\n",
              "      --disabled-bg-color: #DDD;\n",
              "  }\n",
              "\n",
              "  [theme=dark] .colab-df-quickchart {\n",
              "      --bg-color: #3B4455;\n",
              "      --fill-color: #D2E3FC;\n",
              "      --hover-bg-color: #434B5C;\n",
              "      --hover-fill-color: #FFFFFF;\n",
              "      --disabled-bg-color: #3B4455;\n",
              "      --disabled-fill-color: #666;\n",
              "  }\n",
              "\n",
              "  .colab-df-quickchart {\n",
              "    background-color: var(--bg-color);\n",
              "    border: none;\n",
              "    border-radius: 50%;\n",
              "    cursor: pointer;\n",
              "    display: none;\n",
              "    fill: var(--fill-color);\n",
              "    height: 32px;\n",
              "    padding: 0;\n",
              "    width: 32px;\n",
              "  }\n",
              "\n",
              "  .colab-df-quickchart:hover {\n",
              "    background-color: var(--hover-bg-color);\n",
              "    box-shadow: 0 1px 2px rgba(60, 64, 67, 0.3), 0 1px 3px 1px rgba(60, 64, 67, 0.15);\n",
              "    fill: var(--button-hover-fill-color);\n",
              "  }\n",
              "\n",
              "  .colab-df-quickchart-complete:disabled,\n",
              "  .colab-df-quickchart-complete:disabled:hover {\n",
              "    background-color: var(--disabled-bg-color);\n",
              "    fill: var(--disabled-fill-color);\n",
              "    box-shadow: none;\n",
              "  }\n",
              "\n",
              "  .colab-df-spinner {\n",
              "    border: 2px solid var(--fill-color);\n",
              "    border-color: transparent;\n",
              "    border-bottom-color: var(--fill-color);\n",
              "    animation:\n",
              "      spin 1s steps(1) infinite;\n",
              "  }\n",
              "\n",
              "  @keyframes spin {\n",
              "    0% {\n",
              "      border-color: transparent;\n",
              "      border-bottom-color: var(--fill-color);\n",
              "      border-left-color: var(--fill-color);\n",
              "    }\n",
              "    20% {\n",
              "      border-color: transparent;\n",
              "      border-left-color: var(--fill-color);\n",
              "      border-top-color: var(--fill-color);\n",
              "    }\n",
              "    30% {\n",
              "      border-color: transparent;\n",
              "      border-left-color: var(--fill-color);\n",
              "      border-top-color: var(--fill-color);\n",
              "      border-right-color: var(--fill-color);\n",
              "    }\n",
              "    40% {\n",
              "      border-color: transparent;\n",
              "      border-right-color: var(--fill-color);\n",
              "      border-top-color: var(--fill-color);\n",
              "    }\n",
              "    60% {\n",
              "      border-color: transparent;\n",
              "      border-right-color: var(--fill-color);\n",
              "    }\n",
              "    80% {\n",
              "      border-color: transparent;\n",
              "      border-right-color: var(--fill-color);\n",
              "      border-bottom-color: var(--fill-color);\n",
              "    }\n",
              "    90% {\n",
              "      border-color: transparent;\n",
              "      border-bottom-color: var(--fill-color);\n",
              "    }\n",
              "  }\n",
              "</style>\n",
              "\n",
              "  <script>\n",
              "    async function quickchart(key) {\n",
              "      const quickchartButtonEl =\n",
              "        document.querySelector('#' + key + ' button');\n",
              "      quickchartButtonEl.disabled = true;  // To prevent multiple clicks.\n",
              "      quickchartButtonEl.classList.add('colab-df-spinner');\n",
              "      try {\n",
              "        const charts = await google.colab.kernel.invokeFunction(\n",
              "            'suggestCharts', [key], {});\n",
              "      } catch (error) {\n",
              "        console.error('Error during call to suggestCharts:', error);\n",
              "      }\n",
              "      quickchartButtonEl.classList.remove('colab-df-spinner');\n",
              "      quickchartButtonEl.classList.add('colab-df-quickchart-complete');\n",
              "    }\n",
              "    (() => {\n",
              "      let quickchartButtonEl =\n",
              "        document.querySelector('#df-cea586e6-1171-4b1d-b83b-0a058427f947 button');\n",
              "      quickchartButtonEl.style.display =\n",
              "        google.colab.kernel.accessAllowed ? 'block' : 'none';\n",
              "    })();\n",
              "  </script>\n",
              "</div>\n",
              "    </div>\n",
              "  </div>\n"
            ]
          },
          "metadata": {},
          "execution_count": 29
        }
      ]
    },
    {
      "cell_type": "code",
      "source": [
        "min_label_len = len(df_resampled[df_resampled['Status']=='Stunting'])\n",
        "print(min_label_len)"
      ],
      "metadata": {
        "colab": {
          "base_uri": "https://localhost:8080/"
        },
        "id": "ib0BsynTQZow",
        "outputId": "4eb2355b-eb28-4ebe-a434-8560cd577a83"
      },
      "execution_count": null,
      "outputs": [
        {
          "output_type": "stream",
          "name": "stdout",
          "text": [
            "6612\n"
          ]
        }
      ]
    },
    {
      "cell_type": "code",
      "source": [
        "max_label_index = df_resampled[df_resampled['Status']=='Tidak Stunting'].index\n",
        "print(max_label_index)"
      ],
      "metadata": {
        "colab": {
          "base_uri": "https://localhost:8080/"
        },
        "id": "haZzg9kyQgnD",
        "outputId": "59735e03-fcd0-45c0-c77f-d69a7eccaa6e"
      },
      "execution_count": null,
      "outputs": [
        {
          "output_type": "stream",
          "name": "stdout",
          "text": [
            "Int64Index([   0,    1,    2,    3,    4,    5,    6,    7,    8,    9,\n",
            "            ...\n",
            "            6663, 6664, 6666, 6668, 6669, 6670, 6671, 6672, 6674, 6675],\n",
            "           dtype='int64', length=6612)\n"
          ]
        }
      ]
    },
    {
      "cell_type": "code",
      "source": [
        "print(x_resampled)"
      ],
      "metadata": {
        "colab": {
          "base_uri": "https://localhost:8080/"
        },
        "id": "BObc1HE6RApF",
        "outputId": "6828d53f-f60f-426f-c4c3-c47cb5184729"
      },
      "execution_count": null,
      "outputs": [
        {
          "output_type": "stream",
          "name": "stdout",
          "text": [
            "       JK       Usia  Berat  Tinggi\n",
            "0      L    2.466667    4.9    58.0\n",
            "1      L   58.466667   17.0   109.0\n",
            "2      P    5.166667    7.1    68.5\n",
            "3      P   45.300000   13.8    95.0\n",
            "4      L   53.633333   18.6   106.0\n",
            "...    ..        ...    ...     ...\n",
            "13219  L    0.000000    3.0    48.0\n",
            "13220  P   26.500000    9.0    80.0\n",
            "13221  L   11.400000    8.0    70.0\n",
            "13222  P   28.000000    7.0    80.0\n",
            "13223  P   44.766667   12.0    86.0\n",
            "\n",
            "[13224 rows x 4 columns]\n"
          ]
        }
      ]
    },
    {
      "cell_type": "code",
      "source": [
        "print(y_resampled)"
      ],
      "metadata": {
        "colab": {
          "base_uri": "https://localhost:8080/"
        },
        "id": "5xMqiWiQRDLm",
        "outputId": "71adc74d-d108-49cd-c895-8d38aacf948c"
      },
      "execution_count": null,
      "outputs": [
        {
          "output_type": "stream",
          "name": "stdout",
          "text": [
            "0        Tidak Stunting\n",
            "1        Tidak Stunting\n",
            "2        Tidak Stunting\n",
            "3        Tidak Stunting\n",
            "4        Tidak Stunting\n",
            "              ...      \n",
            "13219          Stunting\n",
            "13220          Stunting\n",
            "13221          Stunting\n",
            "13222          Stunting\n",
            "13223          Stunting\n",
            "Name: Status, Length: 13224, dtype: object\n"
          ]
        }
      ]
    },
    {
      "cell_type": "code",
      "source": [
        "# Create a bar plot for the 'Status' column\n",
        "plt.figure(figsize=(8, 6))\n",
        "sns.countplot(x='Status', data=df_resampled, palette='Set2')\n",
        "plt.title('Distribution of Stunting Status')\n",
        "plt.xlabel('Status')\n",
        "plt.ylabel('Count')\n",
        "\n",
        "# Display the count on top of each bar\n",
        "for index, value in enumerate(df_resampled['Status'].value_counts()):\n",
        "    plt.text(index, value, str(value), ha='center', va='bottom', fontsize=10)\n",
        "\n",
        "plt.show()"
      ],
      "metadata": {
        "colab": {
          "base_uri": "https://localhost:8080/"
        },
        "id": "WDk9Mu8EMlP7",
        "outputId": "019d30ed-a355-4a63-ecb8-03be1825a18e"
      },
      "execution_count": null,
      "outputs": [
        {
          "output_type": "display_data",
          "data": {
            "text/plain": [
              "<Figure size 800x600 with 1 Axes>"
            ],
            "image/png": "[encoded data removed]"
          },
          "metadata": {}
        }
      ]
    },
    {
      "cell_type": "code",
      "source": [
        "# Scatter plot for 'Berat' vs 'Tinggi' with different colors for each 'Status'\n",
        "plt.figure(figsize=(10, 8))\n",
        "sns.scatterplot(x='Berat', y='Tinggi', hue='Status', data=df_resampled, palette='viridis', s=80)\n",
        "plt.title('Scatter Plot of Weight vs Height')\n",
        "plt.xlabel('Weight')\n",
        "plt.ylabel('Height')\n",
        "\n",
        "plt.legend(title='Status')\n",
        "plt.show()"
      ],
      "metadata": {
        "colab": {
          "base_uri": "https://localhost:8080/"
        },
        "id": "Lqp4vmbSMt5D",
        "outputId": "1709dd57-bed5-45c9-c1cd-74547a0d3b1c"
      },
      "execution_count": null,
      "outputs": [
        {
          "output_type": "display_data",
          "data": {
            "text/plain": [
              "<Figure size 1000x800 with 1 Axes>"
            ],
            "image/png": "[encoded data removed]"
          },
          "metadata": {}
        }
      ]
    },
    {
      "cell_type": "markdown",
      "source": [
        "# TRANSFORMASI"
      ],
      "metadata": {
        "id": "L6WL_z_mO-01"
      }
    },
    {
      "cell_type": "code",
      "execution_count": null,
      "metadata": {
        "id": "Wnque5Ajgu3u"
      },
      "outputs": [],
      "source": [
        "# TRANSFORMASI & ENCODING Kolom Fitur\n",
        "from sklearn.compose import ColumnTransformer\n",
        "from sklearn.preprocessing import OneHotEncoder\n",
        "\n",
        "column_transformer = ColumnTransformer(transformers=[('encoder', OneHotEncoder(), [0])], remainder='passthrough')\n",
        "x_resampled = np.array(column_transformer.fit_transform(x_resampled))"
      ]
    },
    {
      "cell_type": "code",
      "execution_count": null,
      "metadata": {
        "colab": {
          "base_uri": "https://localhost:8080/"
        },
        "id": "VHrdZWWWOXgm",
        "outputId": "5db88204-8ce6-4222-82ea-05cc1dc41aa6"
      },
      "outputs": [
        {
          "output_type": "stream",
          "name": "stdout",
          "text": [
            "[[  1.           0.           2.46666667   4.9         58.        ]\n",
            " [  1.           0.          58.46666667  17.         109.        ]\n",
            " [  0.           1.           5.16666667   7.1         68.5       ]\n",
            " ...\n",
            " [  1.           0.          11.4          8.          70.        ]\n",
            " [  0.           1.          28.           7.          80.        ]\n",
            " [  0.           1.          44.76666667  12.          86.        ]]\n"
          ]
        }
      ],
      "source": [
        "print(x_resampled)"
      ]
    },
    {
      "cell_type": "code",
      "execution_count": null,
      "metadata": {
        "id": "GB83m7qLPFIW"
      },
      "outputs": [],
      "source": [
        "# ENCODING pada Kolom Label\n",
        "from sklearn.preprocessing import LabelEncoder\n",
        "label_encoder = LabelEncoder()\n",
        "y_resampled = label_encoder.fit_transform(y_resampled)\n",
        "\n",
        "y_resampled = 1 - y_resampled"
      ]
    },
    {
      "cell_type": "code",
      "execution_count": null,
      "metadata": {
        "colab": {
          "base_uri": "https://localhost:8080/"
        },
        "id": "-FiFyC7LPhEn",
        "outputId": "f671fe1c-d916-47b0-c91b-b97bf05e1ea4"
      },
      "outputs": [
        {
          "output_type": "stream",
          "name": "stdout",
          "text": [
            "[0 0 0 0 0 0 0 0 0 0 0 0 0 0 0 0 0 0 0 0 0 0 0 0 0 0 0 0 0 0 0 0 0 0 0 0 0\n",
            " 0 0 0 0 0 0 0 0 0 0 0 0 0 0 0 0 0 0 0 0 0 0 0 0 0 0 1 0 0 0 0 0 0 0 0 0 0\n",
            " 0 0 0 0 0 0 0 0 0 0 0 0 0 0 0 0 0 0 0 0 0 0 0 0 0 0 0 1 0 0 0 0 0 0 0 0 0\n",
            " 0 0 0 0 0 0 0 0 0 0 0 0 0 0 0 0 0 0 0 0 0 0 0 0 0 0 0 0 0 0 0 0 0 0 0 0 0\n",
            " 0 0 0 0 0 0 0 0 0 0 0 0 0 0 0 0 0 0 0 0 0 0 0 0 0 0 0 0 0 0 0 0 0 0 0 0 0\n",
            " 0 0 0 0 0 0 0 0 0 0 0 0 0 1 0 1 0 0 0 0 0 0 0 0 0 0 0 0 0 0 0 0 0 0 0 0 0\n",
            " 0 0 0 0 0 1 0 0 0 0 0 0 0 0 0 0 0 0 0 0 1 0 1 0 0 0 0 0 0 0 0 0 0 0 0 0 0\n",
            " 0 0 0 0 0 0 0 0 0 0 0 0 0 0 0 0 0 0 0 0 0 0 0 0 1 0 0 0 0 0 0 0 0 0 0 0 0\n",
            " 0 0 0 0 0 0 0 0 0 0 0 0 0 0 0 0 0 0 0 0 0 0 0 0 0 0 0 0 0 0 0 0 0 0 0 0 0\n",
            " 0 0 0 0 0 0 0 0 0 0 0 0 0 0 0 0 0 0 0 0 0 0 0 0 0 0 0 0 0 0 0 0 0 0 0 0 0\n",
            " 0 0 0 0 0 0 0 0 0 0 0 0 0 0 0 0 0 0 0 0 0 0 0 0 0 0 0 0 0 0 0 0 0 0 0 0 0\n",
            " 1 0 0 0 0 0 0 0 0 0 0 0 0 0 0 0 1 0 0 0 0 0 0 0 0 0 0 0 0 0 0 0 0 0 0 0 1\n",
            " 0 0 0 0 0 0 0 0 0 0 0 0 0 0 0 0 0 0 0 0 0 0 0 0 0 0 0 0 0 0 0 0 0 0 0 0 0\n",
            " 0 0 0 0 0 0 0 0 0 0 0 0 0 0 0 0 0 0 0 0 0 0 0 0 0 0 0 0 0 0 0 0 0 0 0 0 0\n",
            " 0 0 0 0 0 0 1 0 0 0 0 0 0 0 0 0 0 0 0 0 0 0 0 0 0 0 1 0 0 0 0 0 0 0 0 0 0\n",
            " 0 0 0 0 0 0 0 0 0 0 0 0 0 0 0 0 0 0 0 0 1 0 0 0 0 0 0 0 0 0 0 0 0 0 0 0 1\n",
            " 0 0 1 0 0 0 0 0 0 0 0 0 0 0 0 0 0 0 0 0 0 0 0 0 0 0 0 0 0 0 0 0 0 0 0 0 0\n",
            " 0 0 0 0 0 0 0 0 0 0 0 0 0 0 0 0 0 0 0 0 0 0 0 0 0 0 0 0 0 0 0 0 0 0 0 0 0\n",
            " 0 0 0 0 0 0 0 0 0 0 0 0 0 0 0 0 0 0 0 0 0 0 0 0 0 0 0 0 0 0 0 0 0 0 0 0 0\n",
            " 0 0 0 0 0 0 0 0 0 0 0 0 0 0 0 0 0 0 0 0 0 0 0 0 0 0 0 0 0 0 0 0 0 0 0 0 0\n",
            " 0 0 0 0 0 0 0 0 0 0 0 0 0 0 0 0 0 0 0 0 0 0 0 0 0 0 0 0 0 0 0 0 0 0 0 0 0\n",
            " 0 0 0 0 0 0 0 0 0 0 0 0 0 0 0 0 0 0 0 1 0 0 0 0 0 0 0 0 0 0 0 0 0 0 0 0 0\n",
            " 0 0 0 0 0 0 0 0 0 0 0 0 0 0 0 0 0 0 0 0 0 0 0 0 0 0 0 0 0 0 0 0 0 0 0 0 0\n",
            " 0 0 0 0 0 0 0 0 0 0 0 0 0 0 0 0 0 0 0 0 0 0 0 0 0 0 0 0 0 0 0 0 0 0 0 0 0\n",
            " 0 0 0 0 0 0 0 0 0 0 0 0 0 0 0 0 0 0 0 0 0 0 0 1 0 0 0 0 0 0 0 0 0 0 0 0 0\n",
            " 0 0 0 0 0 0 0 0 0 0 0 0 0 0 0 0 0 0 0 0 0 0 0 0 0 0 0 0 0 0 0 0 0 0 0 0 0\n",
            " 0 0 0 0 0 0 0 0 0 0 0 0 0 0 0 0 0 0 0 0 0 0 0 0 0 0 0 0 0 0 0 0 0 0 0 0 0\n",
            " 0]\n"
          ]
        }
      ],
      "source": [
        "print(y_resampled[:1000])\n",
        "# y_resampled[-1:-501:-1]"
      ]
    },
    {
      "cell_type": "markdown",
      "metadata": {
        "id": "l2snVGUMP4mM"
      },
      "source": [
        "**3. Split Data**"
      ]
    },
    {
      "cell_type": "code",
      "execution_count": null,
      "metadata": {
        "id": "22PpowRDg4GA"
      },
      "outputs": [],
      "source": [
        "# Split train set dan Test set\n",
        "from sklearn.model_selection import train_test_split\n",
        "x_train, x_test, y_train, y_test = train_test_split(x_resampled, y_resampled, test_size=0.2)"
      ]
    },
    {
      "cell_type": "markdown",
      "metadata": {
        "id": "R8a9G0rVS5sd"
      },
      "source": [
        "**4. Scaling Data**"
      ]
    },
    {
      "cell_type": "code",
      "execution_count": null,
      "metadata": {
        "id": "cdvC4wwcR2wZ"
      },
      "outputs": [],
      "source": [
        "from sklearn.preprocessing import StandardScaler\n",
        "standard_scal = StandardScaler()\n",
        "\n",
        "# Fit and transform the training set\n",
        "x_train[:, 2:] = standard_scal.fit_transform(x_train[:, 2:])\n",
        "\n",
        "# Transform the test set using the same scaler\n",
        "x_test[:, 2:] = standard_scal.transform(x_test[:, 2:])"
      ]
    },
    {
      "cell_type": "code",
      "execution_count": null,
      "metadata": {
        "id": "Z0WCKJh6THth",
        "colab": {
          "base_uri": "https://localhost:8080/"
        },
        "outputId": "87d3ccc6-4494-4ce1-f55f-240f6633d3be"
      },
      "outputs": [
        {
          "output_type": "stream",
          "name": "stdout",
          "text": [
            "[[ 0.          1.          0.17642639  0.49296582  0.52774009]\n",
            " [ 1.          0.         -0.9562778  -0.4410806  -0.44023918]\n",
            " [ 0.          1.         -0.08214663 -0.3076454  -0.37570723]\n",
            " ...\n",
            " [ 1.          0.          1.18949232  0.22609541  0.72133595]\n",
            " [ 1.          0.          0.63761259  0.33284358  0.52774009]\n",
            " [ 0.          1.         -0.22108138 -0.5745158  -0.24664333]]\n"
          ]
        }
      ],
      "source": [
        "print(x_train)"
      ]
    },
    {
      "cell_type": "code",
      "source": [
        "print(x_train.shape)\n",
        "print(y_train.shape)"
      ],
      "metadata": {
        "colab": {
          "base_uri": "https://localhost:8080/"
        },
        "id": "mgg5N-jAYk0M",
        "outputId": "1b7fcf31-878c-4563-8b43-c880c2fb0ae3"
      },
      "execution_count": null,
      "outputs": [
        {
          "output_type": "stream",
          "name": "stdout",
          "text": [
            "(10579, 5)\n",
            "(10579,)\n"
          ]
        }
      ]
    },
    {
      "cell_type": "markdown",
      "metadata": {
        "id": "DCS9vdWsh-RD"
      },
      "source": [
        "# **Model**"
      ]
    },
    {
      "cell_type": "markdown",
      "source": [
        "## Logistic Regression"
      ],
      "metadata": {
        "id": "GGuXywDPTOXn"
      }
    },
    {
      "cell_type": "code",
      "source": [
        "from sklearn.linear_model import LogisticRegression\n",
        "from sklearn.preprocessing import StandardScaler\n",
        "from sklearn.model_selection import train_test_split\n",
        "from sklearn.metrics import accuracy_score, classification_report, confusion_matrix\n"
      ],
      "metadata": {
        "id": "pZG7FhKqS8Um"
      },
      "execution_count": null,
      "outputs": []
    },
    {
      "cell_type": "code",
      "execution_count": null,
      "metadata": {
        "id": "KAN7TOA4LgnD",
        "colab": {
          "base_uri": "https://localhost:8080/"
        },
        "outputId": "96b89ac9-8316-4472-b615-57428f177b38"
      },
      "outputs": [
        {
          "output_type": "execute_result",
          "data": {
            "text/plain": [
              "LogisticRegression(C=0.1, class_weight='balanced', max_iter=1000)"
            ],
            "text/html": [
              "<style>#sk-container-id-1 {color: black;background-color: white;}#sk-container-id-1 pre{padding: 0;}#sk-container-id-1 div.sk-toggleable {background-color: white;}#sk-container-id-1 label.sk-toggleable__label {cursor: pointer;display: block;width: 100%;margin-bottom: 0;padding: 0.3em;box-sizing: border-box;text-align: center;}#sk-container-id-1 label.sk-toggleable__label-arrow:before {content: \"▸\";float: left;margin-right: 0.25em;color: #696969;}#sk-container-id-1 label.sk-toggleable__label-arrow:hover:before {color: black;}#sk-container-id-1 div.sk-estimator:hover label.sk-toggleable__label-arrow:before {color: black;}#sk-container-id-1 div.sk-toggleable__content {max-height: 0;max-width: 0;overflow: hidden;text-align: left;background-color: #f0f8ff;}#sk-container-id-1 div.sk-toggleable__content pre {margin: 0.2em;color: black;border-radius: 0.25em;background-color: #f0f8ff;}#sk-container-id-1 input.sk-toggleable__control:checked~div.sk-toggleable__content {max-height: 200px;max-width: 100%;overflow: auto;}#sk-container-id-1 input.sk-toggleable__control:checked~label.sk-toggleable__label-arrow:before {content: \"▾\";}#sk-container-id-1 div.sk-estimator input.sk-toggleable__control:checked~label.sk-toggleable__label {background-color: #d4ebff;}#sk-container-id-1 div.sk-label input.sk-toggleable__control:checked~label.sk-toggleable__label {background-color: #d4ebff;}#sk-container-id-1 input.sk-hidden--visually {border: 0;clip: rect(1px 1px 1px 1px);clip: rect(1px, 1px, 1px, 1px);height: 1px;margin: -1px;overflow: hidden;padding: 0;position: absolute;width: 1px;}#sk-container-id-1 div.sk-estimator {font-family: monospace;background-color: #f0f8ff;border: 1px dotted black;border-radius: 0.25em;box-sizing: border-box;margin-bottom: 0.5em;}#sk-container-id-1 div.sk-estimator:hover {background-color: #d4ebff;}#sk-container-id-1 div.sk-parallel-item::after {content: \"\";width: 100%;border-bottom: 1px solid gray;flex-grow: 1;}#sk-container-id-1 div.sk-label:hover label.sk-toggleable__label {background-color: #d4ebff;}#sk-container-id-1 div.sk-serial::before {content: \"\";position: absolute;border-left: 1px solid gray;box-sizing: border-box;top: 0;bottom: 0;left: 50%;z-index: 0;}#sk-container-id-1 div.sk-serial {display: flex;flex-direction: column;align-items: center;background-color: white;padding-right: 0.2em;padding-left: 0.2em;position: relative;}#sk-container-id-1 div.sk-item {position: relative;z-index: 1;}#sk-container-id-1 div.sk-parallel {display: flex;align-items: stretch;justify-content: center;background-color: white;position: relative;}#sk-container-id-1 div.sk-item::before, #sk-container-id-1 div.sk-parallel-item::before {content: \"\";position: absolute;border-left: 1px solid gray;box-sizing: border-box;top: 0;bottom: 0;left: 50%;z-index: -1;}#sk-container-id-1 div.sk-parallel-item {display: flex;flex-direction: column;z-index: 1;position: relative;background-color: white;}#sk-container-id-1 div.sk-parallel-item:first-child::after {align-self: flex-end;width: 50%;}#sk-container-id-1 div.sk-parallel-item:last-child::after {align-self: flex-start;width: 50%;}#sk-container-id-1 div.sk-parallel-item:only-child::after {width: 0;}#sk-container-id-1 div.sk-dashed-wrapped {border: 1px dashed gray;margin: 0 0.4em 0.5em 0.4em;box-sizing: border-box;padding-bottom: 0.4em;background-color: white;}#sk-container-id-1 div.sk-label label {font-family: monospace;font-weight: bold;display: inline-block;line-height: 1.2em;}#sk-container-id-1 div.sk-label-container {text-align: center;}#sk-container-id-1 div.sk-container {/* jupyter's `normalize.less` sets `[hidden] { display: none; }` but bootstrap.min.css set `[hidden] { display: none !important; }` so we also need the `!important` here to be able to override the default hidden behavior on the sphinx rendered scikit-learn.org. See: https://github.com/scikit-learn/scikit-learn/issues/21755 */display: inline-block !important;position: relative;}#sk-container-id-1 div.sk-text-repr-fallback {display: none;}</style><div id=\"sk-container-id-1\" class=\"sk-top-container\"><div class=\"sk-text-repr-fallback\"><pre>LogisticRegression(C=0.1, class_weight=&#x27;balanced&#x27;, max_iter=1000)</pre><b>In a Jupyter environment, please rerun this cell to show the HTML representation or trust the notebook. <br />On GitHub, the HTML representation is unable to render, please try loading this page with nbviewer.org.</b></div><div class=\"sk-container\" hidden><div class=\"sk-item\"><div class=\"sk-estimator sk-toggleable\"><input class=\"sk-toggleable__control sk-hidden--visually\" id=\"sk-estimator-id-1\" type=\"checkbox\" checked><label for=\"sk-estimator-id-1\" class=\"sk-toggleable__label sk-toggleable__label-arrow\">LogisticRegression</label><div class=\"sk-toggleable__content\"><pre>LogisticRegression(C=0.1, class_weight=&#x27;balanced&#x27;, max_iter=1000)</pre></div></div></div></div></div>"
            ]
          },
          "metadata": {},
          "execution_count": 45
        }
      ],
      "source": [
        "# Create a logistic regression model\n",
        "logistic_model  = LogisticRegression(C=0.1, solver='lbfgs', max_iter=1000, class_weight='balanced')\n",
        "\n",
        "# Fit the model to the training data\n",
        "logistic_model.fit(x_train, y_train)"
      ]
    },
    {
      "cell_type": "code",
      "source": [
        "# Training Accuracy\n",
        "y_pred_train_logistic = logistic_model.predict(x_train)\n",
        "\n",
        "# Calculate training set accuracy\n",
        "accuracy_train = accuracy_score(y_train, y_pred_train_logistic)\n",
        "print(f\"Training Set Accuracy: {accuracy_train:.4f}\")"
      ],
      "metadata": {
        "colab": {
          "base_uri": "https://localhost:8080/"
        },
        "id": "k2r1T5wgkeVx",
        "outputId": "531696d6-f67a-4417-e6ca-57f621fe4460"
      },
      "execution_count": null,
      "outputs": [
        {
          "output_type": "stream",
          "name": "stdout",
          "text": [
            "Training Set Accuracy: 0.8862\n"
          ]
        }
      ]
    },
    {
      "cell_type": "code",
      "source": [
        "# Make predictions on the test set\n",
        "y_pred_logistic  = logistic_model.predict(x_test)\n",
        "\n",
        "# Calculate accuracy\n",
        "accuracy_logistic  = accuracy_score(y_test, y_pred_logistic)\n",
        "print(f\"Accuracy: {accuracy_logistic:.4f}\")\n",
        "\n",
        "# Generate a classification report\n",
        "print(classification_report(y_test, y_pred_logistic, digits=4))\n",
        "\n",
        "# Create a confusion matrix\n",
        "confusion_logistic  = confusion_matrix(y_test, y_pred_logistic)\n",
        "print(\"Confusion Matrix:\")\n",
        "print(confusion_logistic )\n"
      ],
      "metadata": {
        "id": "Ms0qiGsXTCpX",
        "colab": {
          "base_uri": "https://localhost:8080/"
        },
        "outputId": "f510f770-72db-477c-8d3a-b5c0ecdfd340"
      },
      "execution_count": null,
      "outputs": [
        {
          "output_type": "stream",
          "name": "stdout",
          "text": [
            "Accuracy: 0.8915\n",
            "              precision    recall  f1-score   support\n",
            "\n",
            "           0     0.9090    0.8648    0.8863      1294\n",
            "           1     0.8762    0.9171    0.8962      1351\n",
            "\n",
            "    accuracy                         0.8915      2645\n",
            "   macro avg     0.8926    0.8909    0.8913      2645\n",
            "weighted avg     0.8923    0.8915    0.8914      2645\n",
            "\n",
            "Confusion Matrix:\n",
            "[[1119  175]\n",
            " [ 112 1239]]\n"
          ]
        }
      ]
    },
    {
      "cell_type": "markdown",
      "source": [
        "## Random Forest\n"
      ],
      "metadata": {
        "id": "LqZdjSbuTThD"
      }
    },
    {
      "cell_type": "code",
      "source": [
        "from sklearn.ensemble import RandomForestClassifier\n",
        "from sklearn.model_selection import train_test_split\n",
        "from sklearn.metrics import accuracy_score, classification_report, confusion_matrix\n"
      ],
      "metadata": {
        "id": "Qgk_j2NzTXaY"
      },
      "execution_count": null,
      "outputs": []
    },
    {
      "cell_type": "code",
      "source": [
        "# Create a Random Forest Classifier model\n",
        "rf_model = RandomForestClassifier(criterion = 'entropy', max_depth = 25,max_features = 'log2',n_estimators = 150) #n_estimators=100, max_depth=10, min_samples_split=500, min_samples_leaf=200\n",
        "\n",
        "# Fit the model to the training data\n",
        "rf_model.fit(x_train, y_train)"
      ],
      "metadata": {
        "id": "bH54rrXUTcCr",
        "colab": {
          "base_uri": "https://localhost:8080/"
        },
        "outputId": "3b8b045b-42a1-4256-d0d0-47642dc429b8"
      },
      "execution_count": null,
      "outputs": [
        {
          "output_type": "execute_result",
          "data": {
            "text/plain": [
              "RandomForestClassifier(criterion='entropy', max_depth=25, max_features='log2',\n",
              "                       n_estimators=150)"
            ],
            "text/html": [
              "<style>#sk-container-id-2 {color: black;background-color: white;}#sk-container-id-2 pre{padding: 0;}#sk-container-id-2 div.sk-toggleable {background-color: white;}#sk-container-id-2 label.sk-toggleable__label {cursor: pointer;display: block;width: 100%;margin-bottom: 0;padding: 0.3em;box-sizing: border-box;text-align: center;}#sk-container-id-2 label.sk-toggleable__label-arrow:before {content: \"▸\";float: left;margin-right: 0.25em;color: #696969;}#sk-container-id-2 label.sk-toggleable__label-arrow:hover:before {color: black;}#sk-container-id-2 div.sk-estimator:hover label.sk-toggleable__label-arrow:before {color: black;}#sk-container-id-2 div.sk-toggleable__content {max-height: 0;max-width: 0;overflow: hidden;text-align: left;background-color: #f0f8ff;}#sk-container-id-2 div.sk-toggleable__content pre {margin: 0.2em;color: black;border-radius: 0.25em;background-color: #f0f8ff;}#sk-container-id-2 input.sk-toggleable__control:checked~div.sk-toggleable__content {max-height: 200px;max-width: 100%;overflow: auto;}#sk-container-id-2 input.sk-toggleable__control:checked~label.sk-toggleable__label-arrow:before {content: \"▾\";}#sk-container-id-2 div.sk-estimator input.sk-toggleable__control:checked~label.sk-toggleable__label {background-color: #d4ebff;}#sk-container-id-2 div.sk-label input.sk-toggleable__control:checked~label.sk-toggleable__label {background-color: #d4ebff;}#sk-container-id-2 input.sk-hidden--visually {border: 0;clip: rect(1px 1px 1px 1px);clip: rect(1px, 1px, 1px, 1px);height: 1px;margin: -1px;overflow: hidden;padding: 0;position: absolute;width: 1px;}#sk-container-id-2 div.sk-estimator {font-family: monospace;background-color: #f0f8ff;border: 1px dotted black;border-radius: 0.25em;box-sizing: border-box;margin-bottom: 0.5em;}#sk-container-id-2 div.sk-estimator:hover {background-color: #d4ebff;}#sk-container-id-2 div.sk-parallel-item::after {content: \"\";width: 100%;border-bottom: 1px solid gray;flex-grow: 1;}#sk-container-id-2 div.sk-label:hover label.sk-toggleable__label {background-color: #d4ebff;}#sk-container-id-2 div.sk-serial::before {content: \"\";position: absolute;border-left: 1px solid gray;box-sizing: border-box;top: 0;bottom: 0;left: 50%;z-index: 0;}#sk-container-id-2 div.sk-serial {display: flex;flex-direction: column;align-items: center;background-color: white;padding-right: 0.2em;padding-left: 0.2em;position: relative;}#sk-container-id-2 div.sk-item {position: relative;z-index: 1;}#sk-container-id-2 div.sk-parallel {display: flex;align-items: stretch;justify-content: center;background-color: white;position: relative;}#sk-container-id-2 div.sk-item::before, #sk-container-id-2 div.sk-parallel-item::before {content: \"\";position: absolute;border-left: 1px solid gray;box-sizing: border-box;top: 0;bottom: 0;left: 50%;z-index: -1;}#sk-container-id-2 div.sk-parallel-item {display: flex;flex-direction: column;z-index: 1;position: relative;background-color: white;}#sk-container-id-2 div.sk-parallel-item:first-child::after {align-self: flex-end;width: 50%;}#sk-container-id-2 div.sk-parallel-item:last-child::after {align-self: flex-start;width: 50%;}#sk-container-id-2 div.sk-parallel-item:only-child::after {width: 0;}#sk-container-id-2 div.sk-dashed-wrapped {border: 1px dashed gray;margin: 0 0.4em 0.5em 0.4em;box-sizing: border-box;padding-bottom: 0.4em;background-color: white;}#sk-container-id-2 div.sk-label label {font-family: monospace;font-weight: bold;display: inline-block;line-height: 1.2em;}#sk-container-id-2 div.sk-label-container {text-align: center;}#sk-container-id-2 div.sk-container {/* jupyter's `normalize.less` sets `[hidden] { display: none; }` but bootstrap.min.css set `[hidden] { display: none !important; }` so we also need the `!important` here to be able to override the default hidden behavior on the sphinx rendered scikit-learn.org. See: https://github.com/scikit-learn/scikit-learn/issues/21755 */display: inline-block !important;position: relative;}#sk-container-id-2 div.sk-text-repr-fallback {display: none;}</style><div id=\"sk-container-id-2\" class=\"sk-top-container\"><div class=\"sk-text-repr-fallback\"><pre>RandomForestClassifier(criterion=&#x27;entropy&#x27;, max_depth=25, max_features=&#x27;log2&#x27;,\n",
              "                       n_estimators=150)</pre><b>In a Jupyter environment, please rerun this cell to show the HTML representation or trust the notebook. <br />On GitHub, the HTML representation is unable to render, please try loading this page with nbviewer.org.</b></div><div class=\"sk-container\" hidden><div class=\"sk-item\"><div class=\"sk-estimator sk-toggleable\"><input class=\"sk-toggleable__control sk-hidden--visually\" id=\"sk-estimator-id-2\" type=\"checkbox\" checked><label for=\"sk-estimator-id-2\" class=\"sk-toggleable__label sk-toggleable__label-arrow\">RandomForestClassifier</label><div class=\"sk-toggleable__content\"><pre>RandomForestClassifier(criterion=&#x27;entropy&#x27;, max_depth=25, max_features=&#x27;log2&#x27;,\n",
              "                       n_estimators=150)</pre></div></div></div></div></div>"
            ]
          },
          "metadata": {},
          "execution_count": 49
        }
      ]
    },
    {
      "cell_type": "code",
      "source": [
        "# Training Accuracy\n",
        "y_pred_train_rf = rf_model.predict(x_train)\n",
        "\n",
        "# Calculate training set accuracy\n",
        "accuracy_train = accuracy_score(y_train, y_pred_train_rf)\n",
        "print(f\"Training Set Accuracy: {accuracy_train:.4f}\")"
      ],
      "metadata": {
        "colab": {
          "base_uri": "https://localhost:8080/"
        },
        "id": "8X2rep-nk59B",
        "outputId": "3cb8580c-9871-44f5-ce1a-38d375b9731d"
      },
      "execution_count": null,
      "outputs": [
        {
          "output_type": "stream",
          "name": "stdout",
          "text": [
            "Training Set Accuracy: 0.9991\n"
          ]
        }
      ]
    },
    {
      "cell_type": "code",
      "source": [
        "# Make predictions on the test set\n",
        "y_pred_rf  = rf_model.predict(x_test)\n",
        "\n",
        "# Calculate accuracy\n",
        "accuracy_rf  = accuracy_score(y_test, y_pred_rf )\n",
        "print(f\"Accuracy: {accuracy_rf :.4f}\")\n",
        "\n",
        "# Generate a classification report\n",
        "print(classification_report(y_test, y_pred_rf, digits=4))\n",
        "\n",
        "# Create a confusion matrix\n",
        "confusion_rf  = confusion_matrix(y_test, y_pred_rf )\n",
        "print(\"Confusion Matrix:\")\n",
        "print(confusion_rf )\n"
      ],
      "metadata": {
        "id": "ox6OWDtXTgvE",
        "colab": {
          "base_uri": "https://localhost:8080/"
        },
        "outputId": "660c83a2-1e0e-4c1e-bfe9-3566f87e2145"
      },
      "execution_count": null,
      "outputs": [
        {
          "output_type": "stream",
          "name": "stdout",
          "text": [
            "Accuracy: 0.9992\n",
            "              precision    recall  f1-score   support\n",
            "\n",
            "           0     1.0000    0.9985    0.9992      1294\n",
            "           1     0.9985    1.0000    0.9993      1351\n",
            "\n",
            "    accuracy                         0.9992      2645\n",
            "   macro avg     0.9993    0.9992    0.9992      2645\n",
            "weighted avg     0.9992    0.9992    0.9992      2645\n",
            "\n",
            "Confusion Matrix:\n",
            "[[1292    2]\n",
            " [   0 1351]]\n"
          ]
        }
      ]
    },
    {
      "cell_type": "code",
      "source": [
        "from sklearn.model_selection import train_test_split\n",
        "from sklearn.metrics import classification_report, accuracy_score\n",
        "from sklearn.ensemble import RandomForestClassifier\n",
        "\n",
        "# Assuming X and y are your feature matrix and target variable\n",
        "# Perform the loop for 10 iterations (you can adjust this number)\n",
        "num_iterations = 10\n",
        "average_metrics = {'accuracy': 0, 'precision_0': 0, 'recall_0': 0, 'f1_0': 0, 'precision_1': 0, 'recall_1': 0, 'f1_1': 0}\n",
        "\n",
        "for i in range(num_iterations):\n",
        "    # Split the data into training and testing sets\n",
        "    x_train, x_test, y_train, y_test = train_test_split(x_resampled, y_resampled, test_size=0.2)  # You may set a random seed for reproducibility\n",
        "\n",
        "    # Train your model (assuming RandomForestClassifier for this example)\n",
        "    # Create a Random Forest Classifier model\n",
        "    rf_model = RandomForestClassifier(criterion = 'entropy', max_depth = 25,max_features = 'log2',n_estimators = 150) #n_estimators=100, max_depth=10, min_samples_split=500, min_samples_leaf=200\n",
        "\n",
        "    # Fit the model to the training data\n",
        "    rf_model.fit(x_train, y_train)\n",
        "\n",
        "    # Make predictions on the test set\n",
        "    y_pred_rf  = rf_model.predict(x_test)\n",
        "\n",
        "    # Calculate accuracy and other metrics\n",
        "    accuracy = accuracy_score(y_test, y_pred_rf)\n",
        "    report = classification_report(y_test, y_pred_rf, output_dict=True)\n",
        "\n",
        "    # Print accuracy for each iteration\n",
        "    print(f\"Iteration {i + 1} - Accuracy: {accuracy:.4f}\")\n",
        "\n",
        "    # Accumulate metrics for averaging\n",
        "    average_metrics['accuracy'] += accuracy\n",
        "    average_metrics['precision_0'] += report['0']['precision']\n",
        "    average_metrics['recall_0'] += report['0']['recall']\n",
        "    average_metrics['f1_0'] += report['0']['f1-score']\n",
        "    average_metrics['precision_1'] += report['1']['precision']\n",
        "    average_metrics['recall_1'] += report['1']['recall']\n",
        "    average_metrics['f1_1'] += report['1']['f1-score']\n",
        "\n",
        "# Calculate average metrics\n",
        "for metric in average_metrics:\n",
        "    average_metrics[metric] /= num_iterations\n",
        "\n",
        "# Print the average metrics\n",
        "print(\"\\nOverall Average Metrics:\")\n",
        "print(\"Average Accuracy:\", average_metrics['accuracy'])\n",
        "print(\"Average Precision (Class 0):\", average_metrics['precision_0'])\n",
        "print(\"Average Recall (Class 0):\", average_metrics['recall_0'])\n",
        "print(\"Average F1-Score (Class 0):\", average_metrics['f1_0'])\n",
        "print(\"Average Precision (Class 1):\", average_metrics['precision_1'])\n",
        "print(\"Average Recall (Class 1):\", average_metrics['recall_1'])\n",
        "print(\"Average F1-Score (Class 1):\", average_metrics['f1_1'])\n"
      ],
      "metadata": {
        "id": "qUx8a1gA1erI",
        "colab": {
          "base_uri": "https://localhost:8080/"
        },
        "outputId": "6fca215e-c7a0-449e-e9dd-49da94d9db0f"
      },
      "execution_count": null,
      "outputs": [
        {
          "output_type": "stream",
          "name": "stdout",
          "text": [
            "Iteration 1 - Accuracy: 0.9996\n",
            "Iteration 2 - Accuracy: 0.9985\n",
            "Iteration 3 - Accuracy: 0.9989\n",
            "Iteration 4 - Accuracy: 0.9981\n",
            "Iteration 5 - Accuracy: 0.9985\n",
            "Iteration 6 - Accuracy: 0.9977\n",
            "Iteration 7 - Accuracy: 0.9989\n",
            "Iteration 8 - Accuracy: 0.9992\n",
            "Iteration 9 - Accuracy: 0.9985\n",
            "Iteration 10 - Accuracy: 0.9974\n",
            "\n",
            "Overall Average Metrics:\n",
            "Average Accuracy: 0.9985255198487712\n",
            "Average Precision (Class 0): 1.0\n",
            "Average Recall (Class 0): 0.9970568583637294\n",
            "Average F1-Score (Class 0): 0.9985258618008608\n",
            "Average Precision (Class 1): 0.9970545129099992\n",
            "Average Recall (Class 1): 1.0\n",
            "Average F1-Score (Class 1): 0.9985246562034377\n"
          ]
        }
      ]
    },
    {
      "cell_type": "code",
      "source": [
        "from sklearn.model_selection import train_test_split\n",
        "from sklearn.metrics import classification_report, accuracy_score\n",
        "from sklearn.ensemble import RandomForestClassifier\n",
        "from sklearn.linear_model import LogisticRegression\n",
        "\n",
        "# Assuming X and y are your feature matrix and target variable\n",
        "# Perform the loop for 10 iterations (you can adjust this number)\n",
        "num_iterations = 100\n",
        "average_metrics_rf = {'accuracy': 0, 'precision_0': 0, 'recall_0': 0, 'f1_0': 0, 'precision_1': 0, 'recall_1': 0, 'f1_1': 0}\n",
        "average_metrics_lr = {'accuracy': 0, 'precision_0': 0, 'recall_0': 0, 'f1_0': 0, 'precision_1': 0, 'recall_1': 0, 'f1_1': 0}\n",
        "\n",
        "for i in range(num_iterations):\n",
        "    # Split the data into training and testing sets\n",
        "    x_train, x_test, y_train, y_test = train_test_split(x_resampled, y_resampled, test_size=0.2)  # You may set a random seed for reproducibility\n",
        "\n",
        "    # Scaling data\n",
        "    standard_scal = StandardScaler()\n",
        "    # Fit and transform the training set\n",
        "    x_train[:, 2:] = standard_scal.fit_transform(x_train[:, 2:])\n",
        "    # Transform the test set using the same scaler\n",
        "    x_test[:, 2:] = standard_scal.transform(x_test[:, 2:])\n",
        "\n",
        "    # Train RandomForestClassifier\n",
        "    rf_model = RandomForestClassifier()\n",
        "    rf_model.fit(x_train, y_train)\n",
        "\n",
        "    # Make predictions on the test set using RandomForestClassifier\n",
        "    y_pred_rf = rf_model.predict(x_test)\n",
        "\n",
        "    # Calculate accuracy and other metrics for RandomForestClassifier\n",
        "    accuracy_rf = accuracy_score(y_test, y_pred_rf)\n",
        "    report_rf = classification_report(y_test, y_pred_rf, output_dict=True)\n",
        "\n",
        "    # Print accuracy for each iteration for RandomForestClassifier\n",
        "    print(f\"Iteration {i + 1} - RandomForest - Accuracy: {accuracy_rf:.4f}\")\n",
        "\n",
        "    # Accumulate metrics for averaging for RandomForestClassifier\n",
        "    average_metrics_rf['accuracy'] += accuracy_rf\n",
        "    average_metrics_rf['precision_0'] += report_rf['0']['precision']\n",
        "    average_metrics_rf['recall_0'] += report_rf['0']['recall']\n",
        "    average_metrics_rf['f1_0'] += report_rf['0']['f1-score']\n",
        "    average_metrics_rf['precision_1'] += report_rf['1']['precision']\n",
        "    average_metrics_rf['recall_1'] += report_rf['1']['recall']\n",
        "    average_metrics_rf['f1_1'] += report_rf['1']['f1-score']\n",
        "\n",
        "    # Train LogisticRegression\n",
        "    lr_model = LogisticRegression()\n",
        "    lr_model.fit(x_train, y_train)\n",
        "\n",
        "    # Make predictions on the test set using LogisticRegression\n",
        "    y_pred_lr = lr_model.predict(x_test)\n",
        "\n",
        "    # Calculate accuracy and other metrics for LogisticRegression\n",
        "    accuracy_lr = accuracy_score(y_test, y_pred_lr)\n",
        "    report_lr = classification_report(y_test, y_pred_lr, output_dict=True)\n",
        "\n",
        "    # Print accuracy for each iteration for LogisticRegression\n",
        "    print(f\"Iteration {i + 1} - LogisticRegression - Accuracy: {accuracy_lr:.4f}\")\n",
        "\n",
        "    # Accumulate metrics for averaging for LogisticRegression\n",
        "    average_metrics_lr['accuracy'] += accuracy_lr\n",
        "    average_metrics_lr['precision_0'] += report_lr['0']['precision']\n",
        "    average_metrics_lr['recall_0'] += report_lr['0']['recall']\n",
        "    average_metrics_lr['f1_0'] += report_lr['0']['f1-score']\n",
        "    average_metrics_lr['precision_1'] += report_lr['1']['precision']\n",
        "    average_metrics_lr['recall_1'] += report_lr['1']['recall']\n",
        "    average_metrics_lr['f1_1'] += report_lr['1']['f1-score']\n",
        "\n",
        "# Calculate average metrics for RandomForestClassifier\n",
        "for metric in average_metrics_rf:\n",
        "    average_metrics_rf[metric] /= num_iterations\n",
        "\n",
        "# Calculate average metrics for LogisticRegression\n",
        "for metric in average_metrics_lr:\n",
        "    average_metrics_lr[metric] /= num_iterations\n",
        "\n",
        "# Print the overall average metrics for RandomForestClassifier\n",
        "print(\"\\nOverall Average Metrics for RandomForestClassifier:\")\n",
        "print(\"Average Accuracy: {:.3f}\".format(average_metrics_rf['accuracy']))\n",
        "print(\"Average Precision (Class 0): {:.3f}\".format(average_metrics_rf['precision_0']))\n",
        "print(\"Average Recall (Class 0): {:.3f}\".format(average_metrics_rf['recall_0']))\n",
        "print(\"Average F1-Score (Class 0): {:.3f}\".format(average_metrics_rf['f1_0']))\n",
        "print(\"Average Precision (Class 1): {:.3f}\".format(average_metrics_rf['precision_1']))\n",
        "print(\"Average Recall (Class 1): {:.3f}\".format(average_metrics_rf['recall_1']))\n",
        "print(\"Average F1-Score (Class 1): {:.3f}\".format(average_metrics_rf['f1_1']))\n",
        "\n",
        "# Print the overall average metrics for LogisticRegression\n",
        "print(\"\\nOverall Average Metrics for LogisticRegression:\")\n",
        "print(\"Average Accuracy: {:.3f}\".format(average_metrics_lr['accuracy']))\n",
        "print(\"Average Precision (Class 0): {:.3f}\".format(average_metrics_lr['precision_0']))\n",
        "print(\"Average Recall (Class 0): {:.3f}\".format(average_metrics_lr['recall_0']))\n",
        "print(\"Average F1-Score (Class 0): {:.3f}\".format(average_metrics_lr['f1_0']))\n",
        "print(\"Average Precision (Class 1): {:.3f}\".format(average_metrics_lr['precision_1']))\n",
        "print(\"Average Recall (Class 1): {:.3f}\".format(average_metrics_lr['recall_1']))\n",
        "print(\"Average F1-Score (Class 1): {:.3f}\".format(average_metrics_lr['f1_1']))\n"
      ],
      "metadata": {
        "colab": {
          "base_uri": "https://localhost:8080/"
        },
        "id": "hmenpGg-wlqh",
        "outputId": "8094b483-624d-4cfb-8c5d-4f8c99a40083"
      },
      "execution_count": null,
      "outputs": [
        {
          "output_type": "stream",
          "name": "stdout",
          "text": [
            "Iteration 1 - RandomForest - Accuracy: 0.9992\n",
            "Iteration 1 - LogisticRegression - Accuracy: 0.8926\n",
            "Iteration 2 - RandomForest - Accuracy: 0.9985\n",
            "Iteration 2 - LogisticRegression - Accuracy: 0.8953\n",
            "Iteration 3 - RandomForest - Accuracy: 0.9970\n",
            "Iteration 3 - LogisticRegression - Accuracy: 0.8911\n",
            "Iteration 4 - RandomForest - Accuracy: 0.9977\n",
            "Iteration 4 - LogisticRegression - Accuracy: 0.9017\n",
            "Iteration 5 - RandomForest - Accuracy: 0.9977\n",
            "Iteration 5 - LogisticRegression - Accuracy: 0.8900\n",
            "Iteration 6 - RandomForest - Accuracy: 0.9981\n",
            "Iteration 6 - LogisticRegression - Accuracy: 0.8836\n",
            "Iteration 7 - RandomForest - Accuracy: 0.9985\n",
            "Iteration 7 - LogisticRegression - Accuracy: 0.8938\n",
            "Iteration 8 - RandomForest - Accuracy: 0.9989\n",
            "Iteration 8 - LogisticRegression - Accuracy: 0.8790\n",
            "Iteration 9 - RandomForest - Accuracy: 0.9974\n",
            "Iteration 9 - LogisticRegression - Accuracy: 0.8896\n",
            "Iteration 10 - RandomForest - Accuracy: 0.9974\n",
            "Iteration 10 - LogisticRegression - Accuracy: 0.9013\n",
            "Iteration 11 - RandomForest - Accuracy: 0.9985\n",
            "Iteration 11 - LogisticRegression - Accuracy: 0.8960\n",
            "Iteration 12 - RandomForest - Accuracy: 0.9977\n",
            "Iteration 12 - LogisticRegression - Accuracy: 0.8968\n",
            "Iteration 13 - RandomForest - Accuracy: 0.9989\n",
            "Iteration 13 - LogisticRegression - Accuracy: 0.8888\n",
            "Iteration 14 - RandomForest - Accuracy: 0.9981\n",
            "Iteration 14 - LogisticRegression - Accuracy: 0.8843\n",
            "Iteration 15 - RandomForest - Accuracy: 0.9981\n",
            "Iteration 15 - LogisticRegression - Accuracy: 0.9055\n",
            "Iteration 16 - RandomForest - Accuracy: 0.9981\n",
            "Iteration 16 - LogisticRegression - Accuracy: 0.8900\n",
            "Iteration 17 - RandomForest - Accuracy: 0.9989\n",
            "Iteration 17 - LogisticRegression - Accuracy: 0.8957\n",
            "Iteration 18 - RandomForest - Accuracy: 0.9981\n",
            "Iteration 18 - LogisticRegression - Accuracy: 0.8839\n",
            "Iteration 19 - RandomForest - Accuracy: 0.9992\n",
            "Iteration 19 - LogisticRegression - Accuracy: 0.8919\n",
            "Iteration 20 - RandomForest - Accuracy: 0.9992\n",
            "Iteration 20 - LogisticRegression - Accuracy: 0.8968\n",
            "Iteration 21 - RandomForest - Accuracy: 0.9989\n",
            "Iteration 21 - LogisticRegression - Accuracy: 0.8945\n",
            "Iteration 22 - RandomForest - Accuracy: 0.9989\n",
            "Iteration 22 - LogisticRegression - Accuracy: 0.8877\n",
            "Iteration 23 - RandomForest - Accuracy: 0.9977\n",
            "Iteration 23 - LogisticRegression - Accuracy: 0.8987\n",
            "Iteration 24 - RandomForest - Accuracy: 0.9989\n",
            "Iteration 24 - LogisticRegression - Accuracy: 0.8915\n",
            "Iteration 25 - RandomForest - Accuracy: 0.9989\n",
            "Iteration 25 - LogisticRegression - Accuracy: 0.8941\n",
            "Iteration 26 - RandomForest - Accuracy: 0.9985\n",
            "Iteration 26 - LogisticRegression - Accuracy: 0.9051\n",
            "Iteration 27 - RandomForest - Accuracy: 0.9981\n",
            "Iteration 27 - LogisticRegression - Accuracy: 0.8957\n",
            "Iteration 28 - RandomForest - Accuracy: 0.9989\n",
            "Iteration 28 - LogisticRegression - Accuracy: 0.8975\n",
            "Iteration 29 - RandomForest - Accuracy: 0.9977\n",
            "Iteration 29 - LogisticRegression - Accuracy: 0.8991\n",
            "Iteration 30 - RandomForest - Accuracy: 0.9970\n",
            "Iteration 30 - LogisticRegression - Accuracy: 0.8964\n",
            "Iteration 31 - RandomForest - Accuracy: 0.9977\n",
            "Iteration 31 - LogisticRegression - Accuracy: 0.8930\n",
            "Iteration 32 - RandomForest - Accuracy: 0.9981\n",
            "Iteration 32 - LogisticRegression - Accuracy: 0.8911\n",
            "Iteration 33 - RandomForest - Accuracy: 0.9981\n",
            "Iteration 33 - LogisticRegression - Accuracy: 0.9074\n",
            "Iteration 34 - RandomForest - Accuracy: 0.9985\n",
            "Iteration 34 - LogisticRegression - Accuracy: 0.8877\n",
            "Iteration 35 - RandomForest - Accuracy: 0.9977\n",
            "Iteration 35 - LogisticRegression - Accuracy: 0.8998\n",
            "Iteration 36 - RandomForest - Accuracy: 0.9981\n",
            "Iteration 36 - LogisticRegression - Accuracy: 0.8960\n",
            "Iteration 37 - RandomForest - Accuracy: 0.9981\n",
            "Iteration 37 - LogisticRegression - Accuracy: 0.8960\n",
            "Iteration 38 - RandomForest - Accuracy: 0.9992\n",
            "Iteration 38 - LogisticRegression - Accuracy: 0.8957\n",
            "Iteration 39 - RandomForest - Accuracy: 0.9981\n",
            "Iteration 39 - LogisticRegression - Accuracy: 0.8934\n",
            "Iteration 40 - RandomForest - Accuracy: 0.9985\n",
            "Iteration 40 - LogisticRegression - Accuracy: 0.8854\n",
            "Iteration 41 - RandomForest - Accuracy: 0.9981\n",
            "Iteration 41 - LogisticRegression - Accuracy: 0.8938\n",
            "Iteration 42 - RandomForest - Accuracy: 0.9992\n",
            "Iteration 42 - LogisticRegression - Accuracy: 0.8968\n",
            "Iteration 43 - RandomForest - Accuracy: 0.9981\n",
            "Iteration 43 - LogisticRegression - Accuracy: 0.8964\n",
            "Iteration 44 - RandomForest - Accuracy: 0.9989\n",
            "Iteration 44 - LogisticRegression - Accuracy: 0.8975\n",
            "Iteration 45 - RandomForest - Accuracy: 0.9985\n",
            "Iteration 45 - LogisticRegression - Accuracy: 0.8877\n",
            "Iteration 46 - RandomForest - Accuracy: 0.9970\n",
            "Iteration 46 - LogisticRegression - Accuracy: 0.9017\n",
            "Iteration 47 - RandomForest - Accuracy: 0.9989\n",
            "Iteration 47 - LogisticRegression - Accuracy: 0.8972\n",
            "Iteration 48 - RandomForest - Accuracy: 0.9996\n",
            "Iteration 48 - LogisticRegression - Accuracy: 0.8926\n",
            "Iteration 49 - RandomForest - Accuracy: 0.9989\n",
            "Iteration 49 - LogisticRegression - Accuracy: 0.8885\n",
            "Iteration 50 - RandomForest - Accuracy: 0.9985\n",
            "Iteration 50 - LogisticRegression - Accuracy: 0.8915\n",
            "Iteration 51 - RandomForest - Accuracy: 0.9989\n",
            "Iteration 51 - LogisticRegression - Accuracy: 0.8941\n",
            "Iteration 52 - RandomForest - Accuracy: 0.9989\n",
            "Iteration 52 - LogisticRegression - Accuracy: 0.8960\n",
            "Iteration 53 - RandomForest - Accuracy: 0.9981\n",
            "Iteration 53 - LogisticRegression - Accuracy: 0.8964\n",
            "Iteration 54 - RandomForest - Accuracy: 0.9985\n",
            "Iteration 54 - LogisticRegression - Accuracy: 0.8866\n",
            "Iteration 55 - RandomForest - Accuracy: 0.9989\n",
            "Iteration 55 - LogisticRegression - Accuracy: 0.8919\n",
            "Iteration 56 - RandomForest - Accuracy: 0.9974\n",
            "Iteration 56 - LogisticRegression - Accuracy: 0.8892\n",
            "Iteration 57 - RandomForest - Accuracy: 0.9977\n",
            "Iteration 57 - LogisticRegression - Accuracy: 0.8949\n",
            "Iteration 58 - RandomForest - Accuracy: 0.9989\n",
            "Iteration 58 - LogisticRegression - Accuracy: 0.8783\n",
            "Iteration 59 - RandomForest - Accuracy: 0.9977\n",
            "Iteration 59 - LogisticRegression - Accuracy: 0.8881\n",
            "Iteration 60 - RandomForest - Accuracy: 0.9974\n",
            "Iteration 60 - LogisticRegression - Accuracy: 0.8911\n",
            "Iteration 61 - RandomForest - Accuracy: 0.9989\n",
            "Iteration 61 - LogisticRegression - Accuracy: 0.8881\n",
            "Iteration 62 - RandomForest - Accuracy: 0.9989\n",
            "Iteration 62 - LogisticRegression - Accuracy: 0.9025\n",
            "Iteration 63 - RandomForest - Accuracy: 0.9977\n",
            "Iteration 63 - LogisticRegression - Accuracy: 0.8945\n",
            "Iteration 64 - RandomForest - Accuracy: 0.9992\n",
            "Iteration 64 - LogisticRegression - Accuracy: 0.8892\n",
            "Iteration 65 - RandomForest - Accuracy: 0.9985\n",
            "Iteration 65 - LogisticRegression - Accuracy: 0.8957\n",
            "Iteration 66 - RandomForest - Accuracy: 0.9985\n",
            "Iteration 66 - LogisticRegression - Accuracy: 0.8998\n",
            "Iteration 67 - RandomForest - Accuracy: 0.9981\n",
            "Iteration 67 - LogisticRegression - Accuracy: 0.8896\n",
            "Iteration 68 - RandomForest - Accuracy: 0.9985\n",
            "Iteration 68 - LogisticRegression - Accuracy: 0.8885\n",
            "Iteration 69 - RandomForest - Accuracy: 0.9996\n",
            "Iteration 69 - LogisticRegression - Accuracy: 0.8771\n",
            "Iteration 70 - RandomForest - Accuracy: 0.9989\n",
            "Iteration 70 - LogisticRegression - Accuracy: 0.8881\n",
            "Iteration 71 - RandomForest - Accuracy: 0.9985\n",
            "Iteration 71 - LogisticRegression - Accuracy: 0.8904\n",
            "Iteration 72 - RandomForest - Accuracy: 0.9989\n",
            "Iteration 72 - LogisticRegression - Accuracy: 0.8964\n",
            "Iteration 73 - RandomForest - Accuracy: 0.9981\n",
            "Iteration 73 - LogisticRegression - Accuracy: 0.8930\n",
            "Iteration 74 - RandomForest - Accuracy: 0.9989\n",
            "Iteration 74 - LogisticRegression - Accuracy: 0.8953\n",
            "Iteration 75 - RandomForest - Accuracy: 0.9985\n",
            "Iteration 75 - LogisticRegression - Accuracy: 0.8828\n",
            "Iteration 76 - RandomForest - Accuracy: 0.9985\n",
            "Iteration 76 - LogisticRegression - Accuracy: 0.8907\n",
            "Iteration 77 - RandomForest - Accuracy: 0.9996\n",
            "Iteration 77 - LogisticRegression - Accuracy: 0.8847\n",
            "Iteration 78 - RandomForest - Accuracy: 0.9977\n",
            "Iteration 78 - LogisticRegression - Accuracy: 0.8904\n",
            "Iteration 79 - RandomForest - Accuracy: 0.9992\n",
            "Iteration 79 - LogisticRegression - Accuracy: 0.8907\n",
            "Iteration 80 - RandomForest - Accuracy: 0.9992\n",
            "Iteration 80 - LogisticRegression - Accuracy: 0.8987\n",
            "Iteration 81 - RandomForest - Accuracy: 0.9989\n",
            "Iteration 81 - LogisticRegression - Accuracy: 0.8915\n",
            "Iteration 82 - RandomForest - Accuracy: 0.9981\n",
            "Iteration 82 - LogisticRegression - Accuracy: 0.8957\n",
            "Iteration 83 - RandomForest - Accuracy: 0.9985\n",
            "Iteration 83 - LogisticRegression - Accuracy: 0.8843\n",
            "Iteration 84 - RandomForest - Accuracy: 0.9974\n",
            "Iteration 84 - LogisticRegression - Accuracy: 0.8881\n",
            "Iteration 85 - RandomForest - Accuracy: 0.9977\n",
            "Iteration 85 - LogisticRegression - Accuracy: 0.8915\n",
            "Iteration 86 - RandomForest - Accuracy: 0.9974\n",
            "Iteration 86 - LogisticRegression - Accuracy: 0.8794\n",
            "Iteration 87 - RandomForest - Accuracy: 0.9974\n",
            "Iteration 87 - LogisticRegression - Accuracy: 0.8930\n",
            "Iteration 88 - RandomForest - Accuracy: 0.9970\n",
            "Iteration 88 - LogisticRegression - Accuracy: 0.9009\n",
            "Iteration 89 - RandomForest - Accuracy: 0.9989\n",
            "Iteration 89 - LogisticRegression - Accuracy: 0.8881\n",
            "Iteration 90 - RandomForest - Accuracy: 0.9992\n",
            "Iteration 90 - LogisticRegression - Accuracy: 0.8938\n",
            "Iteration 91 - RandomForest - Accuracy: 0.9977\n",
            "Iteration 91 - LogisticRegression - Accuracy: 0.8885\n",
            "Iteration 92 - RandomForest - Accuracy: 0.9996\n",
            "Iteration 92 - LogisticRegression - Accuracy: 0.8892\n",
            "Iteration 93 - RandomForest - Accuracy: 0.9989\n",
            "Iteration 93 - LogisticRegression - Accuracy: 0.8904\n",
            "Iteration 94 - RandomForest - Accuracy: 0.9989\n",
            "Iteration 94 - LogisticRegression - Accuracy: 0.8926\n",
            "Iteration 95 - RandomForest - Accuracy: 0.9992\n",
            "Iteration 95 - LogisticRegression - Accuracy: 0.8957\n",
            "Iteration 96 - RandomForest - Accuracy: 0.9992\n",
            "Iteration 96 - LogisticRegression - Accuracy: 0.8911\n",
            "Iteration 97 - RandomForest - Accuracy: 0.9981\n",
            "Iteration 97 - LogisticRegression - Accuracy: 0.8896\n",
            "Iteration 98 - RandomForest - Accuracy: 0.9996\n",
            "Iteration 98 - LogisticRegression - Accuracy: 0.8941\n",
            "Iteration 99 - RandomForest - Accuracy: 0.9985\n",
            "Iteration 99 - LogisticRegression - Accuracy: 0.8904\n",
            "Iteration 100 - RandomForest - Accuracy: 0.9985\n",
            "Iteration 100 - LogisticRegression - Accuracy: 0.9070\n",
            "\n",
            "Overall Average Metrics for RandomForestClassifier:\n",
            "Average Accuracy: 0.998\n",
            "Average Precision (Class 0): 1.000\n",
            "Average Recall (Class 0): 0.997\n",
            "Average F1-Score (Class 0): 0.998\n",
            "Average Precision (Class 1): 0.997\n",
            "Average Recall (Class 1): 1.000\n",
            "Average F1-Score (Class 1): 0.998\n",
            "\n",
            "Overall Average Metrics for LogisticRegression:\n",
            "Average Accuracy: 0.893\n",
            "Average Precision (Class 0): 0.907\n",
            "Average Recall (Class 0): 0.876\n",
            "Average F1-Score (Class 0): 0.891\n",
            "Average Precision (Class 1): 0.880\n",
            "Average Recall (Class 1): 0.910\n",
            "Average F1-Score (Class 1): 0.894\n"
          ]
        }
      ]
    },
    {
      "cell_type": "code",
      "source": [
        "print(x_train)"
      ],
      "metadata": {
        "colab": {
          "base_uri": "https://localhost:8080/"
        },
        "id": "4SDRVarMegk5",
        "outputId": "82d8fa1c-a6cf-4fef-9322-46385932bff8"
      },
      "execution_count": null,
      "outputs": [
        {
          "output_type": "stream",
          "name": "stdout",
          "text": [
            "[[ 1.          0.         -1.36576354 -0.83672899 -0.88814205]\n",
            " [ 1.          0.         -1.75785182 -2.16979346 -2.30656039]\n",
            " [ 0.          1.         -1.75785182 -2.16979346 -2.30656039]\n",
            " ...\n",
            " [ 0.          1.         -0.53716319 -0.03689031  0.40132918]\n",
            " [ 0.          1.         -1.75785182 -2.19645475 -2.24208683]\n",
            " [ 1.          0.         -1.75785182 -2.16979346 -2.17761327]]\n"
          ]
        }
      ]
    }
  ],
  "metadata": {
    "colab": {
      "provenance": []
    },
    "kernelspec": {
      "display_name": "Python 3",
      "name": "python3"
    },
    "language_info": {
      "name": "python"
    }
  },
  "nbformat": 4,
  "nbformat_minor": 0
}